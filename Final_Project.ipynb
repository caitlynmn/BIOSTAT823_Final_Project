{
  "nbformat": 4,
  "nbformat_minor": 0,
  "metadata": {
    "colab": {
      "provenance": [],
      "toc_visible": true
    },
    "kernelspec": {
      "name": "python3",
      "display_name": "Python 3"
    },
    "language_info": {
      "name": "python"
    }
  },
  "cells": [
    {
      "cell_type": "markdown",
      "source": [
        "# BIOSTAT823 Final Project\n",
        "\n",
        "Caitlyn Nguyen\n",
        "\n",
        "\n",
        "In this notebook, we explore different neural network architectures to predict for in-hospital mortality using the \"In Hospital Mortality Prediction\" data set, which is taken from https://www.kaggle.com/datasets/saurabhshahane/in-hospital-mortality-prediction. This dataset was derived from the MIMIC III dataset, and includes demographic characteristics (age, sex, ethnicity, weight, and height), vital signs (all continuous variables), comorbidities (all binary variables), and laboratory variables (all continuous variables).\n",
        "\n",
        "\n",
        "The demographic characteristics and vital signs were taken once during the first 24 hours of ICU admission, laboratory variables were measured throughout the entire ICU stay, and comorbidities were determined via ICD-9 codes. The mean value was reported if there were multiple measurements of a variable recorded throughout the ICU stay. The primary outcome was in-hospital mortality, defined as the vital status of the patient at the time of discharge."
      ],
      "metadata": {
        "id": "rncbu56JQ9dD"
      }
    },
    {
      "cell_type": "markdown",
      "source": [
        "## Library Import"
      ],
      "metadata": {
        "id": "pExTC6DlfOmI"
      }
    },
    {
      "cell_type": "code",
      "execution_count": 349,
      "metadata": {
        "id": "lr_qgyKuQ6hq"
      },
      "outputs": [],
      "source": [
        "# Library import\n",
        "import os\n",
        "import numpy as np\n",
        "import math\n",
        "import random\n",
        "import matplotlib.pyplot as plt\n",
        "import pandas as pd\n",
        "import tensorflow as tf\n",
        "\n",
        "from sklearn.impute import SimpleImputer\n",
        "from sklearn.model_selection import train_test_split\n",
        "from sklearn.preprocessing import MinMaxScaler\n",
        "from sklearn.metrics import mean_squared_error\n",
        "from sklearn import metrics\n",
        "from sklearn.utils import compute_class_weight\n",
        "from tensorflow import keras\n",
        "from tensorflow.keras import Sequential \n",
        "from tensorflow.keras import layers\n",
        "from tensorflow.keras.layers import Dense, Dropout\n",
        "from tensorflow.keras import optimizers\n",
        "from tensorflow.keras import regularizers\n",
        "from tensorflow.keras import callbacks\n",
        "from tensorflow.keras.callbacks import EarlyStopping\n",
        "from sklearn.metrics import confusion_matrix\n",
        "from sklearn.metrics import roc_curve\n",
        "from sklearn.metrics import roc_auc_score\n",
        "from sklearn.metrics import auc\n",
        "from sklearn.metrics import precision_recall_curve\n",
        "from sklearn.metrics import f1_score"
      ]
    },
    {
      "cell_type": "markdown",
      "source": [
        "## Importing Data"
      ],
      "metadata": {
        "id": "zn0IDS-yfWrs"
      }
    },
    {
      "cell_type": "markdown",
      "source": [
        "The imported dataset had a size of 1177 x 51."
      ],
      "metadata": {
        "id": "riJ3h62Z_X-T"
      }
    },
    {
      "cell_type": "code",
      "source": [
        "# Set Seed\n",
        "tf.random.set_seed(1)"
      ],
      "metadata": {
        "id": "1sqxt34PRbRL"
      },
      "execution_count": 2,
      "outputs": []
    },
    {
      "cell_type": "code",
      "source": [
        "# All data\n",
        "df = pd.read_csv(\"data01.csv\")\n",
        "print(df.shape)\n",
        "df.head(5)"
      ],
      "metadata": {
        "colab": {
          "base_uri": "https://localhost:8080/",
          "height": 369
        },
        "id": "RmGFf7QeRbwU",
        "outputId": "4f8c227d-a537-4da8-d29f-b0f6640ea8b8"
      },
      "execution_count": 26,
      "outputs": [
        {
          "output_type": "stream",
          "name": "stdout",
          "text": [
            "(1177, 51)\n"
          ]
        },
        {
          "output_type": "execute_result",
          "data": {
            "text/plain": [
              "   group      ID  outcome  age  gendera        BMI  hypertensive  \\\n",
              "0      1  125047      0.0   72        1  37.588179             0   \n",
              "1      1  139812      0.0   75        2        NaN             0   \n",
              "2      1  109787      0.0   83        2  26.572634             0   \n",
              "3      1  130587      0.0   43        2  83.264629             0   \n",
              "4      1  138290      0.0   75        2  31.824842             1   \n",
              "\n",
              "   atrialfibrillation  CHD with no MI  diabetes  ...  Blood sodium  \\\n",
              "0                   0               0         1  ...    138.750000   \n",
              "1                   0               0         0  ...    138.888889   \n",
              "2                   0               0         0  ...    140.714286   \n",
              "3                   0               0         0  ...    138.500000   \n",
              "4                   0               0         0  ...    136.666667   \n",
              "\n",
              "   Blood calcium    Chloride  Anion gap  Magnesium ion     PH  Bicarbonate  \\\n",
              "0       7.463636  109.166667  13.166667       2.618182  7.230    21.166667   \n",
              "1       8.162500   98.444444  11.444444       1.887500  7.225    33.444444   \n",
              "2       8.266667  105.857143  10.000000       2.157143  7.268    30.571429   \n",
              "3       9.476923   92.071429  12.357143       1.942857  7.370    38.571429   \n",
              "4       8.733333  104.500000  15.166667       1.650000  7.250    22.000000   \n",
              "\n",
              "   Lactic acid  PCO2  EF  \n",
              "0          0.5  40.0  55  \n",
              "1          0.5  78.0  55  \n",
              "2          0.5  71.5  35  \n",
              "3          0.6  75.0  55  \n",
              "4          0.6  50.0  55  \n",
              "\n",
              "[5 rows x 51 columns]"
            ],
            "text/html": [
              "\n",
              "  <div id=\"df-0b832996-3dab-482e-9a21-d79ee8ec74cf\">\n",
              "    <div class=\"colab-df-container\">\n",
              "      <div>\n",
              "<style scoped>\n",
              "    .dataframe tbody tr th:only-of-type {\n",
              "        vertical-align: middle;\n",
              "    }\n",
              "\n",
              "    .dataframe tbody tr th {\n",
              "        vertical-align: top;\n",
              "    }\n",
              "\n",
              "    .dataframe thead th {\n",
              "        text-align: right;\n",
              "    }\n",
              "</style>\n",
              "<table border=\"1\" class=\"dataframe\">\n",
              "  <thead>\n",
              "    <tr style=\"text-align: right;\">\n",
              "      <th></th>\n",
              "      <th>group</th>\n",
              "      <th>ID</th>\n",
              "      <th>outcome</th>\n",
              "      <th>age</th>\n",
              "      <th>gendera</th>\n",
              "      <th>BMI</th>\n",
              "      <th>hypertensive</th>\n",
              "      <th>atrialfibrillation</th>\n",
              "      <th>CHD with no MI</th>\n",
              "      <th>diabetes</th>\n",
              "      <th>...</th>\n",
              "      <th>Blood sodium</th>\n",
              "      <th>Blood calcium</th>\n",
              "      <th>Chloride</th>\n",
              "      <th>Anion gap</th>\n",
              "      <th>Magnesium ion</th>\n",
              "      <th>PH</th>\n",
              "      <th>Bicarbonate</th>\n",
              "      <th>Lactic acid</th>\n",
              "      <th>PCO2</th>\n",
              "      <th>EF</th>\n",
              "    </tr>\n",
              "  </thead>\n",
              "  <tbody>\n",
              "    <tr>\n",
              "      <th>0</th>\n",
              "      <td>1</td>\n",
              "      <td>125047</td>\n",
              "      <td>0.0</td>\n",
              "      <td>72</td>\n",
              "      <td>1</td>\n",
              "      <td>37.588179</td>\n",
              "      <td>0</td>\n",
              "      <td>0</td>\n",
              "      <td>0</td>\n",
              "      <td>1</td>\n",
              "      <td>...</td>\n",
              "      <td>138.750000</td>\n",
              "      <td>7.463636</td>\n",
              "      <td>109.166667</td>\n",
              "      <td>13.166667</td>\n",
              "      <td>2.618182</td>\n",
              "      <td>7.230</td>\n",
              "      <td>21.166667</td>\n",
              "      <td>0.5</td>\n",
              "      <td>40.0</td>\n",
              "      <td>55</td>\n",
              "    </tr>\n",
              "    <tr>\n",
              "      <th>1</th>\n",
              "      <td>1</td>\n",
              "      <td>139812</td>\n",
              "      <td>0.0</td>\n",
              "      <td>75</td>\n",
              "      <td>2</td>\n",
              "      <td>NaN</td>\n",
              "      <td>0</td>\n",
              "      <td>0</td>\n",
              "      <td>0</td>\n",
              "      <td>0</td>\n",
              "      <td>...</td>\n",
              "      <td>138.888889</td>\n",
              "      <td>8.162500</td>\n",
              "      <td>98.444444</td>\n",
              "      <td>11.444444</td>\n",
              "      <td>1.887500</td>\n",
              "      <td>7.225</td>\n",
              "      <td>33.444444</td>\n",
              "      <td>0.5</td>\n",
              "      <td>78.0</td>\n",
              "      <td>55</td>\n",
              "    </tr>\n",
              "    <tr>\n",
              "      <th>2</th>\n",
              "      <td>1</td>\n",
              "      <td>109787</td>\n",
              "      <td>0.0</td>\n",
              "      <td>83</td>\n",
              "      <td>2</td>\n",
              "      <td>26.572634</td>\n",
              "      <td>0</td>\n",
              "      <td>0</td>\n",
              "      <td>0</td>\n",
              "      <td>0</td>\n",
              "      <td>...</td>\n",
              "      <td>140.714286</td>\n",
              "      <td>8.266667</td>\n",
              "      <td>105.857143</td>\n",
              "      <td>10.000000</td>\n",
              "      <td>2.157143</td>\n",
              "      <td>7.268</td>\n",
              "      <td>30.571429</td>\n",
              "      <td>0.5</td>\n",
              "      <td>71.5</td>\n",
              "      <td>35</td>\n",
              "    </tr>\n",
              "    <tr>\n",
              "      <th>3</th>\n",
              "      <td>1</td>\n",
              "      <td>130587</td>\n",
              "      <td>0.0</td>\n",
              "      <td>43</td>\n",
              "      <td>2</td>\n",
              "      <td>83.264629</td>\n",
              "      <td>0</td>\n",
              "      <td>0</td>\n",
              "      <td>0</td>\n",
              "      <td>0</td>\n",
              "      <td>...</td>\n",
              "      <td>138.500000</td>\n",
              "      <td>9.476923</td>\n",
              "      <td>92.071429</td>\n",
              "      <td>12.357143</td>\n",
              "      <td>1.942857</td>\n",
              "      <td>7.370</td>\n",
              "      <td>38.571429</td>\n",
              "      <td>0.6</td>\n",
              "      <td>75.0</td>\n",
              "      <td>55</td>\n",
              "    </tr>\n",
              "    <tr>\n",
              "      <th>4</th>\n",
              "      <td>1</td>\n",
              "      <td>138290</td>\n",
              "      <td>0.0</td>\n",
              "      <td>75</td>\n",
              "      <td>2</td>\n",
              "      <td>31.824842</td>\n",
              "      <td>1</td>\n",
              "      <td>0</td>\n",
              "      <td>0</td>\n",
              "      <td>0</td>\n",
              "      <td>...</td>\n",
              "      <td>136.666667</td>\n",
              "      <td>8.733333</td>\n",
              "      <td>104.500000</td>\n",
              "      <td>15.166667</td>\n",
              "      <td>1.650000</td>\n",
              "      <td>7.250</td>\n",
              "      <td>22.000000</td>\n",
              "      <td>0.6</td>\n",
              "      <td>50.0</td>\n",
              "      <td>55</td>\n",
              "    </tr>\n",
              "  </tbody>\n",
              "</table>\n",
              "<p>5 rows × 51 columns</p>\n",
              "</div>\n",
              "      <button class=\"colab-df-convert\" onclick=\"convertToInteractive('df-0b832996-3dab-482e-9a21-d79ee8ec74cf')\"\n",
              "              title=\"Convert this dataframe to an interactive table.\"\n",
              "              style=\"display:none;\">\n",
              "        \n",
              "  <svg xmlns=\"http://www.w3.org/2000/svg\" height=\"24px\"viewBox=\"0 0 24 24\"\n",
              "       width=\"24px\">\n",
              "    <path d=\"M0 0h24v24H0V0z\" fill=\"none\"/>\n",
              "    <path d=\"M18.56 5.44l.94 2.06.94-2.06 2.06-.94-2.06-.94-.94-2.06-.94 2.06-2.06.94zm-11 1L8.5 8.5l.94-2.06 2.06-.94-2.06-.94L8.5 2.5l-.94 2.06-2.06.94zm10 10l.94 2.06.94-2.06 2.06-.94-2.06-.94-.94-2.06-.94 2.06-2.06.94z\"/><path d=\"M17.41 7.96l-1.37-1.37c-.4-.4-.92-.59-1.43-.59-.52 0-1.04.2-1.43.59L10.3 9.45l-7.72 7.72c-.78.78-.78 2.05 0 2.83L4 21.41c.39.39.9.59 1.41.59.51 0 1.02-.2 1.41-.59l7.78-7.78 2.81-2.81c.8-.78.8-2.07 0-2.86zM5.41 20L4 18.59l7.72-7.72 1.47 1.35L5.41 20z\"/>\n",
              "  </svg>\n",
              "      </button>\n",
              "      \n",
              "  <style>\n",
              "    .colab-df-container {\n",
              "      display:flex;\n",
              "      flex-wrap:wrap;\n",
              "      gap: 12px;\n",
              "    }\n",
              "\n",
              "    .colab-df-convert {\n",
              "      background-color: #E8F0FE;\n",
              "      border: none;\n",
              "      border-radius: 50%;\n",
              "      cursor: pointer;\n",
              "      display: none;\n",
              "      fill: #1967D2;\n",
              "      height: 32px;\n",
              "      padding: 0 0 0 0;\n",
              "      width: 32px;\n",
              "    }\n",
              "\n",
              "    .colab-df-convert:hover {\n",
              "      background-color: #E2EBFA;\n",
              "      box-shadow: 0px 1px 2px rgba(60, 64, 67, 0.3), 0px 1px 3px 1px rgba(60, 64, 67, 0.15);\n",
              "      fill: #174EA6;\n",
              "    }\n",
              "\n",
              "    [theme=dark] .colab-df-convert {\n",
              "      background-color: #3B4455;\n",
              "      fill: #D2E3FC;\n",
              "    }\n",
              "\n",
              "    [theme=dark] .colab-df-convert:hover {\n",
              "      background-color: #434B5C;\n",
              "      box-shadow: 0px 1px 3px 1px rgba(0, 0, 0, 0.15);\n",
              "      filter: drop-shadow(0px 1px 2px rgba(0, 0, 0, 0.3));\n",
              "      fill: #FFFFFF;\n",
              "    }\n",
              "  </style>\n",
              "\n",
              "      <script>\n",
              "        const buttonEl =\n",
              "          document.querySelector('#df-0b832996-3dab-482e-9a21-d79ee8ec74cf button.colab-df-convert');\n",
              "        buttonEl.style.display =\n",
              "          google.colab.kernel.accessAllowed ? 'block' : 'none';\n",
              "\n",
              "        async function convertToInteractive(key) {\n",
              "          const element = document.querySelector('#df-0b832996-3dab-482e-9a21-d79ee8ec74cf');\n",
              "          const dataTable =\n",
              "            await google.colab.kernel.invokeFunction('convertToInteractive',\n",
              "                                                     [key], {});\n",
              "          if (!dataTable) return;\n",
              "\n",
              "          const docLinkHtml = 'Like what you see? Visit the ' +\n",
              "            '<a target=\"_blank\" href=https://colab.research.google.com/notebooks/data_table.ipynb>data table notebook</a>'\n",
              "            + ' to learn more about interactive tables.';\n",
              "          element.innerHTML = '';\n",
              "          dataTable['output_type'] = 'display_data';\n",
              "          await google.colab.output.renderOutput(dataTable, element);\n",
              "          const docLink = document.createElement('div');\n",
              "          docLink.innerHTML = docLinkHtml;\n",
              "          element.appendChild(docLink);\n",
              "        }\n",
              "      </script>\n",
              "    </div>\n",
              "  </div>\n",
              "  "
            ]
          },
          "metadata": {},
          "execution_count": 26
        }
      ]
    },
    {
      "cell_type": "markdown",
      "source": [
        "## Data Cleaning"
      ],
      "metadata": {
        "id": "u2NGfLJUfY7T"
      }
    },
    {
      "cell_type": "markdown",
      "source": [
        "### Data Scaling\n",
        "We must first scale the continuous variables to be in range [0, 1] to standardize the image inputs for neural networks."
      ],
      "metadata": {
        "id": "W4Z7dVSI-zQz"
      }
    },
    {
      "cell_type": "code",
      "source": [
        "# Scale continuous vars\n",
        "noncont_cols = [\"group\", \"ID\", \"outcome\", \"gendera\", \"hypertensive\", \"atrialfibrillation\", \"CHD with no MI\", \"diabetes\",\n",
        "                  \"deficiencyanemias\",\"depression\",\"Hyperlipemia\",\"Renal failure\",\"COPD\"]\n",
        "all_cols = list(df.columns.values)\n",
        "cont_df = df.drop(noncont_cols, axis = 1)\n",
        "scaled_df = (cont_df-cont_df.min())/(cont_df.max()-cont_df.min())\n",
        "clean_df = pd.concat((df[noncont_cols], scaled_df), 1)\n",
        "print(clean_df.shape)\n",
        "clean_df.head(5)"
      ],
      "metadata": {
        "colab": {
          "base_uri": "https://localhost:8080/",
          "height": 404
        },
        "id": "7WVhDfraSQfN",
        "outputId": "9741c478-4309-4f5a-cae2-34576dce0684"
      },
      "execution_count": 27,
      "outputs": [
        {
          "output_type": "stream",
          "name": "stdout",
          "text": [
            "(1177, 51)\n"
          ]
        },
        {
          "output_type": "stream",
          "name": "stderr",
          "text": [
            "<ipython-input-27-a57081da2b61>:7: FutureWarning: In a future version of pandas all arguments of concat except for the argument 'objs' will be keyword-only\n",
            "  clean_df = pd.concat((df[noncont_cols], scaled_df), 1)\n"
          ]
        },
        {
          "output_type": "execute_result",
          "data": {
            "text/plain": [
              "   group      ID  outcome  gendera  hypertensive  atrialfibrillation  \\\n",
              "0      1  125047      0.0        1             0                   0   \n",
              "1      1  139812      0.0        2             0                   0   \n",
              "2      1  109787      0.0        2             0                   0   \n",
              "3      1  130587      0.0        2             0                   0   \n",
              "4      1  138290      0.0        2             1                   0   \n",
              "\n",
              "   CHD with no MI  diabetes  deficiencyanemias  depression  ...  Blood sodium  \\\n",
              "0               0         1                  1           0  ...      0.601029   \n",
              "1               0         0                  1           0  ...      0.604495   \n",
              "2               0         0                  1           0  ...      0.650050   \n",
              "3               0         0                  0           0  ...      0.594790   \n",
              "4               0         0                  1           0  ...      0.549037   \n",
              "\n",
              "   Blood calcium  Chloride  Anion gap  Magnesium ion        PH  Bicarbonate  \\\n",
              "0       0.179679  0.683867   0.346185       0.455782  0.285714     0.238714   \n",
              "1       0.344118  0.430145   0.254886       0.182398  0.275510     0.591427   \n",
              "2       0.368627  0.605553   0.178313       0.283285  0.363265     0.508892   \n",
              "3       0.653394  0.279339   0.303270       0.203110  0.571429     0.738714   \n",
              "4       0.478431  0.573439   0.452209       0.093537  0.326531     0.262654   \n",
              "\n",
              "   Lactic acid      PCO2        EF  \n",
              "0     0.000000  0.266124  0.666667  \n",
              "1     0.000000  0.742016  0.666667  \n",
              "2     0.000000  0.660614  0.333333  \n",
              "3     0.012766  0.704446  0.666667  \n",
              "4     0.012766  0.391359  0.666667  \n",
              "\n",
              "[5 rows x 51 columns]"
            ],
            "text/html": [
              "\n",
              "  <div id=\"df-b52d6fdd-d964-44b7-8e3e-524d85d16115\">\n",
              "    <div class=\"colab-df-container\">\n",
              "      <div>\n",
              "<style scoped>\n",
              "    .dataframe tbody tr th:only-of-type {\n",
              "        vertical-align: middle;\n",
              "    }\n",
              "\n",
              "    .dataframe tbody tr th {\n",
              "        vertical-align: top;\n",
              "    }\n",
              "\n",
              "    .dataframe thead th {\n",
              "        text-align: right;\n",
              "    }\n",
              "</style>\n",
              "<table border=\"1\" class=\"dataframe\">\n",
              "  <thead>\n",
              "    <tr style=\"text-align: right;\">\n",
              "      <th></th>\n",
              "      <th>group</th>\n",
              "      <th>ID</th>\n",
              "      <th>outcome</th>\n",
              "      <th>gendera</th>\n",
              "      <th>hypertensive</th>\n",
              "      <th>atrialfibrillation</th>\n",
              "      <th>CHD with no MI</th>\n",
              "      <th>diabetes</th>\n",
              "      <th>deficiencyanemias</th>\n",
              "      <th>depression</th>\n",
              "      <th>...</th>\n",
              "      <th>Blood sodium</th>\n",
              "      <th>Blood calcium</th>\n",
              "      <th>Chloride</th>\n",
              "      <th>Anion gap</th>\n",
              "      <th>Magnesium ion</th>\n",
              "      <th>PH</th>\n",
              "      <th>Bicarbonate</th>\n",
              "      <th>Lactic acid</th>\n",
              "      <th>PCO2</th>\n",
              "      <th>EF</th>\n",
              "    </tr>\n",
              "  </thead>\n",
              "  <tbody>\n",
              "    <tr>\n",
              "      <th>0</th>\n",
              "      <td>1</td>\n",
              "      <td>125047</td>\n",
              "      <td>0.0</td>\n",
              "      <td>1</td>\n",
              "      <td>0</td>\n",
              "      <td>0</td>\n",
              "      <td>0</td>\n",
              "      <td>1</td>\n",
              "      <td>1</td>\n",
              "      <td>0</td>\n",
              "      <td>...</td>\n",
              "      <td>0.601029</td>\n",
              "      <td>0.179679</td>\n",
              "      <td>0.683867</td>\n",
              "      <td>0.346185</td>\n",
              "      <td>0.455782</td>\n",
              "      <td>0.285714</td>\n",
              "      <td>0.238714</td>\n",
              "      <td>0.000000</td>\n",
              "      <td>0.266124</td>\n",
              "      <td>0.666667</td>\n",
              "    </tr>\n",
              "    <tr>\n",
              "      <th>1</th>\n",
              "      <td>1</td>\n",
              "      <td>139812</td>\n",
              "      <td>0.0</td>\n",
              "      <td>2</td>\n",
              "      <td>0</td>\n",
              "      <td>0</td>\n",
              "      <td>0</td>\n",
              "      <td>0</td>\n",
              "      <td>1</td>\n",
              "      <td>0</td>\n",
              "      <td>...</td>\n",
              "      <td>0.604495</td>\n",
              "      <td>0.344118</td>\n",
              "      <td>0.430145</td>\n",
              "      <td>0.254886</td>\n",
              "      <td>0.182398</td>\n",
              "      <td>0.275510</td>\n",
              "      <td>0.591427</td>\n",
              "      <td>0.000000</td>\n",
              "      <td>0.742016</td>\n",
              "      <td>0.666667</td>\n",
              "    </tr>\n",
              "    <tr>\n",
              "      <th>2</th>\n",
              "      <td>1</td>\n",
              "      <td>109787</td>\n",
              "      <td>0.0</td>\n",
              "      <td>2</td>\n",
              "      <td>0</td>\n",
              "      <td>0</td>\n",
              "      <td>0</td>\n",
              "      <td>0</td>\n",
              "      <td>1</td>\n",
              "      <td>0</td>\n",
              "      <td>...</td>\n",
              "      <td>0.650050</td>\n",
              "      <td>0.368627</td>\n",
              "      <td>0.605553</td>\n",
              "      <td>0.178313</td>\n",
              "      <td>0.283285</td>\n",
              "      <td>0.363265</td>\n",
              "      <td>0.508892</td>\n",
              "      <td>0.000000</td>\n",
              "      <td>0.660614</td>\n",
              "      <td>0.333333</td>\n",
              "    </tr>\n",
              "    <tr>\n",
              "      <th>3</th>\n",
              "      <td>1</td>\n",
              "      <td>130587</td>\n",
              "      <td>0.0</td>\n",
              "      <td>2</td>\n",
              "      <td>0</td>\n",
              "      <td>0</td>\n",
              "      <td>0</td>\n",
              "      <td>0</td>\n",
              "      <td>0</td>\n",
              "      <td>0</td>\n",
              "      <td>...</td>\n",
              "      <td>0.594790</td>\n",
              "      <td>0.653394</td>\n",
              "      <td>0.279339</td>\n",
              "      <td>0.303270</td>\n",
              "      <td>0.203110</td>\n",
              "      <td>0.571429</td>\n",
              "      <td>0.738714</td>\n",
              "      <td>0.012766</td>\n",
              "      <td>0.704446</td>\n",
              "      <td>0.666667</td>\n",
              "    </tr>\n",
              "    <tr>\n",
              "      <th>4</th>\n",
              "      <td>1</td>\n",
              "      <td>138290</td>\n",
              "      <td>0.0</td>\n",
              "      <td>2</td>\n",
              "      <td>1</td>\n",
              "      <td>0</td>\n",
              "      <td>0</td>\n",
              "      <td>0</td>\n",
              "      <td>1</td>\n",
              "      <td>0</td>\n",
              "      <td>...</td>\n",
              "      <td>0.549037</td>\n",
              "      <td>0.478431</td>\n",
              "      <td>0.573439</td>\n",
              "      <td>0.452209</td>\n",
              "      <td>0.093537</td>\n",
              "      <td>0.326531</td>\n",
              "      <td>0.262654</td>\n",
              "      <td>0.012766</td>\n",
              "      <td>0.391359</td>\n",
              "      <td>0.666667</td>\n",
              "    </tr>\n",
              "  </tbody>\n",
              "</table>\n",
              "<p>5 rows × 51 columns</p>\n",
              "</div>\n",
              "      <button class=\"colab-df-convert\" onclick=\"convertToInteractive('df-b52d6fdd-d964-44b7-8e3e-524d85d16115')\"\n",
              "              title=\"Convert this dataframe to an interactive table.\"\n",
              "              style=\"display:none;\">\n",
              "        \n",
              "  <svg xmlns=\"http://www.w3.org/2000/svg\" height=\"24px\"viewBox=\"0 0 24 24\"\n",
              "       width=\"24px\">\n",
              "    <path d=\"M0 0h24v24H0V0z\" fill=\"none\"/>\n",
              "    <path d=\"M18.56 5.44l.94 2.06.94-2.06 2.06-.94-2.06-.94-.94-2.06-.94 2.06-2.06.94zm-11 1L8.5 8.5l.94-2.06 2.06-.94-2.06-.94L8.5 2.5l-.94 2.06-2.06.94zm10 10l.94 2.06.94-2.06 2.06-.94-2.06-.94-.94-2.06-.94 2.06-2.06.94z\"/><path d=\"M17.41 7.96l-1.37-1.37c-.4-.4-.92-.59-1.43-.59-.52 0-1.04.2-1.43.59L10.3 9.45l-7.72 7.72c-.78.78-.78 2.05 0 2.83L4 21.41c.39.39.9.59 1.41.59.51 0 1.02-.2 1.41-.59l7.78-7.78 2.81-2.81c.8-.78.8-2.07 0-2.86zM5.41 20L4 18.59l7.72-7.72 1.47 1.35L5.41 20z\"/>\n",
              "  </svg>\n",
              "      </button>\n",
              "      \n",
              "  <style>\n",
              "    .colab-df-container {\n",
              "      display:flex;\n",
              "      flex-wrap:wrap;\n",
              "      gap: 12px;\n",
              "    }\n",
              "\n",
              "    .colab-df-convert {\n",
              "      background-color: #E8F0FE;\n",
              "      border: none;\n",
              "      border-radius: 50%;\n",
              "      cursor: pointer;\n",
              "      display: none;\n",
              "      fill: #1967D2;\n",
              "      height: 32px;\n",
              "      padding: 0 0 0 0;\n",
              "      width: 32px;\n",
              "    }\n",
              "\n",
              "    .colab-df-convert:hover {\n",
              "      background-color: #E2EBFA;\n",
              "      box-shadow: 0px 1px 2px rgba(60, 64, 67, 0.3), 0px 1px 3px 1px rgba(60, 64, 67, 0.15);\n",
              "      fill: #174EA6;\n",
              "    }\n",
              "\n",
              "    [theme=dark] .colab-df-convert {\n",
              "      background-color: #3B4455;\n",
              "      fill: #D2E3FC;\n",
              "    }\n",
              "\n",
              "    [theme=dark] .colab-df-convert:hover {\n",
              "      background-color: #434B5C;\n",
              "      box-shadow: 0px 1px 3px 1px rgba(0, 0, 0, 0.15);\n",
              "      filter: drop-shadow(0px 1px 2px rgba(0, 0, 0, 0.3));\n",
              "      fill: #FFFFFF;\n",
              "    }\n",
              "  </style>\n",
              "\n",
              "      <script>\n",
              "        const buttonEl =\n",
              "          document.querySelector('#df-b52d6fdd-d964-44b7-8e3e-524d85d16115 button.colab-df-convert');\n",
              "        buttonEl.style.display =\n",
              "          google.colab.kernel.accessAllowed ? 'block' : 'none';\n",
              "\n",
              "        async function convertToInteractive(key) {\n",
              "          const element = document.querySelector('#df-b52d6fdd-d964-44b7-8e3e-524d85d16115');\n",
              "          const dataTable =\n",
              "            await google.colab.kernel.invokeFunction('convertToInteractive',\n",
              "                                                     [key], {});\n",
              "          if (!dataTable) return;\n",
              "\n",
              "          const docLinkHtml = 'Like what you see? Visit the ' +\n",
              "            '<a target=\"_blank\" href=https://colab.research.google.com/notebooks/data_table.ipynb>data table notebook</a>'\n",
              "            + ' to learn more about interactive tables.';\n",
              "          element.innerHTML = '';\n",
              "          dataTable['output_type'] = 'display_data';\n",
              "          await google.colab.output.renderOutput(dataTable, element);\n",
              "          const docLink = document.createElement('div');\n",
              "          docLink.innerHTML = docLinkHtml;\n",
              "          element.appendChild(docLink);\n",
              "        }\n",
              "      </script>\n",
              "    </div>\n",
              "  </div>\n",
              "  "
            ]
          },
          "metadata": {},
          "execution_count": 27
        }
      ]
    },
    {
      "cell_type": "markdown",
      "source": [
        "### Missing Values\n",
        "\n",
        "We then check for missing values. One observation had a missing value for outcome. That individual was removed. We then performed mean imputation for those with missing laboratory values."
      ],
      "metadata": {
        "id": "11yRHw23--hd"
      }
    },
    {
      "cell_type": "code",
      "source": [
        "# Get number of NAs\n",
        "clean_df.isna().sum()"
      ],
      "metadata": {
        "colab": {
          "base_uri": "https://localhost:8080/"
        },
        "id": "X8wrQQpoTslN",
        "outputId": "ed399171-ca30-4293-e2bc-0fe872f844a4"
      },
      "execution_count": 28,
      "outputs": [
        {
          "output_type": "execute_result",
          "data": {
            "text/plain": [
              "group                         0\n",
              "ID                            0\n",
              "outcome                       1\n",
              "gendera                       0\n",
              "hypertensive                  0\n",
              "atrialfibrillation            0\n",
              "CHD with no MI                0\n",
              "diabetes                      0\n",
              "deficiencyanemias             0\n",
              "depression                    0\n",
              "Hyperlipemia                  0\n",
              "Renal failure                 0\n",
              "COPD                          0\n",
              "age                           0\n",
              "BMI                         215\n",
              "heart rate                   13\n",
              "Systolic blood pressure      16\n",
              "Diastolic blood pressure     16\n",
              "Respiratory rate             13\n",
              "temperature                  19\n",
              "SP O2                        13\n",
              "Urine output                 36\n",
              "hematocrit                    0\n",
              "RBC                           0\n",
              "MCH                           0\n",
              "MCHC                          0\n",
              "MCV                           0\n",
              "RDW                           0\n",
              "Leucocyte                     0\n",
              "Platelets                     0\n",
              "Neutrophils                 144\n",
              "Basophils                   259\n",
              "Lymphocyte                  145\n",
              "PT                           20\n",
              "INR                          20\n",
              "NT-proBNP                     0\n",
              "Creatine kinase             165\n",
              "Creatinine                    0\n",
              "Urea nitrogen                 0\n",
              "glucose                      18\n",
              "Blood potassium               0\n",
              "Blood sodium                  0\n",
              "Blood calcium                 1\n",
              "Chloride                      0\n",
              "Anion gap                     0\n",
              "Magnesium ion                 0\n",
              "PH                          292\n",
              "Bicarbonate                   0\n",
              "Lactic acid                 229\n",
              "PCO2                        294\n",
              "EF                            0\n",
              "dtype: int64"
            ]
          },
          "metadata": {},
          "execution_count": 28
        }
      ]
    },
    {
      "cell_type": "code",
      "source": [
        "# Remove where outcome is unknown\n",
        "clean_df2 = clean_df[~clean_df['outcome'].isna()]\n",
        "print(clean_df2.shape)\n",
        "clean_df2.head(5)"
      ],
      "metadata": {
        "colab": {
          "base_uri": "https://localhost:8080/",
          "height": 369
        },
        "id": "Eg29lDpoU0uV",
        "outputId": "34d40634-db3f-49ea-e198-e4054dfefdc8"
      },
      "execution_count": 173,
      "outputs": [
        {
          "output_type": "stream",
          "name": "stdout",
          "text": [
            "(1176, 51)\n"
          ]
        },
        {
          "output_type": "execute_result",
          "data": {
            "text/plain": [
              "   group      ID  outcome  gendera  hypertensive  atrialfibrillation  \\\n",
              "0      1  125047      0.0        1             0                   0   \n",
              "1      1  139812      0.0        2             0                   0   \n",
              "2      1  109787      0.0        2             0                   0   \n",
              "3      1  130587      0.0        2             0                   0   \n",
              "4      1  138290      0.0        2             1                   0   \n",
              "\n",
              "   CHD with no MI  diabetes  deficiencyanemias  depression  ...  Blood sodium  \\\n",
              "0               0         1                  1           0  ...      0.601029   \n",
              "1               0         0                  1           0  ...      0.604495   \n",
              "2               0         0                  1           0  ...      0.650050   \n",
              "3               0         0                  0           0  ...      0.594790   \n",
              "4               0         0                  1           0  ...      0.549037   \n",
              "\n",
              "   Blood calcium  Chloride  Anion gap  Magnesium ion        PH  Bicarbonate  \\\n",
              "0       0.179679  0.683867   0.346185       0.455782  0.285714     0.238714   \n",
              "1       0.344118  0.430145   0.254886       0.182398  0.275510     0.591427   \n",
              "2       0.368627  0.605553   0.178313       0.283285  0.363265     0.508892   \n",
              "3       0.653394  0.279339   0.303270       0.203110  0.571429     0.738714   \n",
              "4       0.478431  0.573439   0.452209       0.093537  0.326531     0.262654   \n",
              "\n",
              "   Lactic acid      PCO2        EF  \n",
              "0     0.000000  0.266124  0.666667  \n",
              "1     0.000000  0.742016  0.666667  \n",
              "2     0.000000  0.660614  0.333333  \n",
              "3     0.012766  0.704446  0.666667  \n",
              "4     0.012766  0.391359  0.666667  \n",
              "\n",
              "[5 rows x 51 columns]"
            ],
            "text/html": [
              "\n",
              "  <div id=\"df-697b5834-a2f2-45c9-8610-33bd45b24f1b\">\n",
              "    <div class=\"colab-df-container\">\n",
              "      <div>\n",
              "<style scoped>\n",
              "    .dataframe tbody tr th:only-of-type {\n",
              "        vertical-align: middle;\n",
              "    }\n",
              "\n",
              "    .dataframe tbody tr th {\n",
              "        vertical-align: top;\n",
              "    }\n",
              "\n",
              "    .dataframe thead th {\n",
              "        text-align: right;\n",
              "    }\n",
              "</style>\n",
              "<table border=\"1\" class=\"dataframe\">\n",
              "  <thead>\n",
              "    <tr style=\"text-align: right;\">\n",
              "      <th></th>\n",
              "      <th>group</th>\n",
              "      <th>ID</th>\n",
              "      <th>outcome</th>\n",
              "      <th>gendera</th>\n",
              "      <th>hypertensive</th>\n",
              "      <th>atrialfibrillation</th>\n",
              "      <th>CHD with no MI</th>\n",
              "      <th>diabetes</th>\n",
              "      <th>deficiencyanemias</th>\n",
              "      <th>depression</th>\n",
              "      <th>...</th>\n",
              "      <th>Blood sodium</th>\n",
              "      <th>Blood calcium</th>\n",
              "      <th>Chloride</th>\n",
              "      <th>Anion gap</th>\n",
              "      <th>Magnesium ion</th>\n",
              "      <th>PH</th>\n",
              "      <th>Bicarbonate</th>\n",
              "      <th>Lactic acid</th>\n",
              "      <th>PCO2</th>\n",
              "      <th>EF</th>\n",
              "    </tr>\n",
              "  </thead>\n",
              "  <tbody>\n",
              "    <tr>\n",
              "      <th>0</th>\n",
              "      <td>1</td>\n",
              "      <td>125047</td>\n",
              "      <td>0.0</td>\n",
              "      <td>1</td>\n",
              "      <td>0</td>\n",
              "      <td>0</td>\n",
              "      <td>0</td>\n",
              "      <td>1</td>\n",
              "      <td>1</td>\n",
              "      <td>0</td>\n",
              "      <td>...</td>\n",
              "      <td>0.601029</td>\n",
              "      <td>0.179679</td>\n",
              "      <td>0.683867</td>\n",
              "      <td>0.346185</td>\n",
              "      <td>0.455782</td>\n",
              "      <td>0.285714</td>\n",
              "      <td>0.238714</td>\n",
              "      <td>0.000000</td>\n",
              "      <td>0.266124</td>\n",
              "      <td>0.666667</td>\n",
              "    </tr>\n",
              "    <tr>\n",
              "      <th>1</th>\n",
              "      <td>1</td>\n",
              "      <td>139812</td>\n",
              "      <td>0.0</td>\n",
              "      <td>2</td>\n",
              "      <td>0</td>\n",
              "      <td>0</td>\n",
              "      <td>0</td>\n",
              "      <td>0</td>\n",
              "      <td>1</td>\n",
              "      <td>0</td>\n",
              "      <td>...</td>\n",
              "      <td>0.604495</td>\n",
              "      <td>0.344118</td>\n",
              "      <td>0.430145</td>\n",
              "      <td>0.254886</td>\n",
              "      <td>0.182398</td>\n",
              "      <td>0.275510</td>\n",
              "      <td>0.591427</td>\n",
              "      <td>0.000000</td>\n",
              "      <td>0.742016</td>\n",
              "      <td>0.666667</td>\n",
              "    </tr>\n",
              "    <tr>\n",
              "      <th>2</th>\n",
              "      <td>1</td>\n",
              "      <td>109787</td>\n",
              "      <td>0.0</td>\n",
              "      <td>2</td>\n",
              "      <td>0</td>\n",
              "      <td>0</td>\n",
              "      <td>0</td>\n",
              "      <td>0</td>\n",
              "      <td>1</td>\n",
              "      <td>0</td>\n",
              "      <td>...</td>\n",
              "      <td>0.650050</td>\n",
              "      <td>0.368627</td>\n",
              "      <td>0.605553</td>\n",
              "      <td>0.178313</td>\n",
              "      <td>0.283285</td>\n",
              "      <td>0.363265</td>\n",
              "      <td>0.508892</td>\n",
              "      <td>0.000000</td>\n",
              "      <td>0.660614</td>\n",
              "      <td>0.333333</td>\n",
              "    </tr>\n",
              "    <tr>\n",
              "      <th>3</th>\n",
              "      <td>1</td>\n",
              "      <td>130587</td>\n",
              "      <td>0.0</td>\n",
              "      <td>2</td>\n",
              "      <td>0</td>\n",
              "      <td>0</td>\n",
              "      <td>0</td>\n",
              "      <td>0</td>\n",
              "      <td>0</td>\n",
              "      <td>0</td>\n",
              "      <td>...</td>\n",
              "      <td>0.594790</td>\n",
              "      <td>0.653394</td>\n",
              "      <td>0.279339</td>\n",
              "      <td>0.303270</td>\n",
              "      <td>0.203110</td>\n",
              "      <td>0.571429</td>\n",
              "      <td>0.738714</td>\n",
              "      <td>0.012766</td>\n",
              "      <td>0.704446</td>\n",
              "      <td>0.666667</td>\n",
              "    </tr>\n",
              "    <tr>\n",
              "      <th>4</th>\n",
              "      <td>1</td>\n",
              "      <td>138290</td>\n",
              "      <td>0.0</td>\n",
              "      <td>2</td>\n",
              "      <td>1</td>\n",
              "      <td>0</td>\n",
              "      <td>0</td>\n",
              "      <td>0</td>\n",
              "      <td>1</td>\n",
              "      <td>0</td>\n",
              "      <td>...</td>\n",
              "      <td>0.549037</td>\n",
              "      <td>0.478431</td>\n",
              "      <td>0.573439</td>\n",
              "      <td>0.452209</td>\n",
              "      <td>0.093537</td>\n",
              "      <td>0.326531</td>\n",
              "      <td>0.262654</td>\n",
              "      <td>0.012766</td>\n",
              "      <td>0.391359</td>\n",
              "      <td>0.666667</td>\n",
              "    </tr>\n",
              "  </tbody>\n",
              "</table>\n",
              "<p>5 rows × 51 columns</p>\n",
              "</div>\n",
              "      <button class=\"colab-df-convert\" onclick=\"convertToInteractive('df-697b5834-a2f2-45c9-8610-33bd45b24f1b')\"\n",
              "              title=\"Convert this dataframe to an interactive table.\"\n",
              "              style=\"display:none;\">\n",
              "        \n",
              "  <svg xmlns=\"http://www.w3.org/2000/svg\" height=\"24px\"viewBox=\"0 0 24 24\"\n",
              "       width=\"24px\">\n",
              "    <path d=\"M0 0h24v24H0V0z\" fill=\"none\"/>\n",
              "    <path d=\"M18.56 5.44l.94 2.06.94-2.06 2.06-.94-2.06-.94-.94-2.06-.94 2.06-2.06.94zm-11 1L8.5 8.5l.94-2.06 2.06-.94-2.06-.94L8.5 2.5l-.94 2.06-2.06.94zm10 10l.94 2.06.94-2.06 2.06-.94-2.06-.94-.94-2.06-.94 2.06-2.06.94z\"/><path d=\"M17.41 7.96l-1.37-1.37c-.4-.4-.92-.59-1.43-.59-.52 0-1.04.2-1.43.59L10.3 9.45l-7.72 7.72c-.78.78-.78 2.05 0 2.83L4 21.41c.39.39.9.59 1.41.59.51 0 1.02-.2 1.41-.59l7.78-7.78 2.81-2.81c.8-.78.8-2.07 0-2.86zM5.41 20L4 18.59l7.72-7.72 1.47 1.35L5.41 20z\"/>\n",
              "  </svg>\n",
              "      </button>\n",
              "      \n",
              "  <style>\n",
              "    .colab-df-container {\n",
              "      display:flex;\n",
              "      flex-wrap:wrap;\n",
              "      gap: 12px;\n",
              "    }\n",
              "\n",
              "    .colab-df-convert {\n",
              "      background-color: #E8F0FE;\n",
              "      border: none;\n",
              "      border-radius: 50%;\n",
              "      cursor: pointer;\n",
              "      display: none;\n",
              "      fill: #1967D2;\n",
              "      height: 32px;\n",
              "      padding: 0 0 0 0;\n",
              "      width: 32px;\n",
              "    }\n",
              "\n",
              "    .colab-df-convert:hover {\n",
              "      background-color: #E2EBFA;\n",
              "      box-shadow: 0px 1px 2px rgba(60, 64, 67, 0.3), 0px 1px 3px 1px rgba(60, 64, 67, 0.15);\n",
              "      fill: #174EA6;\n",
              "    }\n",
              "\n",
              "    [theme=dark] .colab-df-convert {\n",
              "      background-color: #3B4455;\n",
              "      fill: #D2E3FC;\n",
              "    }\n",
              "\n",
              "    [theme=dark] .colab-df-convert:hover {\n",
              "      background-color: #434B5C;\n",
              "      box-shadow: 0px 1px 3px 1px rgba(0, 0, 0, 0.15);\n",
              "      filter: drop-shadow(0px 1px 2px rgba(0, 0, 0, 0.3));\n",
              "      fill: #FFFFFF;\n",
              "    }\n",
              "  </style>\n",
              "\n",
              "      <script>\n",
              "        const buttonEl =\n",
              "          document.querySelector('#df-697b5834-a2f2-45c9-8610-33bd45b24f1b button.colab-df-convert');\n",
              "        buttonEl.style.display =\n",
              "          google.colab.kernel.accessAllowed ? 'block' : 'none';\n",
              "\n",
              "        async function convertToInteractive(key) {\n",
              "          const element = document.querySelector('#df-697b5834-a2f2-45c9-8610-33bd45b24f1b');\n",
              "          const dataTable =\n",
              "            await google.colab.kernel.invokeFunction('convertToInteractive',\n",
              "                                                     [key], {});\n",
              "          if (!dataTable) return;\n",
              "\n",
              "          const docLinkHtml = 'Like what you see? Visit the ' +\n",
              "            '<a target=\"_blank\" href=https://colab.research.google.com/notebooks/data_table.ipynb>data table notebook</a>'\n",
              "            + ' to learn more about interactive tables.';\n",
              "          element.innerHTML = '';\n",
              "          dataTable['output_type'] = 'display_data';\n",
              "          await google.colab.output.renderOutput(dataTable, element);\n",
              "          const docLink = document.createElement('div');\n",
              "          docLink.innerHTML = docLinkHtml;\n",
              "          element.appendChild(docLink);\n",
              "        }\n",
              "      </script>\n",
              "    </div>\n",
              "  </div>\n",
              "  "
            ]
          },
          "metadata": {},
          "execution_count": 173
        }
      ]
    },
    {
      "cell_type": "code",
      "source": [
        "# Imput with mean\n",
        "cont_df = clean_df2.drop(noncont_cols, axis = 1)\n",
        "imputed_df = cont_df.fillna(cont_df.mean())\n",
        "clean_df3 = pd.concat((clean_df2[noncont_cols], imputed_df), 1)\n",
        "clean_df3.head(5)"
      ],
      "metadata": {
        "colab": {
          "base_uri": "https://localhost:8080/",
          "height": 386
        },
        "id": "bOZyN3tkUtlV",
        "outputId": "8162c164-37e0-461a-dbfd-2660ac3e83ff"
      },
      "execution_count": 183,
      "outputs": [
        {
          "output_type": "stream",
          "name": "stderr",
          "text": [
            "<ipython-input-183-601ef2ee5cec>:4: FutureWarning: In a future version of pandas all arguments of concat except for the argument 'objs' will be keyword-only\n",
            "  clean_df3 = pd.concat((clean_df2[noncont_cols], imputed_df), 1)\n"
          ]
        },
        {
          "output_type": "execute_result",
          "data": {
            "text/plain": [
              "   group      ID  outcome  gendera  hypertensive  atrialfibrillation  \\\n",
              "0      1  125047      0.0        1             0                   0   \n",
              "1      1  139812      0.0        2             0                   0   \n",
              "2      1  109787      0.0        2             0                   0   \n",
              "3      1  130587      0.0        2             0                   0   \n",
              "4      1  138290      0.0        2             1                   0   \n",
              "\n",
              "   CHD with no MI  diabetes  deficiencyanemias  depression  ...  Blood sodium  \\\n",
              "0               0         1                  1           0  ...      0.601029   \n",
              "1               0         0                  1           0  ...      0.604495   \n",
              "2               0         0                  1           0  ...      0.650050   \n",
              "3               0         0                  0           0  ...      0.594790   \n",
              "4               0         0                  1           0  ...      0.549037   \n",
              "\n",
              "   Blood calcium  Chloride  Anion gap  Magnesium ion        PH  Bicarbonate  \\\n",
              "0       0.179679  0.683867   0.346185       0.455782  0.285714     0.238714   \n",
              "1       0.344118  0.430145   0.254886       0.182398  0.275510     0.591427   \n",
              "2       0.368627  0.605553   0.178313       0.283285  0.363265     0.508892   \n",
              "3       0.653394  0.279339   0.303270       0.203110  0.571429     0.738714   \n",
              "4       0.478431  0.573439   0.452209       0.093537  0.326531     0.262654   \n",
              "\n",
              "   Lactic acid      PCO2        EF  \n",
              "0     0.000000  0.266124  0.666667  \n",
              "1     0.000000  0.742016  0.666667  \n",
              "2     0.000000  0.660614  0.333333  \n",
              "3     0.012766  0.704446  0.666667  \n",
              "4     0.012766  0.391359  0.666667  \n",
              "\n",
              "[5 rows x 51 columns]"
            ],
            "text/html": [
              "\n",
              "  <div id=\"df-f7ead141-32ab-4961-9bfa-9d3c51c865af\">\n",
              "    <div class=\"colab-df-container\">\n",
              "      <div>\n",
              "<style scoped>\n",
              "    .dataframe tbody tr th:only-of-type {\n",
              "        vertical-align: middle;\n",
              "    }\n",
              "\n",
              "    .dataframe tbody tr th {\n",
              "        vertical-align: top;\n",
              "    }\n",
              "\n",
              "    .dataframe thead th {\n",
              "        text-align: right;\n",
              "    }\n",
              "</style>\n",
              "<table border=\"1\" class=\"dataframe\">\n",
              "  <thead>\n",
              "    <tr style=\"text-align: right;\">\n",
              "      <th></th>\n",
              "      <th>group</th>\n",
              "      <th>ID</th>\n",
              "      <th>outcome</th>\n",
              "      <th>gendera</th>\n",
              "      <th>hypertensive</th>\n",
              "      <th>atrialfibrillation</th>\n",
              "      <th>CHD with no MI</th>\n",
              "      <th>diabetes</th>\n",
              "      <th>deficiencyanemias</th>\n",
              "      <th>depression</th>\n",
              "      <th>...</th>\n",
              "      <th>Blood sodium</th>\n",
              "      <th>Blood calcium</th>\n",
              "      <th>Chloride</th>\n",
              "      <th>Anion gap</th>\n",
              "      <th>Magnesium ion</th>\n",
              "      <th>PH</th>\n",
              "      <th>Bicarbonate</th>\n",
              "      <th>Lactic acid</th>\n",
              "      <th>PCO2</th>\n",
              "      <th>EF</th>\n",
              "    </tr>\n",
              "  </thead>\n",
              "  <tbody>\n",
              "    <tr>\n",
              "      <th>0</th>\n",
              "      <td>1</td>\n",
              "      <td>125047</td>\n",
              "      <td>0.0</td>\n",
              "      <td>1</td>\n",
              "      <td>0</td>\n",
              "      <td>0</td>\n",
              "      <td>0</td>\n",
              "      <td>1</td>\n",
              "      <td>1</td>\n",
              "      <td>0</td>\n",
              "      <td>...</td>\n",
              "      <td>0.601029</td>\n",
              "      <td>0.179679</td>\n",
              "      <td>0.683867</td>\n",
              "      <td>0.346185</td>\n",
              "      <td>0.455782</td>\n",
              "      <td>0.285714</td>\n",
              "      <td>0.238714</td>\n",
              "      <td>0.000000</td>\n",
              "      <td>0.266124</td>\n",
              "      <td>0.666667</td>\n",
              "    </tr>\n",
              "    <tr>\n",
              "      <th>1</th>\n",
              "      <td>1</td>\n",
              "      <td>139812</td>\n",
              "      <td>0.0</td>\n",
              "      <td>2</td>\n",
              "      <td>0</td>\n",
              "      <td>0</td>\n",
              "      <td>0</td>\n",
              "      <td>0</td>\n",
              "      <td>1</td>\n",
              "      <td>0</td>\n",
              "      <td>...</td>\n",
              "      <td>0.604495</td>\n",
              "      <td>0.344118</td>\n",
              "      <td>0.430145</td>\n",
              "      <td>0.254886</td>\n",
              "      <td>0.182398</td>\n",
              "      <td>0.275510</td>\n",
              "      <td>0.591427</td>\n",
              "      <td>0.000000</td>\n",
              "      <td>0.742016</td>\n",
              "      <td>0.666667</td>\n",
              "    </tr>\n",
              "    <tr>\n",
              "      <th>2</th>\n",
              "      <td>1</td>\n",
              "      <td>109787</td>\n",
              "      <td>0.0</td>\n",
              "      <td>2</td>\n",
              "      <td>0</td>\n",
              "      <td>0</td>\n",
              "      <td>0</td>\n",
              "      <td>0</td>\n",
              "      <td>1</td>\n",
              "      <td>0</td>\n",
              "      <td>...</td>\n",
              "      <td>0.650050</td>\n",
              "      <td>0.368627</td>\n",
              "      <td>0.605553</td>\n",
              "      <td>0.178313</td>\n",
              "      <td>0.283285</td>\n",
              "      <td>0.363265</td>\n",
              "      <td>0.508892</td>\n",
              "      <td>0.000000</td>\n",
              "      <td>0.660614</td>\n",
              "      <td>0.333333</td>\n",
              "    </tr>\n",
              "    <tr>\n",
              "      <th>3</th>\n",
              "      <td>1</td>\n",
              "      <td>130587</td>\n",
              "      <td>0.0</td>\n",
              "      <td>2</td>\n",
              "      <td>0</td>\n",
              "      <td>0</td>\n",
              "      <td>0</td>\n",
              "      <td>0</td>\n",
              "      <td>0</td>\n",
              "      <td>0</td>\n",
              "      <td>...</td>\n",
              "      <td>0.594790</td>\n",
              "      <td>0.653394</td>\n",
              "      <td>0.279339</td>\n",
              "      <td>0.303270</td>\n",
              "      <td>0.203110</td>\n",
              "      <td>0.571429</td>\n",
              "      <td>0.738714</td>\n",
              "      <td>0.012766</td>\n",
              "      <td>0.704446</td>\n",
              "      <td>0.666667</td>\n",
              "    </tr>\n",
              "    <tr>\n",
              "      <th>4</th>\n",
              "      <td>1</td>\n",
              "      <td>138290</td>\n",
              "      <td>0.0</td>\n",
              "      <td>2</td>\n",
              "      <td>1</td>\n",
              "      <td>0</td>\n",
              "      <td>0</td>\n",
              "      <td>0</td>\n",
              "      <td>1</td>\n",
              "      <td>0</td>\n",
              "      <td>...</td>\n",
              "      <td>0.549037</td>\n",
              "      <td>0.478431</td>\n",
              "      <td>0.573439</td>\n",
              "      <td>0.452209</td>\n",
              "      <td>0.093537</td>\n",
              "      <td>0.326531</td>\n",
              "      <td>0.262654</td>\n",
              "      <td>0.012766</td>\n",
              "      <td>0.391359</td>\n",
              "      <td>0.666667</td>\n",
              "    </tr>\n",
              "  </tbody>\n",
              "</table>\n",
              "<p>5 rows × 51 columns</p>\n",
              "</div>\n",
              "      <button class=\"colab-df-convert\" onclick=\"convertToInteractive('df-f7ead141-32ab-4961-9bfa-9d3c51c865af')\"\n",
              "              title=\"Convert this dataframe to an interactive table.\"\n",
              "              style=\"display:none;\">\n",
              "        \n",
              "  <svg xmlns=\"http://www.w3.org/2000/svg\" height=\"24px\"viewBox=\"0 0 24 24\"\n",
              "       width=\"24px\">\n",
              "    <path d=\"M0 0h24v24H0V0z\" fill=\"none\"/>\n",
              "    <path d=\"M18.56 5.44l.94 2.06.94-2.06 2.06-.94-2.06-.94-.94-2.06-.94 2.06-2.06.94zm-11 1L8.5 8.5l.94-2.06 2.06-.94-2.06-.94L8.5 2.5l-.94 2.06-2.06.94zm10 10l.94 2.06.94-2.06 2.06-.94-2.06-.94-.94-2.06-.94 2.06-2.06.94z\"/><path d=\"M17.41 7.96l-1.37-1.37c-.4-.4-.92-.59-1.43-.59-.52 0-1.04.2-1.43.59L10.3 9.45l-7.72 7.72c-.78.78-.78 2.05 0 2.83L4 21.41c.39.39.9.59 1.41.59.51 0 1.02-.2 1.41-.59l7.78-7.78 2.81-2.81c.8-.78.8-2.07 0-2.86zM5.41 20L4 18.59l7.72-7.72 1.47 1.35L5.41 20z\"/>\n",
              "  </svg>\n",
              "      </button>\n",
              "      \n",
              "  <style>\n",
              "    .colab-df-container {\n",
              "      display:flex;\n",
              "      flex-wrap:wrap;\n",
              "      gap: 12px;\n",
              "    }\n",
              "\n",
              "    .colab-df-convert {\n",
              "      background-color: #E8F0FE;\n",
              "      border: none;\n",
              "      border-radius: 50%;\n",
              "      cursor: pointer;\n",
              "      display: none;\n",
              "      fill: #1967D2;\n",
              "      height: 32px;\n",
              "      padding: 0 0 0 0;\n",
              "      width: 32px;\n",
              "    }\n",
              "\n",
              "    .colab-df-convert:hover {\n",
              "      background-color: #E2EBFA;\n",
              "      box-shadow: 0px 1px 2px rgba(60, 64, 67, 0.3), 0px 1px 3px 1px rgba(60, 64, 67, 0.15);\n",
              "      fill: #174EA6;\n",
              "    }\n",
              "\n",
              "    [theme=dark] .colab-df-convert {\n",
              "      background-color: #3B4455;\n",
              "      fill: #D2E3FC;\n",
              "    }\n",
              "\n",
              "    [theme=dark] .colab-df-convert:hover {\n",
              "      background-color: #434B5C;\n",
              "      box-shadow: 0px 1px 3px 1px rgba(0, 0, 0, 0.15);\n",
              "      filter: drop-shadow(0px 1px 2px rgba(0, 0, 0, 0.3));\n",
              "      fill: #FFFFFF;\n",
              "    }\n",
              "  </style>\n",
              "\n",
              "      <script>\n",
              "        const buttonEl =\n",
              "          document.querySelector('#df-f7ead141-32ab-4961-9bfa-9d3c51c865af button.colab-df-convert');\n",
              "        buttonEl.style.display =\n",
              "          google.colab.kernel.accessAllowed ? 'block' : 'none';\n",
              "\n",
              "        async function convertToInteractive(key) {\n",
              "          const element = document.querySelector('#df-f7ead141-32ab-4961-9bfa-9d3c51c865af');\n",
              "          const dataTable =\n",
              "            await google.colab.kernel.invokeFunction('convertToInteractive',\n",
              "                                                     [key], {});\n",
              "          if (!dataTable) return;\n",
              "\n",
              "          const docLinkHtml = 'Like what you see? Visit the ' +\n",
              "            '<a target=\"_blank\" href=https://colab.research.google.com/notebooks/data_table.ipynb>data table notebook</a>'\n",
              "            + ' to learn more about interactive tables.';\n",
              "          element.innerHTML = '';\n",
              "          dataTable['output_type'] = 'display_data';\n",
              "          await google.colab.output.renderOutput(dataTable, element);\n",
              "          const docLink = document.createElement('div');\n",
              "          docLink.innerHTML = docLinkHtml;\n",
              "          element.appendChild(docLink);\n",
              "        }\n",
              "      </script>\n",
              "    </div>\n",
              "  </div>\n",
              "  "
            ]
          },
          "metadata": {},
          "execution_count": 183
        }
      ]
    },
    {
      "cell_type": "markdown",
      "source": [
        "### Data types\n",
        "\n",
        "We then looked at the data types of the variables. The outcome variable was shown to be of float64. We converted it to int64. We also saw that gender was coded as 1 or 2. We converted gender to be coded as 0 or 1."
      ],
      "metadata": {
        "id": "QXas5NT7_ju1"
      }
    },
    {
      "cell_type": "code",
      "source": [
        "# Get info\n",
        "print(clean_df3.info(verbose = True))"
      ],
      "metadata": {
        "colab": {
          "base_uri": "https://localhost:8080/"
        },
        "id": "jYV81kjfX5AV",
        "outputId": "6222314e-55d3-40dd-8bae-f43f4a941c31"
      },
      "execution_count": 184,
      "outputs": [
        {
          "output_type": "stream",
          "name": "stdout",
          "text": [
            "<class 'pandas.core.frame.DataFrame'>\n",
            "Int64Index: 1176 entries, 0 to 1176\n",
            "Data columns (total 51 columns):\n",
            " #   Column                    Non-Null Count  Dtype  \n",
            "---  ------                    --------------  -----  \n",
            " 0   group                     1176 non-null   int64  \n",
            " 1   ID                        1176 non-null   int64  \n",
            " 2   outcome                   1176 non-null   float64\n",
            " 3   gendera                   1176 non-null   int64  \n",
            " 4   hypertensive              1176 non-null   int64  \n",
            " 5   atrialfibrillation        1176 non-null   int64  \n",
            " 6   CHD with no MI            1176 non-null   int64  \n",
            " 7   diabetes                  1176 non-null   int64  \n",
            " 8   deficiencyanemias         1176 non-null   int64  \n",
            " 9   depression                1176 non-null   int64  \n",
            " 10  Hyperlipemia              1176 non-null   int64  \n",
            " 11  Renal failure             1176 non-null   int64  \n",
            " 12  COPD                      1176 non-null   int64  \n",
            " 13  age                       1176 non-null   float64\n",
            " 14  BMI                       1176 non-null   float64\n",
            " 15  heart rate                1176 non-null   float64\n",
            " 16  Systolic blood pressure   1176 non-null   float64\n",
            " 17  Diastolic blood pressure  1176 non-null   float64\n",
            " 18  Respiratory rate          1176 non-null   float64\n",
            " 19  temperature               1176 non-null   float64\n",
            " 20  SP O2                     1176 non-null   float64\n",
            " 21  Urine output              1176 non-null   float64\n",
            " 22  hematocrit                1176 non-null   float64\n",
            " 23  RBC                       1176 non-null   float64\n",
            " 24  MCH                       1176 non-null   float64\n",
            " 25  MCHC                      1176 non-null   float64\n",
            " 26  MCV                       1176 non-null   float64\n",
            " 27  RDW                       1176 non-null   float64\n",
            " 28  Leucocyte                 1176 non-null   float64\n",
            " 29  Platelets                 1176 non-null   float64\n",
            " 30  Neutrophils               1176 non-null   float64\n",
            " 31  Basophils                 1176 non-null   float64\n",
            " 32  Lymphocyte                1176 non-null   float64\n",
            " 33  PT                        1176 non-null   float64\n",
            " 34  INR                       1176 non-null   float64\n",
            " 35  NT-proBNP                 1176 non-null   float64\n",
            " 36  Creatine kinase           1176 non-null   float64\n",
            " 37  Creatinine                1176 non-null   float64\n",
            " 38  Urea nitrogen             1176 non-null   float64\n",
            " 39  glucose                   1176 non-null   float64\n",
            " 40  Blood potassium           1176 non-null   float64\n",
            " 41  Blood sodium              1176 non-null   float64\n",
            " 42  Blood calcium             1176 non-null   float64\n",
            " 43  Chloride                  1176 non-null   float64\n",
            " 44  Anion gap                 1176 non-null   float64\n",
            " 45  Magnesium ion             1176 non-null   float64\n",
            " 46  PH                        1176 non-null   float64\n",
            " 47  Bicarbonate               1176 non-null   float64\n",
            " 48  Lactic acid               1176 non-null   float64\n",
            " 49  PCO2                      1176 non-null   float64\n",
            " 50  EF                        1176 non-null   float64\n",
            "dtypes: float64(39), int64(12)\n",
            "memory usage: 477.8 KB\n",
            "None\n"
          ]
        }
      ]
    },
    {
      "cell_type": "code",
      "source": [
        "# Change dtype of outcome\n",
        "clean_df3.outcome = clean_df3.outcome.astype(int)\n",
        "print(clean_df3.info(verbose = True))"
      ],
      "metadata": {
        "colab": {
          "base_uri": "https://localhost:8080/"
        },
        "id": "sf6IcG1jYYq3",
        "outputId": "785d6015-0d30-453c-b3a3-8d04099abf82"
      },
      "execution_count": 189,
      "outputs": [
        {
          "output_type": "stream",
          "name": "stdout",
          "text": [
            "<class 'pandas.core.frame.DataFrame'>\n",
            "Int64Index: 1176 entries, 0 to 1176\n",
            "Data columns (total 51 columns):\n",
            " #   Column                    Non-Null Count  Dtype  \n",
            "---  ------                    --------------  -----  \n",
            " 0   group                     1176 non-null   int64  \n",
            " 1   ID                        1176 non-null   int64  \n",
            " 2   outcome                   1176 non-null   int64  \n",
            " 3   gendera                   1176 non-null   int64  \n",
            " 4   hypertensive              1176 non-null   int64  \n",
            " 5   atrialfibrillation        1176 non-null   int64  \n",
            " 6   CHD with no MI            1176 non-null   int64  \n",
            " 7   diabetes                  1176 non-null   int64  \n",
            " 8   deficiencyanemias         1176 non-null   int64  \n",
            " 9   depression                1176 non-null   int64  \n",
            " 10  Hyperlipemia              1176 non-null   int64  \n",
            " 11  Renal failure             1176 non-null   int64  \n",
            " 12  COPD                      1176 non-null   int64  \n",
            " 13  age                       1176 non-null   float64\n",
            " 14  BMI                       1176 non-null   float64\n",
            " 15  heart rate                1176 non-null   float64\n",
            " 16  Systolic blood pressure   1176 non-null   float64\n",
            " 17  Diastolic blood pressure  1176 non-null   float64\n",
            " 18  Respiratory rate          1176 non-null   float64\n",
            " 19  temperature               1176 non-null   float64\n",
            " 20  SP O2                     1176 non-null   float64\n",
            " 21  Urine output              1176 non-null   float64\n",
            " 22  hematocrit                1176 non-null   float64\n",
            " 23  RBC                       1176 non-null   float64\n",
            " 24  MCH                       1176 non-null   float64\n",
            " 25  MCHC                      1176 non-null   float64\n",
            " 26  MCV                       1176 non-null   float64\n",
            " 27  RDW                       1176 non-null   float64\n",
            " 28  Leucocyte                 1176 non-null   float64\n",
            " 29  Platelets                 1176 non-null   float64\n",
            " 30  Neutrophils               1176 non-null   float64\n",
            " 31  Basophils                 1176 non-null   float64\n",
            " 32  Lymphocyte                1176 non-null   float64\n",
            " 33  PT                        1176 non-null   float64\n",
            " 34  INR                       1176 non-null   float64\n",
            " 35  NT-proBNP                 1176 non-null   float64\n",
            " 36  Creatine kinase           1176 non-null   float64\n",
            " 37  Creatinine                1176 non-null   float64\n",
            " 38  Urea nitrogen             1176 non-null   float64\n",
            " 39  glucose                   1176 non-null   float64\n",
            " 40  Blood potassium           1176 non-null   float64\n",
            " 41  Blood sodium              1176 non-null   float64\n",
            " 42  Blood calcium             1176 non-null   float64\n",
            " 43  Chloride                  1176 non-null   float64\n",
            " 44  Anion gap                 1176 non-null   float64\n",
            " 45  Magnesium ion             1176 non-null   float64\n",
            " 46  PH                        1176 non-null   float64\n",
            " 47  Bicarbonate               1176 non-null   float64\n",
            " 48  Lactic acid               1176 non-null   float64\n",
            " 49  PCO2                      1176 non-null   float64\n",
            " 50  EF                        1176 non-null   float64\n",
            "dtypes: float64(38), int64(13)\n",
            "memory usage: 477.8 KB\n",
            "None\n"
          ]
        }
      ]
    },
    {
      "cell_type": "code",
      "source": [
        "# Change gender to be binary, 0 or 1\n",
        "clean_df4 = clean_df3.copy()\n",
        "clean_df4['gendera'] = clean_df4['gendera'].replace([1,2],[0, 1])\n",
        "clean_df4.gendera.head(5)"
      ],
      "metadata": {
        "colab": {
          "base_uri": "https://localhost:8080/"
        },
        "id": "j8B-yF5odCY1",
        "outputId": "21df6e58-e81e-483f-a1cb-3b5e0389347e"
      },
      "execution_count": 192,
      "outputs": [
        {
          "output_type": "execute_result",
          "data": {
            "text/plain": [
              "0    1017\n",
              "1     159\n",
              "Name: outcome, dtype: int64"
            ]
          },
          "metadata": {},
          "execution_count": 192
        }
      ]
    },
    {
      "cell_type": "markdown",
      "source": [
        "## Dataset Splitting\n",
        "\n",
        "The dataset was split to be in a 80:10:10 ratio (training, validation, testing). The split data was then converted to tensors, with the predictor tensors of the training, validation, and testing datasets being of respective size (940, 48), (118, 48), and (118, 48). Class imbalance was checked and in-hospital mortality was shown to have a prevalence of 0.135. To address this, class weights were calculated to give more weight to those observations with an observed in-hospital mortality."
      ],
      "metadata": {
        "id": "L06M06Szffuo"
      }
    },
    {
      "cell_type": "code",
      "source": [
        "# Split train, val, and test in 80:10:10\n",
        "x = clean_df4.drop([\"group\",\"ID\", \"outcome\"], axis = 1).copy()\n",
        "y = clean_df4['outcome']\n",
        "X_train, X_rem, y_train, y_rem = train_test_split(x,y, train_size=0.8)\n",
        "X_valid, X_test, y_valid, y_test = train_test_split(X_rem,y_rem, test_size=0.5)\n",
        "\n",
        "print(X_train.shape), print(y_train.shape)\n",
        "print(X_valid.shape), print(y_valid.shape)\n",
        "print(X_test.shape), print(y_test.shape)"
      ],
      "metadata": {
        "colab": {
          "base_uri": "https://localhost:8080/"
        },
        "id": "vDLM5NxdZoIf",
        "outputId": "5d67c48b-b7eb-40ce-ed48-7fd44fc98f42"
      },
      "execution_count": 194,
      "outputs": [
        {
          "output_type": "stream",
          "name": "stdout",
          "text": [
            "(940, 48)\n",
            "(940,)\n",
            "(118, 48)\n",
            "(118,)\n",
            "(118, 48)\n",
            "(118,)\n"
          ]
        },
        {
          "output_type": "execute_result",
          "data": {
            "text/plain": [
              "(None, None)"
            ]
          },
          "metadata": {},
          "execution_count": 194
        }
      ]
    },
    {
      "cell_type": "code",
      "source": [
        "# Convert to tensors\n",
        "train_x = tf.stack(X_train)\n",
        "train_y = tf.stack(y_train)\n",
        "val_x = tf.stack(X_valid)\n",
        "val_y = tf.stack(y_valid)\n",
        "test_x = tf.stack(X_test)\n",
        "test_y = tf.stack(y_test)\n",
        "test_y"
      ],
      "metadata": {
        "colab": {
          "base_uri": "https://localhost:8080/"
        },
        "id": "tBegC_u2erPm",
        "outputId": "afaa21cf-e69b-4363-c144-adc9eda3caf4"
      },
      "execution_count": 195,
      "outputs": [
        {
          "output_type": "execute_result",
          "data": {
            "text/plain": [
              "<tf.Tensor: shape=(118,), dtype=int64, numpy=\n",
              "array([0, 0, 0, 0, 1, 0, 0, 0, 0, 0, 0, 0, 1, 0, 0, 0, 1, 0, 0, 0, 0, 0,\n",
              "       1, 0, 0, 0, 0, 0, 0, 0, 0, 0, 0, 0, 0, 0, 0, 1, 0, 0, 0, 0, 0, 0,\n",
              "       0, 0, 0, 1, 0, 0, 0, 0, 0, 0, 0, 0, 0, 0, 1, 1, 0, 0, 1, 0, 0, 0,\n",
              "       1, 0, 1, 0, 0, 0, 0, 0, 0, 1, 0, 0, 0, 0, 0, 1, 1, 0, 0, 0, 0, 0,\n",
              "       0, 0, 0, 0, 0, 0, 0, 0, 0, 0, 1, 0, 0, 0, 0, 0, 0, 0, 0, 0, 0, 1,\n",
              "       0, 0, 1, 0, 0, 0, 0, 0])>"
            ]
          },
          "metadata": {},
          "execution_count": 195
        }
      ]
    },
    {
      "cell_type": "code",
      "source": [
        "# Examine class imbalance\n",
        "clean_df4['outcome'].value_counts()"
      ],
      "metadata": {
        "colab": {
          "base_uri": "https://localhost:8080/"
        },
        "id": "Jch0xrtvoL_S",
        "outputId": "f3e1f66c-7337-4f8a-f57b-edb9997c3ba2"
      },
      "execution_count": 193,
      "outputs": [
        {
          "output_type": "execute_result",
          "data": {
            "text/plain": [
              "0    1017\n",
              "1     159\n",
              "Name: outcome, dtype: int64"
            ]
          },
          "metadata": {},
          "execution_count": 193
        }
      ]
    },
    {
      "cell_type": "code",
      "source": [
        "class_weights = compute_class_weight(class_weight = \"balanced\",\n",
        "                                     classes = np.unique(y_train),\n",
        "                                     y = y_train                                                    \n",
        "                                    )\n",
        "class_weights = dict(zip(np.unique(y_train), class_weights))\n",
        "class_weights"
      ],
      "metadata": {
        "colab": {
          "base_uri": "https://localhost:8080/"
        },
        "id": "qJZtR_0ZuJ-O",
        "outputId": "36571da3-e890-48e3-8fb5-892899313838"
      },
      "execution_count": 366,
      "outputs": [
        {
          "output_type": "execute_result",
          "data": {
            "text/plain": [
              "{0: 0.5752753977968176, 1: 3.821138211382114}"
            ]
          },
          "metadata": {},
          "execution_count": 366
        }
      ]
    },
    {
      "cell_type": "markdown",
      "source": [
        "## First Model"
      ],
      "metadata": {
        "id": "zeCTNoj8fkxj"
      }
    },
    {
      "cell_type": "markdown",
      "source": [
        "### Architecture"
      ],
      "metadata": {
        "id": "jdnL0fJdAyWK"
      }
    },
    {
      "cell_type": "code",
      "source": [
        "model = Sequential([\n",
        "                    tf.keras.Input(48),\n",
        "                    tf.keras.layers.Flatten(),\n",
        "                    tf.keras.layers.Dense(128, activation=tf.nn.relu),\n",
        "                    tf.keras.layers.Dense(1, activation=tf.nn.sigmoid)\n",
        "                    ]\n",
        "                   )\n",
        "model.summary()"
      ],
      "metadata": {
        "colab": {
          "base_uri": "https://localhost:8080/"
        },
        "id": "VPNsy-2pfGIY",
        "outputId": "e6e871ae-b20a-4e1d-b99d-56193020dc09"
      },
      "execution_count": 273,
      "outputs": [
        {
          "output_type": "stream",
          "name": "stdout",
          "text": [
            "Model: \"sequential_33\"\n",
            "_________________________________________________________________\n",
            " Layer (type)                Output Shape              Param #   \n",
            "=================================================================\n",
            " flatten_34 (Flatten)        (None, 48)                0         \n",
            "                                                                 \n",
            " dense_68 (Dense)            (None, 128)               6272      \n",
            "                                                                 \n",
            " dense_69 (Dense)            (None, 1)                 129       \n",
            "                                                                 \n",
            "=================================================================\n",
            "Total params: 6,401\n",
            "Trainable params: 6,401\n",
            "Non-trainable params: 0\n",
            "_________________________________________________________________\n"
          ]
        }
      ]
    },
    {
      "cell_type": "markdown",
      "source": [
        "The model has an input layer, flatten layer, and two dense layers. The first input layers takes in the shape of (48) as that is the shape of the number of predictors. Inputs are flattened and passed to a dense layer with 128 hidden units and a ReLU activation function. The final output layer has 1 hidden unit with activation function sigmoid to return a predicted probability for in-hospital mortality from 0 to 1."
      ],
      "metadata": {
        "id": "7YnkWoakA4O6"
      }
    },
    {
      "cell_type": "code",
      "source": [
        "# Define path to store callback\n",
        "cp_path = \"model1.ckpt\"\n",
        "cp_dir = os.path.dirname(cp_path)\n",
        "\n",
        "# Callback that saves the models weights at the best validation accuracy\n",
        "cp_weights = tf.keras.callbacks.ModelCheckpoint(filepath=cp_path,\n",
        "                                       save_weights_only=False,\n",
        "                                       monitor='val_accuracy',\n",
        "                                       mode='max',\n",
        "                                       save_best_only=True)\n",
        "\n",
        "# Compile model\n",
        "model.compile(optimizer = optimizers.Adam(0.001), loss = 'binary_crossentropy', metrics = ['accuracy'])"
      ],
      "metadata": {
        "id": "y84XPO8Lg_jP"
      },
      "execution_count": 274,
      "outputs": []
    },
    {
      "cell_type": "markdown",
      "source": [
        "The model was compiled with an Adam optimizer with learning rate = 0.001, loss calculated through the binary cross entropy, and the evaluated metric to be accuracy."
      ],
      "metadata": {
        "id": "HZ2S5SE9BfU9"
      }
    },
    {
      "cell_type": "markdown",
      "source": [
        "### Training and Validation"
      ],
      "metadata": {
        "id": "2SorhcNvB07Z"
      }
    },
    {
      "cell_type": "code",
      "source": [
        "history = model.fit(train_x, train_y, epochs = 200, batch_size=64, validation_data=(val_x, val_y), callbacks=[cp_weights], class_weight=class_weights, verbose=1)"
      ],
      "metadata": {
        "colab": {
          "base_uri": "https://localhost:8080/"
        },
        "id": "jYaV3xkthQn9",
        "outputId": "79e2ad5d-8cf5-4033-b637-301fd3cc35a0"
      },
      "execution_count": 275,
      "outputs": [
        {
          "output_type": "stream",
          "name": "stdout",
          "text": [
            "Epoch 1/200\n",
            "15/15 [==============================] - 1s 56ms/step - loss: 0.6899 - accuracy: 0.5372 - val_loss: 0.6314 - val_accuracy: 0.7373\n",
            "Epoch 2/200\n",
            "15/15 [==============================] - 0s 4ms/step - loss: 0.6553 - accuracy: 0.7021 - val_loss: 0.6708 - val_accuracy: 0.6186\n",
            "Epoch 3/200\n",
            "15/15 [==============================] - 0s 4ms/step - loss: 0.6360 - accuracy: 0.6915 - val_loss: 0.6341 - val_accuracy: 0.6695\n",
            "Epoch 4/200\n",
            "15/15 [==============================] - 0s 4ms/step - loss: 0.6163 - accuracy: 0.6755 - val_loss: 0.6003 - val_accuracy: 0.7034\n",
            "Epoch 5/200\n",
            "15/15 [==============================] - 0s 5ms/step - loss: 0.5997 - accuracy: 0.7245 - val_loss: 0.5920 - val_accuracy: 0.7119\n",
            "Epoch 6/200\n",
            "15/15 [==============================] - 1s 42ms/step - loss: 0.5871 - accuracy: 0.7128 - val_loss: 0.5459 - val_accuracy: 0.7458\n",
            "Epoch 7/200\n",
            "15/15 [==============================] - 0s 4ms/step - loss: 0.5752 - accuracy: 0.7255 - val_loss: 0.5579 - val_accuracy: 0.7203\n",
            "Epoch 8/200\n",
            "15/15 [==============================] - 0s 4ms/step - loss: 0.5631 - accuracy: 0.7436 - val_loss: 0.5339 - val_accuracy: 0.7458\n",
            "Epoch 9/200\n",
            "15/15 [==============================] - 0s 4ms/step - loss: 0.5527 - accuracy: 0.7457 - val_loss: 0.5180 - val_accuracy: 0.7373\n",
            "Epoch 10/200\n",
            "15/15 [==============================] - 0s 4ms/step - loss: 0.5446 - accuracy: 0.7787 - val_loss: 0.5404 - val_accuracy: 0.7288\n",
            "Epoch 11/200\n",
            "15/15 [==============================] - 0s 4ms/step - loss: 0.5401 - accuracy: 0.7330 - val_loss: 0.5377 - val_accuracy: 0.7203\n",
            "Epoch 12/200\n",
            "15/15 [==============================] - 1s 43ms/step - loss: 0.5281 - accuracy: 0.7500 - val_loss: 0.4752 - val_accuracy: 0.7712\n",
            "Epoch 13/200\n",
            "15/15 [==============================] - 0s 4ms/step - loss: 0.5243 - accuracy: 0.7968 - val_loss: 0.5234 - val_accuracy: 0.7373\n",
            "Epoch 14/200\n",
            "15/15 [==============================] - 0s 4ms/step - loss: 0.5167 - accuracy: 0.7649 - val_loss: 0.5099 - val_accuracy: 0.7458\n",
            "Epoch 15/200\n",
            "15/15 [==============================] - 0s 5ms/step - loss: 0.5116 - accuracy: 0.7628 - val_loss: 0.4840 - val_accuracy: 0.7712\n",
            "Epoch 16/200\n",
            "15/15 [==============================] - 0s 4ms/step - loss: 0.5067 - accuracy: 0.7723 - val_loss: 0.4549 - val_accuracy: 0.7712\n",
            "Epoch 17/200\n",
            "15/15 [==============================] - 0s 4ms/step - loss: 0.5027 - accuracy: 0.8053 - val_loss: 0.5322 - val_accuracy: 0.7119\n",
            "Epoch 18/200\n",
            "15/15 [==============================] - 1s 46ms/step - loss: 0.5012 - accuracy: 0.7521 - val_loss: 0.4461 - val_accuracy: 0.7797\n",
            "Epoch 19/200\n",
            "15/15 [==============================] - 0s 4ms/step - loss: 0.4977 - accuracy: 0.7553 - val_loss: 0.4595 - val_accuracy: 0.7627\n",
            "Epoch 20/200\n",
            "15/15 [==============================] - 0s 4ms/step - loss: 0.4922 - accuracy: 0.8074 - val_loss: 0.4851 - val_accuracy: 0.7542\n",
            "Epoch 21/200\n",
            "15/15 [==============================] - 0s 4ms/step - loss: 0.4872 - accuracy: 0.7830 - val_loss: 0.4763 - val_accuracy: 0.7542\n",
            "Epoch 22/200\n",
            "15/15 [==============================] - 0s 4ms/step - loss: 0.4853 - accuracy: 0.8106 - val_loss: 0.4662 - val_accuracy: 0.7542\n",
            "Epoch 23/200\n",
            "15/15 [==============================] - 0s 4ms/step - loss: 0.4816 - accuracy: 0.7532 - val_loss: 0.4424 - val_accuracy: 0.7797\n",
            "Epoch 24/200\n",
            "15/15 [==============================] - 0s 4ms/step - loss: 0.4865 - accuracy: 0.8170 - val_loss: 0.5607 - val_accuracy: 0.7119\n",
            "Epoch 25/200\n",
            "15/15 [==============================] - 2s 118ms/step - loss: 0.4770 - accuracy: 0.7585 - val_loss: 0.4151 - val_accuracy: 0.8051\n",
            "Epoch 26/200\n",
            "15/15 [==============================] - 0s 5ms/step - loss: 0.4703 - accuracy: 0.7926 - val_loss: 0.4839 - val_accuracy: 0.7542\n",
            "Epoch 27/200\n",
            "15/15 [==============================] - 0s 5ms/step - loss: 0.4675 - accuracy: 0.8096 - val_loss: 0.4778 - val_accuracy: 0.7458\n",
            "Epoch 28/200\n",
            "15/15 [==============================] - 0s 4ms/step - loss: 0.4619 - accuracy: 0.7798 - val_loss: 0.4531 - val_accuracy: 0.7627\n",
            "Epoch 29/200\n",
            "15/15 [==============================] - 0s 5ms/step - loss: 0.4575 - accuracy: 0.8128 - val_loss: 0.4471 - val_accuracy: 0.7797\n",
            "Epoch 30/200\n",
            "15/15 [==============================] - 0s 5ms/step - loss: 0.4549 - accuracy: 0.7862 - val_loss: 0.4475 - val_accuracy: 0.7797\n",
            "Epoch 31/200\n",
            "15/15 [==============================] - 0s 6ms/step - loss: 0.4537 - accuracy: 0.8170 - val_loss: 0.4877 - val_accuracy: 0.7373\n",
            "Epoch 32/200\n",
            "15/15 [==============================] - 0s 5ms/step - loss: 0.4487 - accuracy: 0.7936 - val_loss: 0.4169 - val_accuracy: 0.7966\n",
            "Epoch 33/200\n",
            "15/15 [==============================] - 0s 5ms/step - loss: 0.4475 - accuracy: 0.8085 - val_loss: 0.4330 - val_accuracy: 0.7881\n",
            "Epoch 34/200\n",
            "15/15 [==============================] - 0s 5ms/step - loss: 0.4400 - accuracy: 0.8234 - val_loss: 0.4694 - val_accuracy: 0.7712\n",
            "Epoch 35/200\n",
            "15/15 [==============================] - 0s 5ms/step - loss: 0.4360 - accuracy: 0.8096 - val_loss: 0.4070 - val_accuracy: 0.8051\n",
            "Epoch 36/200\n",
            "15/15 [==============================] - 0s 8ms/step - loss: 0.4360 - accuracy: 0.8149 - val_loss: 0.4295 - val_accuracy: 0.7881\n",
            "Epoch 37/200\n",
            "15/15 [==============================] - 0s 4ms/step - loss: 0.4334 - accuracy: 0.8255 - val_loss: 0.5243 - val_accuracy: 0.7034\n",
            "Epoch 38/200\n",
            "15/15 [==============================] - 1s 48ms/step - loss: 0.4346 - accuracy: 0.7894 - val_loss: 0.3633 - val_accuracy: 0.8475\n",
            "Epoch 39/200\n",
            "15/15 [==============================] - 0s 7ms/step - loss: 0.4283 - accuracy: 0.8170 - val_loss: 0.4617 - val_accuracy: 0.7797\n",
            "Epoch 40/200\n",
            "15/15 [==============================] - 0s 4ms/step - loss: 0.4210 - accuracy: 0.8128 - val_loss: 0.4270 - val_accuracy: 0.7797\n",
            "Epoch 41/200\n",
            "15/15 [==============================] - 0s 4ms/step - loss: 0.4204 - accuracy: 0.8191 - val_loss: 0.4698 - val_accuracy: 0.7797\n",
            "Epoch 42/200\n",
            "15/15 [==============================] - 0s 6ms/step - loss: 0.4136 - accuracy: 0.8245 - val_loss: 0.4240 - val_accuracy: 0.7797\n",
            "Epoch 43/200\n",
            "15/15 [==============================] - 0s 7ms/step - loss: 0.4106 - accuracy: 0.8255 - val_loss: 0.4466 - val_accuracy: 0.7712\n",
            "Epoch 44/200\n",
            "15/15 [==============================] - 0s 5ms/step - loss: 0.4061 - accuracy: 0.8340 - val_loss: 0.4452 - val_accuracy: 0.7712\n",
            "Epoch 45/200\n",
            "15/15 [==============================] - 0s 4ms/step - loss: 0.4039 - accuracy: 0.8011 - val_loss: 0.3940 - val_accuracy: 0.8220\n",
            "Epoch 46/200\n",
            "15/15 [==============================] - 0s 4ms/step - loss: 0.4039 - accuracy: 0.8309 - val_loss: 0.4313 - val_accuracy: 0.7797\n",
            "Epoch 47/200\n",
            "15/15 [==============================] - 0s 5ms/step - loss: 0.4004 - accuracy: 0.8447 - val_loss: 0.4712 - val_accuracy: 0.7881\n",
            "Epoch 48/200\n",
            "15/15 [==============================] - 0s 5ms/step - loss: 0.3972 - accuracy: 0.8223 - val_loss: 0.4478 - val_accuracy: 0.7797\n",
            "Epoch 49/200\n",
            "15/15 [==============================] - 0s 5ms/step - loss: 0.3907 - accuracy: 0.8021 - val_loss: 0.3488 - val_accuracy: 0.8390\n",
            "Epoch 50/200\n",
            "15/15 [==============================] - 0s 5ms/step - loss: 0.3945 - accuracy: 0.8479 - val_loss: 0.4790 - val_accuracy: 0.7881\n",
            "Epoch 51/200\n",
            "15/15 [==============================] - 0s 5ms/step - loss: 0.3904 - accuracy: 0.8266 - val_loss: 0.4734 - val_accuracy: 0.7797\n",
            "Epoch 52/200\n",
            "15/15 [==============================] - 0s 5ms/step - loss: 0.3820 - accuracy: 0.8309 - val_loss: 0.4217 - val_accuracy: 0.7966\n",
            "Epoch 53/200\n",
            "15/15 [==============================] - 0s 4ms/step - loss: 0.3786 - accuracy: 0.8436 - val_loss: 0.4617 - val_accuracy: 0.7881\n",
            "Epoch 54/200\n",
            "15/15 [==============================] - 0s 5ms/step - loss: 0.3762 - accuracy: 0.8394 - val_loss: 0.4156 - val_accuracy: 0.8051\n",
            "Epoch 55/200\n",
            "15/15 [==============================] - 0s 5ms/step - loss: 0.3754 - accuracy: 0.8138 - val_loss: 0.3613 - val_accuracy: 0.8305\n",
            "Epoch 56/200\n",
            "15/15 [==============================] - 0s 5ms/step - loss: 0.3771 - accuracy: 0.8415 - val_loss: 0.3905 - val_accuracy: 0.8220\n",
            "Epoch 57/200\n",
            "15/15 [==============================] - 0s 5ms/step - loss: 0.3665 - accuracy: 0.8606 - val_loss: 0.4228 - val_accuracy: 0.8051\n",
            "Epoch 58/200\n",
            "15/15 [==============================] - 0s 4ms/step - loss: 0.3624 - accuracy: 0.8436 - val_loss: 0.4357 - val_accuracy: 0.7966\n",
            "Epoch 59/200\n",
            "15/15 [==============================] - 0s 5ms/step - loss: 0.3612 - accuracy: 0.8670 - val_loss: 0.4655 - val_accuracy: 0.7881\n",
            "Epoch 60/200\n",
            "15/15 [==============================] - 0s 6ms/step - loss: 0.3614 - accuracy: 0.8160 - val_loss: 0.3835 - val_accuracy: 0.8305\n",
            "Epoch 61/200\n",
            "15/15 [==============================] - 0s 5ms/step - loss: 0.3586 - accuracy: 0.8468 - val_loss: 0.4608 - val_accuracy: 0.7881\n",
            "Epoch 62/200\n",
            "15/15 [==============================] - 0s 5ms/step - loss: 0.3510 - accuracy: 0.8670 - val_loss: 0.4055 - val_accuracy: 0.8136\n",
            "Epoch 63/200\n",
            "15/15 [==============================] - 0s 4ms/step - loss: 0.3535 - accuracy: 0.8383 - val_loss: 0.3742 - val_accuracy: 0.8390\n",
            "Epoch 64/200\n",
            "15/15 [==============================] - 0s 6ms/step - loss: 0.3456 - accuracy: 0.8681 - val_loss: 0.4527 - val_accuracy: 0.7966\n",
            "Epoch 65/200\n",
            "15/15 [==============================] - 0s 4ms/step - loss: 0.3415 - accuracy: 0.8574 - val_loss: 0.3965 - val_accuracy: 0.8305\n",
            "Epoch 66/200\n",
            "15/15 [==============================] - 0s 5ms/step - loss: 0.3370 - accuracy: 0.8532 - val_loss: 0.4273 - val_accuracy: 0.8051\n",
            "Epoch 67/200\n",
            "15/15 [==============================] - 0s 5ms/step - loss: 0.3389 - accuracy: 0.8543 - val_loss: 0.4220 - val_accuracy: 0.8051\n",
            "Epoch 68/200\n",
            "15/15 [==============================] - 0s 4ms/step - loss: 0.3368 - accuracy: 0.8638 - val_loss: 0.3921 - val_accuracy: 0.8305\n",
            "Epoch 69/200\n",
            "15/15 [==============================] - 0s 5ms/step - loss: 0.3341 - accuracy: 0.8457 - val_loss: 0.3617 - val_accuracy: 0.8390\n",
            "Epoch 70/200\n",
            "15/15 [==============================] - 0s 6ms/step - loss: 0.3310 - accuracy: 0.8628 - val_loss: 0.4262 - val_accuracy: 0.8220\n",
            "Epoch 71/200\n",
            "15/15 [==============================] - 0s 4ms/step - loss: 0.3248 - accuracy: 0.8606 - val_loss: 0.4024 - val_accuracy: 0.8305\n",
            "Epoch 72/200\n",
            "15/15 [==============================] - 0s 6ms/step - loss: 0.3216 - accuracy: 0.8585 - val_loss: 0.4049 - val_accuracy: 0.8220\n",
            "Epoch 73/200\n",
            "15/15 [==============================] - 0s 4ms/step - loss: 0.3203 - accuracy: 0.8660 - val_loss: 0.3872 - val_accuracy: 0.8305\n",
            "Epoch 74/200\n",
            "15/15 [==============================] - 0s 5ms/step - loss: 0.3170 - accuracy: 0.8819 - val_loss: 0.4734 - val_accuracy: 0.7797\n",
            "Epoch 75/200\n",
            "15/15 [==============================] - 0s 4ms/step - loss: 0.3180 - accuracy: 0.8649 - val_loss: 0.3883 - val_accuracy: 0.8305\n",
            "Epoch 76/200\n",
            "15/15 [==============================] - 0s 5ms/step - loss: 0.3110 - accuracy: 0.8755 - val_loss: 0.4023 - val_accuracy: 0.8220\n",
            "Epoch 77/200\n",
            "15/15 [==============================] - 0s 4ms/step - loss: 0.3064 - accuracy: 0.8702 - val_loss: 0.3781 - val_accuracy: 0.8305\n",
            "Epoch 78/200\n",
            "15/15 [==============================] - 0s 5ms/step - loss: 0.3061 - accuracy: 0.8723 - val_loss: 0.3712 - val_accuracy: 0.8390\n",
            "Epoch 79/200\n",
            "15/15 [==============================] - 0s 5ms/step - loss: 0.3029 - accuracy: 0.8926 - val_loss: 0.4582 - val_accuracy: 0.7966\n",
            "Epoch 80/200\n",
            "15/15 [==============================] - 0s 5ms/step - loss: 0.3043 - accuracy: 0.8638 - val_loss: 0.3740 - val_accuracy: 0.8390\n",
            "Epoch 81/200\n",
            "15/15 [==============================] - 0s 4ms/step - loss: 0.2979 - accuracy: 0.8798 - val_loss: 0.4220 - val_accuracy: 0.7966\n",
            "Epoch 82/200\n",
            "15/15 [==============================] - 0s 5ms/step - loss: 0.2970 - accuracy: 0.8809 - val_loss: 0.4167 - val_accuracy: 0.8136\n",
            "Epoch 83/200\n",
            "15/15 [==============================] - 0s 5ms/step - loss: 0.3035 - accuracy: 0.8830 - val_loss: 0.4871 - val_accuracy: 0.7627\n",
            "Epoch 84/200\n",
            "15/15 [==============================] - 0s 5ms/step - loss: 0.2965 - accuracy: 0.8734 - val_loss: 0.4016 - val_accuracy: 0.8220\n",
            "Epoch 85/200\n",
            "15/15 [==============================] - 0s 5ms/step - loss: 0.2890 - accuracy: 0.8755 - val_loss: 0.3657 - val_accuracy: 0.8390\n",
            "Epoch 86/200\n",
            "15/15 [==============================] - 0s 5ms/step - loss: 0.3011 - accuracy: 0.8660 - val_loss: 0.3250 - val_accuracy: 0.8390\n",
            "Epoch 87/200\n",
            "15/15 [==============================] - 0s 6ms/step - loss: 0.2961 - accuracy: 0.8691 - val_loss: 0.3790 - val_accuracy: 0.8390\n",
            "Epoch 88/200\n",
            "15/15 [==============================] - 0s 5ms/step - loss: 0.3028 - accuracy: 0.8883 - val_loss: 0.4815 - val_accuracy: 0.7627\n",
            "Epoch 89/200\n",
            "15/15 [==============================] - 0s 5ms/step - loss: 0.2862 - accuracy: 0.8840 - val_loss: 0.4030 - val_accuracy: 0.8136\n",
            "Epoch 90/200\n",
            "15/15 [==============================] - 0s 5ms/step - loss: 0.2760 - accuracy: 0.8830 - val_loss: 0.3622 - val_accuracy: 0.8305\n",
            "Epoch 91/200\n",
            "15/15 [==============================] - 0s 4ms/step - loss: 0.2789 - accuracy: 0.8926 - val_loss: 0.4230 - val_accuracy: 0.7966\n",
            "Epoch 92/200\n",
            "15/15 [==============================] - 0s 5ms/step - loss: 0.2734 - accuracy: 0.8957 - val_loss: 0.3932 - val_accuracy: 0.8136\n",
            "Epoch 93/200\n",
            "15/15 [==============================] - 0s 5ms/step - loss: 0.2748 - accuracy: 0.8915 - val_loss: 0.4575 - val_accuracy: 0.7881\n",
            "Epoch 94/200\n",
            "15/15 [==============================] - 0s 6ms/step - loss: 0.2664 - accuracy: 0.8798 - val_loss: 0.3404 - val_accuracy: 0.8390\n",
            "Epoch 95/200\n",
            "15/15 [==============================] - 0s 5ms/step - loss: 0.2696 - accuracy: 0.8979 - val_loss: 0.4267 - val_accuracy: 0.8051\n",
            "Epoch 96/200\n",
            "15/15 [==============================] - 0s 4ms/step - loss: 0.2675 - accuracy: 0.8968 - val_loss: 0.3877 - val_accuracy: 0.8136\n",
            "Epoch 97/200\n",
            "15/15 [==============================] - 0s 6ms/step - loss: 0.2622 - accuracy: 0.8936 - val_loss: 0.3989 - val_accuracy: 0.8136\n",
            "Epoch 98/200\n",
            "15/15 [==============================] - 0s 5ms/step - loss: 0.2614 - accuracy: 0.8915 - val_loss: 0.3573 - val_accuracy: 0.8390\n",
            "Epoch 99/200\n",
            "15/15 [==============================] - 0s 5ms/step - loss: 0.2618 - accuracy: 0.8872 - val_loss: 0.4041 - val_accuracy: 0.8136\n",
            "Epoch 100/200\n",
            "15/15 [==============================] - 0s 6ms/step - loss: 0.2621 - accuracy: 0.8936 - val_loss: 0.3921 - val_accuracy: 0.8136\n",
            "Epoch 101/200\n",
            "15/15 [==============================] - 0s 4ms/step - loss: 0.2586 - accuracy: 0.9011 - val_loss: 0.4123 - val_accuracy: 0.8136\n",
            "Epoch 102/200\n",
            "15/15 [==============================] - 0s 5ms/step - loss: 0.2541 - accuracy: 0.9096 - val_loss: 0.4134 - val_accuracy: 0.8136\n",
            "Epoch 103/200\n",
            "15/15 [==============================] - 0s 4ms/step - loss: 0.2576 - accuracy: 0.8755 - val_loss: 0.3472 - val_accuracy: 0.8390\n",
            "Epoch 104/200\n",
            "15/15 [==============================] - 0s 5ms/step - loss: 0.2522 - accuracy: 0.8947 - val_loss: 0.3643 - val_accuracy: 0.8475\n",
            "Epoch 105/200\n",
            "15/15 [==============================] - 0s 7ms/step - loss: 0.2547 - accuracy: 0.9053 - val_loss: 0.4016 - val_accuracy: 0.8136\n",
            "Epoch 106/200\n",
            "15/15 [==============================] - 0s 5ms/step - loss: 0.2447 - accuracy: 0.8947 - val_loss: 0.3618 - val_accuracy: 0.8390\n",
            "Epoch 107/200\n",
            "15/15 [==============================] - 0s 5ms/step - loss: 0.2482 - accuracy: 0.9160 - val_loss: 0.3793 - val_accuracy: 0.8220\n",
            "Epoch 108/200\n",
            "15/15 [==============================] - 0s 6ms/step - loss: 0.2422 - accuracy: 0.9032 - val_loss: 0.3843 - val_accuracy: 0.8305\n",
            "Epoch 109/200\n",
            "15/15 [==============================] - 0s 5ms/step - loss: 0.2399 - accuracy: 0.9138 - val_loss: 0.3875 - val_accuracy: 0.8220\n",
            "Epoch 110/200\n",
            "15/15 [==============================] - 0s 5ms/step - loss: 0.2388 - accuracy: 0.9043 - val_loss: 0.3939 - val_accuracy: 0.8136\n",
            "Epoch 111/200\n",
            "15/15 [==============================] - 0s 6ms/step - loss: 0.2366 - accuracy: 0.9106 - val_loss: 0.4094 - val_accuracy: 0.8136\n",
            "Epoch 112/200\n",
            "15/15 [==============================] - 0s 5ms/step - loss: 0.2361 - accuracy: 0.9106 - val_loss: 0.3783 - val_accuracy: 0.8305\n",
            "Epoch 113/200\n",
            "15/15 [==============================] - 0s 4ms/step - loss: 0.2335 - accuracy: 0.8979 - val_loss: 0.3485 - val_accuracy: 0.8475\n",
            "Epoch 114/200\n",
            "15/15 [==============================] - 0s 5ms/step - loss: 0.2429 - accuracy: 0.9170 - val_loss: 0.5130 - val_accuracy: 0.7373\n",
            "Epoch 115/200\n",
            "15/15 [==============================] - 0s 5ms/step - loss: 0.2452 - accuracy: 0.9032 - val_loss: 0.3894 - val_accuracy: 0.8220\n",
            "Epoch 116/200\n",
            "15/15 [==============================] - 0s 4ms/step - loss: 0.2321 - accuracy: 0.8936 - val_loss: 0.3587 - val_accuracy: 0.8390\n",
            "Epoch 117/200\n",
            "15/15 [==============================] - 0s 5ms/step - loss: 0.2310 - accuracy: 0.9021 - val_loss: 0.3524 - val_accuracy: 0.8475\n",
            "Epoch 118/200\n",
            "15/15 [==============================] - 0s 5ms/step - loss: 0.2303 - accuracy: 0.9191 - val_loss: 0.4121 - val_accuracy: 0.8136\n",
            "Epoch 119/200\n",
            "15/15 [==============================] - 0s 5ms/step - loss: 0.2248 - accuracy: 0.9138 - val_loss: 0.3812 - val_accuracy: 0.8136\n",
            "Epoch 120/200\n",
            "15/15 [==============================] - 0s 4ms/step - loss: 0.2241 - accuracy: 0.9085 - val_loss: 0.3710 - val_accuracy: 0.8390\n",
            "Epoch 121/200\n",
            "15/15 [==============================] - 1s 46ms/step - loss: 0.2304 - accuracy: 0.9096 - val_loss: 0.3466 - val_accuracy: 0.8559\n",
            "Epoch 122/200\n",
            "15/15 [==============================] - 1s 48ms/step - loss: 0.2242 - accuracy: 0.8979 - val_loss: 0.3392 - val_accuracy: 0.8644\n",
            "Epoch 123/200\n",
            "15/15 [==============================] - 0s 4ms/step - loss: 0.2265 - accuracy: 0.9213 - val_loss: 0.4240 - val_accuracy: 0.8051\n",
            "Epoch 124/200\n",
            "15/15 [==============================] - 0s 5ms/step - loss: 0.2137 - accuracy: 0.9160 - val_loss: 0.3386 - val_accuracy: 0.8559\n",
            "Epoch 125/200\n",
            "15/15 [==============================] - 0s 5ms/step - loss: 0.2230 - accuracy: 0.9074 - val_loss: 0.3717 - val_accuracy: 0.8390\n",
            "Epoch 126/200\n",
            "15/15 [==============================] - 0s 4ms/step - loss: 0.2210 - accuracy: 0.9149 - val_loss: 0.3904 - val_accuracy: 0.8220\n",
            "Epoch 127/200\n",
            "15/15 [==============================] - 0s 6ms/step - loss: 0.2150 - accuracy: 0.9170 - val_loss: 0.4167 - val_accuracy: 0.8136\n",
            "Epoch 128/200\n",
            "15/15 [==============================] - 0s 4ms/step - loss: 0.2120 - accuracy: 0.9223 - val_loss: 0.3962 - val_accuracy: 0.8136\n",
            "Epoch 129/200\n",
            "15/15 [==============================] - 0s 5ms/step - loss: 0.2079 - accuracy: 0.9202 - val_loss: 0.3811 - val_accuracy: 0.8220\n",
            "Epoch 130/200\n",
            "15/15 [==============================] - 0s 4ms/step - loss: 0.2066 - accuracy: 0.9202 - val_loss: 0.3826 - val_accuracy: 0.8220\n",
            "Epoch 131/200\n",
            "15/15 [==============================] - 0s 4ms/step - loss: 0.2069 - accuracy: 0.9106 - val_loss: 0.3299 - val_accuracy: 0.8644\n",
            "Epoch 132/200\n",
            "15/15 [==============================] - 0s 5ms/step - loss: 0.2110 - accuracy: 0.9170 - val_loss: 0.3873 - val_accuracy: 0.8220\n",
            "Epoch 133/200\n",
            "15/15 [==============================] - 0s 5ms/step - loss: 0.2032 - accuracy: 0.9277 - val_loss: 0.4049 - val_accuracy: 0.8136\n",
            "Epoch 134/200\n",
            "15/15 [==============================] - 0s 5ms/step - loss: 0.2008 - accuracy: 0.9213 - val_loss: 0.3697 - val_accuracy: 0.8390\n",
            "Epoch 135/200\n",
            "15/15 [==============================] - 0s 5ms/step - loss: 0.1993 - accuracy: 0.9309 - val_loss: 0.4130 - val_accuracy: 0.8136\n",
            "Epoch 136/200\n",
            "15/15 [==============================] - 0s 5ms/step - loss: 0.2017 - accuracy: 0.9202 - val_loss: 0.3857 - val_accuracy: 0.8220\n",
            "Epoch 137/200\n",
            "15/15 [==============================] - 0s 5ms/step - loss: 0.1971 - accuracy: 0.9266 - val_loss: 0.3774 - val_accuracy: 0.8390\n",
            "Epoch 138/200\n",
            "15/15 [==============================] - 0s 4ms/step - loss: 0.1954 - accuracy: 0.9255 - val_loss: 0.3864 - val_accuracy: 0.8220\n",
            "Epoch 139/200\n",
            "15/15 [==============================] - 0s 4ms/step - loss: 0.1973 - accuracy: 0.9223 - val_loss: 0.3820 - val_accuracy: 0.8220\n",
            "Epoch 140/200\n",
            "15/15 [==============================] - 0s 5ms/step - loss: 0.1970 - accuracy: 0.9191 - val_loss: 0.3817 - val_accuracy: 0.8220\n",
            "Epoch 141/200\n",
            "15/15 [==============================] - 0s 4ms/step - loss: 0.1918 - accuracy: 0.9266 - val_loss: 0.3520 - val_accuracy: 0.8559\n",
            "Epoch 142/200\n",
            "15/15 [==============================] - 0s 4ms/step - loss: 0.1925 - accuracy: 0.9245 - val_loss: 0.3642 - val_accuracy: 0.8559\n",
            "Epoch 143/200\n",
            "15/15 [==============================] - 0s 6ms/step - loss: 0.1903 - accuracy: 0.9340 - val_loss: 0.3963 - val_accuracy: 0.8136\n",
            "Epoch 144/200\n",
            "15/15 [==============================] - 0s 5ms/step - loss: 0.1887 - accuracy: 0.9266 - val_loss: 0.3864 - val_accuracy: 0.8305\n",
            "Epoch 145/200\n",
            "15/15 [==============================] - 0s 5ms/step - loss: 0.1861 - accuracy: 0.9319 - val_loss: 0.3752 - val_accuracy: 0.8475\n",
            "Epoch 146/200\n",
            "15/15 [==============================] - 0s 4ms/step - loss: 0.1843 - accuracy: 0.9309 - val_loss: 0.3993 - val_accuracy: 0.8136\n",
            "Epoch 147/200\n",
            "15/15 [==============================] - 0s 5ms/step - loss: 0.1821 - accuracy: 0.9287 - val_loss: 0.3651 - val_accuracy: 0.8559\n",
            "Epoch 148/200\n",
            "15/15 [==============================] - 0s 5ms/step - loss: 0.1827 - accuracy: 0.9277 - val_loss: 0.3498 - val_accuracy: 0.8559\n",
            "Epoch 149/200\n",
            "15/15 [==============================] - 0s 5ms/step - loss: 0.1843 - accuracy: 0.9309 - val_loss: 0.3949 - val_accuracy: 0.8136\n",
            "Epoch 150/200\n",
            "15/15 [==============================] - 0s 4ms/step - loss: 0.1794 - accuracy: 0.9309 - val_loss: 0.3768 - val_accuracy: 0.8475\n",
            "Epoch 151/200\n",
            "15/15 [==============================] - 0s 8ms/step - loss: 0.1794 - accuracy: 0.9330 - val_loss: 0.4014 - val_accuracy: 0.8136\n",
            "Epoch 152/200\n",
            "15/15 [==============================] - 0s 5ms/step - loss: 0.1785 - accuracy: 0.9287 - val_loss: 0.3941 - val_accuracy: 0.8136\n",
            "Epoch 153/200\n",
            "15/15 [==============================] - 0s 4ms/step - loss: 0.1811 - accuracy: 0.9351 - val_loss: 0.4345 - val_accuracy: 0.8051\n",
            "Epoch 154/200\n",
            "15/15 [==============================] - 0s 5ms/step - loss: 0.1743 - accuracy: 0.9298 - val_loss: 0.3560 - val_accuracy: 0.8559\n",
            "Epoch 155/200\n",
            "15/15 [==============================] - 0s 5ms/step - loss: 0.1749 - accuracy: 0.9362 - val_loss: 0.3967 - val_accuracy: 0.8136\n",
            "Epoch 156/200\n",
            "15/15 [==============================] - 0s 5ms/step - loss: 0.1791 - accuracy: 0.9362 - val_loss: 0.4265 - val_accuracy: 0.8220\n",
            "Epoch 157/200\n",
            "15/15 [==============================] - 0s 6ms/step - loss: 0.1728 - accuracy: 0.9340 - val_loss: 0.3751 - val_accuracy: 0.8559\n",
            "Epoch 158/200\n",
            "15/15 [==============================] - 0s 6ms/step - loss: 0.1688 - accuracy: 0.9330 - val_loss: 0.3671 - val_accuracy: 0.8559\n",
            "Epoch 159/200\n",
            "15/15 [==============================] - 0s 4ms/step - loss: 0.1728 - accuracy: 0.9394 - val_loss: 0.4062 - val_accuracy: 0.8136\n",
            "Epoch 160/200\n",
            "15/15 [==============================] - 0s 5ms/step - loss: 0.1748 - accuracy: 0.9319 - val_loss: 0.4050 - val_accuracy: 0.8136\n",
            "Epoch 161/200\n",
            "15/15 [==============================] - 0s 4ms/step - loss: 0.1709 - accuracy: 0.9362 - val_loss: 0.4382 - val_accuracy: 0.7966\n",
            "Epoch 162/200\n",
            "15/15 [==============================] - 0s 5ms/step - loss: 0.1699 - accuracy: 0.9277 - val_loss: 0.3730 - val_accuracy: 0.8559\n",
            "Epoch 163/200\n",
            "15/15 [==============================] - 0s 4ms/step - loss: 0.1659 - accuracy: 0.9394 - val_loss: 0.3783 - val_accuracy: 0.8559\n",
            "Epoch 164/200\n",
            "15/15 [==============================] - 1s 46ms/step - loss: 0.1692 - accuracy: 0.9181 - val_loss: 0.3315 - val_accuracy: 0.8729\n",
            "Epoch 165/200\n",
            "15/15 [==============================] - 0s 5ms/step - loss: 0.1683 - accuracy: 0.9479 - val_loss: 0.4438 - val_accuracy: 0.8051\n",
            "Epoch 166/200\n",
            "15/15 [==============================] - 0s 5ms/step - loss: 0.1663 - accuracy: 0.9415 - val_loss: 0.4014 - val_accuracy: 0.8305\n",
            "Epoch 167/200\n",
            "15/15 [==============================] - 0s 4ms/step - loss: 0.1634 - accuracy: 0.9415 - val_loss: 0.4117 - val_accuracy: 0.8390\n",
            "Epoch 168/200\n",
            "15/15 [==============================] - 0s 5ms/step - loss: 0.1609 - accuracy: 0.9415 - val_loss: 0.3617 - val_accuracy: 0.8559\n",
            "Epoch 169/200\n",
            "15/15 [==============================] - 0s 4ms/step - loss: 0.1593 - accuracy: 0.9351 - val_loss: 0.3523 - val_accuracy: 0.8559\n",
            "Epoch 170/200\n",
            "15/15 [==============================] - 0s 6ms/step - loss: 0.1589 - accuracy: 0.9447 - val_loss: 0.3787 - val_accuracy: 0.8559\n",
            "Epoch 171/200\n",
            "15/15 [==============================] - 0s 5ms/step - loss: 0.1557 - accuracy: 0.9436 - val_loss: 0.3627 - val_accuracy: 0.8559\n",
            "Epoch 172/200\n",
            "15/15 [==============================] - 0s 6ms/step - loss: 0.1573 - accuracy: 0.9426 - val_loss: 0.4147 - val_accuracy: 0.8220\n",
            "Epoch 173/200\n",
            "15/15 [==============================] - 0s 5ms/step - loss: 0.1531 - accuracy: 0.9436 - val_loss: 0.3516 - val_accuracy: 0.8559\n",
            "Epoch 174/200\n",
            "15/15 [==============================] - 0s 7ms/step - loss: 0.1547 - accuracy: 0.9394 - val_loss: 0.3799 - val_accuracy: 0.8475\n",
            "Epoch 175/200\n",
            "15/15 [==============================] - 0s 6ms/step - loss: 0.1514 - accuracy: 0.9447 - val_loss: 0.3992 - val_accuracy: 0.8390\n",
            "Epoch 176/200\n",
            "15/15 [==============================] - 0s 6ms/step - loss: 0.1509 - accuracy: 0.9447 - val_loss: 0.3988 - val_accuracy: 0.8390\n",
            "Epoch 177/200\n",
            "15/15 [==============================] - 0s 5ms/step - loss: 0.1485 - accuracy: 0.9362 - val_loss: 0.3561 - val_accuracy: 0.8559\n",
            "Epoch 178/200\n",
            "15/15 [==============================] - 0s 4ms/step - loss: 0.1510 - accuracy: 0.9457 - val_loss: 0.3850 - val_accuracy: 0.8559\n",
            "Epoch 179/200\n",
            "15/15 [==============================] - 0s 5ms/step - loss: 0.1510 - accuracy: 0.9479 - val_loss: 0.3752 - val_accuracy: 0.8559\n",
            "Epoch 180/200\n",
            "15/15 [==============================] - 0s 6ms/step - loss: 0.1460 - accuracy: 0.9489 - val_loss: 0.3918 - val_accuracy: 0.8475\n",
            "Epoch 181/200\n",
            "15/15 [==============================] - 0s 5ms/step - loss: 0.1467 - accuracy: 0.9521 - val_loss: 0.3943 - val_accuracy: 0.8390\n",
            "Epoch 182/200\n",
            "15/15 [==============================] - 0s 5ms/step - loss: 0.1448 - accuracy: 0.9426 - val_loss: 0.3662 - val_accuracy: 0.8559\n",
            "Epoch 183/200\n",
            "15/15 [==============================] - 0s 4ms/step - loss: 0.1431 - accuracy: 0.9574 - val_loss: 0.4100 - val_accuracy: 0.8305\n",
            "Epoch 184/200\n",
            "15/15 [==============================] - 0s 5ms/step - loss: 0.1431 - accuracy: 0.9457 - val_loss: 0.3828 - val_accuracy: 0.8475\n",
            "Epoch 185/200\n",
            "15/15 [==============================] - 0s 4ms/step - loss: 0.1415 - accuracy: 0.9479 - val_loss: 0.3763 - val_accuracy: 0.8559\n",
            "Epoch 186/200\n",
            "15/15 [==============================] - 0s 6ms/step - loss: 0.1475 - accuracy: 0.9436 - val_loss: 0.4010 - val_accuracy: 0.8390\n",
            "Epoch 187/200\n",
            "15/15 [==============================] - 0s 5ms/step - loss: 0.1423 - accuracy: 0.9574 - val_loss: 0.4051 - val_accuracy: 0.8305\n",
            "Epoch 188/200\n",
            "15/15 [==============================] - 0s 5ms/step - loss: 0.1415 - accuracy: 0.9511 - val_loss: 0.3930 - val_accuracy: 0.8475\n",
            "Epoch 189/200\n",
            "15/15 [==============================] - 0s 5ms/step - loss: 0.1443 - accuracy: 0.9500 - val_loss: 0.3798 - val_accuracy: 0.8559\n",
            "Epoch 190/200\n",
            "15/15 [==============================] - 0s 5ms/step - loss: 0.1363 - accuracy: 0.9479 - val_loss: 0.4051 - val_accuracy: 0.8390\n",
            "Epoch 191/200\n",
            "15/15 [==============================] - 0s 5ms/step - loss: 0.1363 - accuracy: 0.9543 - val_loss: 0.3976 - val_accuracy: 0.8475\n",
            "Epoch 192/200\n",
            "15/15 [==============================] - 0s 5ms/step - loss: 0.1357 - accuracy: 0.9606 - val_loss: 0.4226 - val_accuracy: 0.8305\n",
            "Epoch 193/200\n",
            "15/15 [==============================] - 0s 5ms/step - loss: 0.1437 - accuracy: 0.9447 - val_loss: 0.4021 - val_accuracy: 0.8475\n",
            "Epoch 194/200\n",
            "15/15 [==============================] - 0s 5ms/step - loss: 0.1356 - accuracy: 0.9543 - val_loss: 0.3704 - val_accuracy: 0.8559\n",
            "Epoch 195/200\n",
            "15/15 [==============================] - 0s 6ms/step - loss: 0.1366 - accuracy: 0.9511 - val_loss: 0.3686 - val_accuracy: 0.8559\n",
            "Epoch 196/200\n",
            "15/15 [==============================] - 0s 5ms/step - loss: 0.1318 - accuracy: 0.9543 - val_loss: 0.4008 - val_accuracy: 0.8390\n",
            "Epoch 197/200\n",
            "15/15 [==============================] - 0s 6ms/step - loss: 0.1296 - accuracy: 0.9585 - val_loss: 0.3928 - val_accuracy: 0.8475\n",
            "Epoch 198/200\n",
            "15/15 [==============================] - 0s 5ms/step - loss: 0.1311 - accuracy: 0.9617 - val_loss: 0.4326 - val_accuracy: 0.8136\n",
            "Epoch 199/200\n",
            "15/15 [==============================] - 0s 4ms/step - loss: 0.1343 - accuracy: 0.9468 - val_loss: 0.3676 - val_accuracy: 0.8559\n",
            "Epoch 200/200\n",
            "15/15 [==============================] - 0s 4ms/step - loss: 0.1293 - accuracy: 0.9553 - val_loss: 0.3722 - val_accuracy: 0.8559\n"
          ]
        }
      ]
    },
    {
      "cell_type": "markdown",
      "source": [
        "### Training Evaluation"
      ],
      "metadata": {
        "id": "Y-IBn0_mB6uO"
      }
    },
    {
      "cell_type": "code",
      "source": [
        "# Obtain training and validation metrics\n",
        "train_acc = history.history['accuracy']\n",
        "val_acc = history.history['val_accuracy']\n",
        "train_loss = history.history['loss']\n",
        "val_loss = history.history['val_loss']\n",
        "epochs = range(1, len(train_acc) + 1)\n",
        "\n",
        "# Accuracy over epochs\n",
        "plt.plot(epochs, train_acc, color='blue', label='Training Accuracy')\n",
        "plt.plot(epochs, val_acc, color='red', label='Validation Accuracy')\n",
        "plt.title(\"Accuracy over epochs\", fontsize=14)\n",
        "plt.xlabel('Epochs')\n",
        "plt.legend(loc='lower right')\n",
        "plt.show()\n",
        "\n",
        "# Print best validation accuracy and epoch\n",
        "print(\"Best validation accuracy was %5.3f at epoch %2.f\" % (np.max(val_acc), np.argmax(val_acc)+1))"
      ],
      "metadata": {
        "colab": {
          "base_uri": "https://localhost:8080/",
          "height": 313
        },
        "id": "75eEqiMMiqdJ",
        "outputId": "fdc8eeec-bdc3-46ba-b929-bc38cdf43352"
      },
      "execution_count": 276,
      "outputs": [
        {
          "output_type": "display_data",
          "data": {
            "text/plain": [
              "<Figure size 432x288 with 1 Axes>"
            ],
            "image/png": "[encoded data removed]"
          },
          "metadata": {
            "needs_background": "light"
          }
        },
        {
          "output_type": "stream",
          "name": "stdout",
          "text": [
            "Best validation accuracy was 0.873 at epoch 164\n"
          ]
        }
      ]
    },
    {
      "cell_type": "markdown",
      "source": [
        "The best validation accuracy was observed to be 0.873 at epoch 164. The Accuracy vs Epoch plot shows that there is overfitting observed beginning at epoch 70 because following that epoch, the validation accuracy plateaus while the training accuracy continues to increase."
      ],
      "metadata": {
        "id": "exmepo-QBw-j"
      }
    },
    {
      "cell_type": "code",
      "source": [
        "# Loss over epochs\n",
        "plt.plot(epochs, train_loss, color='blue', label='Training Loss')\n",
        "plt.plot(epochs, val_loss, color='red', label='Validation Loss')\n",
        "plt.title(\"Loss over epochs\", fontsize=14)\n",
        "plt.xlabel('Epochs')\n",
        "plt.legend(loc='upper right')\n",
        "plt.show()"
      ],
      "metadata": {
        "colab": {
          "base_uri": "https://localhost:8080/",
          "height": 296
        },
        "id": "EfUE0u9nisC4",
        "outputId": "bb21e928-6e45-4c1b-c542-487126156630"
      },
      "execution_count": 277,
      "outputs": [
        {
          "output_type": "display_data",
          "data": {
            "text/plain": [
              "<Figure size 432x288 with 1 Axes>"
            ],
            "image/png": "[encoded data removed]"
          },
          "metadata": {
            "needs_background": "light"
          }
        }
      ]
    },
    {
      "cell_type": "markdown",
      "source": [
        "Overfitting is observed with the Loss vs Epoch plot. At around epoch 20, the validation loss begins to plateau while the training loss continues to decrease."
      ],
      "metadata": {
        "id": "K6to0nb0CNaH"
      }
    },
    {
      "cell_type": "markdown",
      "source": [
        "## Second Model"
      ],
      "metadata": {
        "id": "TA6C0HkFi1Yg"
      }
    },
    {
      "cell_type": "markdown",
      "source": [
        "### Architecture"
      ],
      "metadata": {
        "id": "38nKzBuXCcCl"
      }
    },
    {
      "cell_type": "code",
      "source": [
        "model2 = Sequential([\n",
        "                    tf.keras.Input(48),\n",
        "                    tf.keras.layers.Dropout(0.05),\n",
        "                    tf.keras.layers.Flatten(),\n",
        "                    tf.keras.layers.Dense(128, activation=tf.nn.relu),\n",
        "                    tf.keras.layers.Dense(1, activation=tf.nn.sigmoid)\n",
        "                    ]\n",
        "                   )\n",
        "model2.summary()"
      ],
      "metadata": {
        "colab": {
          "base_uri": "https://localhost:8080/"
        },
        "id": "g8NGBVAKi24g",
        "outputId": "11880014-5dbf-465b-d868-0ba0162cc5de"
      },
      "execution_count": 286,
      "outputs": [
        {
          "output_type": "stream",
          "name": "stdout",
          "text": [
            "Model: \"sequential_35\"\n",
            "_________________________________________________________________\n",
            " Layer (type)                Output Shape              Param #   \n",
            "=================================================================\n",
            " dropout_23 (Dropout)        (None, 48)                0         \n",
            "                                                                 \n",
            " flatten_36 (Flatten)        (None, 48)                0         \n",
            "                                                                 \n",
            " dense_72 (Dense)            (None, 128)               6272      \n",
            "                                                                 \n",
            " dense_73 (Dense)            (None, 1)                 129       \n",
            "                                                                 \n",
            "=================================================================\n",
            "Total params: 6,401\n",
            "Trainable params: 6,401\n",
            "Non-trainable params: 0\n",
            "_________________________________________________________________\n"
          ]
        }
      ]
    },
    {
      "cell_type": "markdown",
      "source": [
        "As the model was overfitting, adding a dropout layer would help. A dropout layer was added before flattening to drop out observations with a rate of 0.05."
      ],
      "metadata": {
        "id": "y6B1rujPCgA3"
      }
    },
    {
      "cell_type": "code",
      "source": [
        "# Define path to store callback\n",
        "cp_path = \"model2.ckpt\"\n",
        "cp_dir = os.path.dirname(cp_path)\n",
        "\n",
        "# Callback that saves the models weights at the best validation accuracy\n",
        "cp_weights = tf.keras.callbacks.ModelCheckpoint(filepath=cp_path,\n",
        "                                       save_weights_only=False,\n",
        "                                       monitor='val_accuracy',\n",
        "                                       mode='max',\n",
        "                                       save_best_only=True)\n",
        "\n",
        "# Compile model\n",
        "model2.compile(optimizer = optimizers.Adam(0.0001), loss = 'binary_crossentropy', metrics = ['accuracy'])"
      ],
      "metadata": {
        "id": "gFehhtpgjVzO"
      },
      "execution_count": 289,
      "outputs": []
    },
    {
      "cell_type": "markdown",
      "source": [
        "The learning rate was decreased from 0.001 to 0.0001 to slow the learning of the model, since within 50 epochs the model already began to overfit."
      ],
      "metadata": {
        "id": "eWD0KO3YCuR7"
      }
    },
    {
      "cell_type": "markdown",
      "source": [
        "### Training and Validation"
      ],
      "metadata": {
        "id": "eVvpLTG8C88d"
      }
    },
    {
      "cell_type": "code",
      "source": [
        "history2 = model2.fit(train_x, train_y, epochs = 200, batch_size=64, validation_data=(val_x, val_y), callbacks=[cp_weights], class_weight=class_weights, verbose=1)"
      ],
      "metadata": {
        "colab": {
          "base_uri": "https://localhost:8080/"
        },
        "id": "iE2KCFzSjZSu",
        "outputId": "9e6c93ec-5d7e-4b96-ab84-c85631743d34"
      },
      "execution_count": 290,
      "outputs": [
        {
          "output_type": "stream",
          "name": "stdout",
          "text": [
            "Epoch 1/200\n",
            "15/15 [==============================] - 2s 83ms/step - loss: 0.6942 - accuracy: 0.4319 - val_loss: 0.7038 - val_accuracy: 0.4153\n",
            "Epoch 2/200\n",
            "15/15 [==============================] - 1s 52ms/step - loss: 0.6906 - accuracy: 0.5106 - val_loss: 0.6921 - val_accuracy: 0.4831\n",
            "Epoch 3/200\n",
            "15/15 [==============================] - 1s 52ms/step - loss: 0.6879 - accuracy: 0.5638 - val_loss: 0.6820 - val_accuracy: 0.5678\n",
            "Epoch 4/200\n",
            "15/15 [==============================] - 1s 53ms/step - loss: 0.6844 - accuracy: 0.5851 - val_loss: 0.6791 - val_accuracy: 0.5763\n",
            "Epoch 5/200\n",
            "15/15 [==============================] - 1s 51ms/step - loss: 0.6779 - accuracy: 0.5819 - val_loss: 0.6743 - val_accuracy: 0.6102\n",
            "Epoch 6/200\n",
            "15/15 [==============================] - 1s 54ms/step - loss: 0.6796 - accuracy: 0.5968 - val_loss: 0.6720 - val_accuracy: 0.6356\n",
            "Epoch 7/200\n",
            "15/15 [==============================] - 0s 4ms/step - loss: 0.6770 - accuracy: 0.6043 - val_loss: 0.6704 - val_accuracy: 0.6271\n",
            "Epoch 8/200\n",
            "15/15 [==============================] - 0s 5ms/step - loss: 0.6743 - accuracy: 0.6043 - val_loss: 0.6663 - val_accuracy: 0.6356\n",
            "Epoch 9/200\n",
            "15/15 [==============================] - 0s 5ms/step - loss: 0.6694 - accuracy: 0.6468 - val_loss: 0.6619 - val_accuracy: 0.6271\n",
            "Epoch 10/200\n",
            "15/15 [==============================] - 0s 4ms/step - loss: 0.6658 - accuracy: 0.6723 - val_loss: 0.6534 - val_accuracy: 0.6271\n",
            "Epoch 11/200\n",
            "15/15 [==============================] - 0s 4ms/step - loss: 0.6640 - accuracy: 0.6745 - val_loss: 0.6529 - val_accuracy: 0.6356\n",
            "Epoch 12/200\n",
            "15/15 [==============================] - 0s 4ms/step - loss: 0.6624 - accuracy: 0.6649 - val_loss: 0.6539 - val_accuracy: 0.6356\n",
            "Epoch 13/200\n",
            "15/15 [==============================] - 1s 51ms/step - loss: 0.6613 - accuracy: 0.6809 - val_loss: 0.6469 - val_accuracy: 0.6441\n",
            "Epoch 14/200\n",
            "15/15 [==============================] - 0s 6ms/step - loss: 0.6584 - accuracy: 0.6798 - val_loss: 0.6442 - val_accuracy: 0.6441\n",
            "Epoch 15/200\n",
            "15/15 [==============================] - 1s 54ms/step - loss: 0.6554 - accuracy: 0.6830 - val_loss: 0.6475 - val_accuracy: 0.6525\n",
            "Epoch 16/200\n",
            "15/15 [==============================] - 1s 53ms/step - loss: 0.6499 - accuracy: 0.6755 - val_loss: 0.6444 - val_accuracy: 0.6610\n",
            "Epoch 17/200\n",
            "15/15 [==============================] - 1s 53ms/step - loss: 0.6467 - accuracy: 0.6968 - val_loss: 0.6354 - val_accuracy: 0.6864\n",
            "Epoch 18/200\n",
            "15/15 [==============================] - 0s 4ms/step - loss: 0.6490 - accuracy: 0.6926 - val_loss: 0.6361 - val_accuracy: 0.6864\n",
            "Epoch 19/200\n",
            "15/15 [==============================] - 0s 4ms/step - loss: 0.6459 - accuracy: 0.6755 - val_loss: 0.6401 - val_accuracy: 0.6780\n",
            "Epoch 20/200\n",
            "15/15 [==============================] - 0s 7ms/step - loss: 0.6423 - accuracy: 0.6872 - val_loss: 0.6330 - val_accuracy: 0.6864\n",
            "Epoch 21/200\n",
            "15/15 [==============================] - 1s 51ms/step - loss: 0.6376 - accuracy: 0.7181 - val_loss: 0.6283 - val_accuracy: 0.7034\n",
            "Epoch 22/200\n",
            "15/15 [==============================] - 1s 50ms/step - loss: 0.6408 - accuracy: 0.7053 - val_loss: 0.6212 - val_accuracy: 0.7203\n",
            "Epoch 23/200\n",
            "15/15 [==============================] - 0s 4ms/step - loss: 0.6359 - accuracy: 0.7149 - val_loss: 0.6265 - val_accuracy: 0.6949\n",
            "Epoch 24/200\n",
            "15/15 [==============================] - 0s 5ms/step - loss: 0.6349 - accuracy: 0.7117 - val_loss: 0.6203 - val_accuracy: 0.7119\n",
            "Epoch 25/200\n",
            "15/15 [==============================] - 0s 4ms/step - loss: 0.6359 - accuracy: 0.7064 - val_loss: 0.6210 - val_accuracy: 0.6949\n",
            "Epoch 26/200\n",
            "15/15 [==============================] - 0s 5ms/step - loss: 0.6284 - accuracy: 0.6968 - val_loss: 0.6208 - val_accuracy: 0.6949\n",
            "Epoch 27/200\n",
            "15/15 [==============================] - 0s 4ms/step - loss: 0.6315 - accuracy: 0.7096 - val_loss: 0.6142 - val_accuracy: 0.7119\n",
            "Epoch 28/200\n",
            "15/15 [==============================] - 0s 5ms/step - loss: 0.6285 - accuracy: 0.7138 - val_loss: 0.6169 - val_accuracy: 0.7203\n",
            "Epoch 29/200\n",
            "15/15 [==============================] - 0s 4ms/step - loss: 0.6238 - accuracy: 0.7138 - val_loss: 0.6116 - val_accuracy: 0.7203\n",
            "Epoch 30/200\n",
            "15/15 [==============================] - 0s 5ms/step - loss: 0.6277 - accuracy: 0.7096 - val_loss: 0.6134 - val_accuracy: 0.7119\n",
            "Epoch 31/200\n",
            "15/15 [==============================] - 0s 4ms/step - loss: 0.6223 - accuracy: 0.7074 - val_loss: 0.6107 - val_accuracy: 0.7203\n",
            "Epoch 32/200\n",
            "15/15 [==============================] - 1s 52ms/step - loss: 0.6222 - accuracy: 0.7043 - val_loss: 0.6088 - val_accuracy: 0.7288\n",
            "Epoch 33/200\n",
            "15/15 [==============================] - 0s 4ms/step - loss: 0.6161 - accuracy: 0.7223 - val_loss: 0.6038 - val_accuracy: 0.7288\n",
            "Epoch 34/200\n",
            "15/15 [==============================] - 1s 53ms/step - loss: 0.6187 - accuracy: 0.7245 - val_loss: 0.5994 - val_accuracy: 0.7373\n",
            "Epoch 35/200\n",
            "15/15 [==============================] - 0s 5ms/step - loss: 0.6128 - accuracy: 0.7234 - val_loss: 0.6023 - val_accuracy: 0.7203\n",
            "Epoch 36/200\n",
            "15/15 [==============================] - 1s 53ms/step - loss: 0.6111 - accuracy: 0.7287 - val_loss: 0.5964 - val_accuracy: 0.7458\n",
            "Epoch 37/200\n",
            "15/15 [==============================] - 0s 5ms/step - loss: 0.6081 - accuracy: 0.7340 - val_loss: 0.5927 - val_accuracy: 0.7373\n",
            "Epoch 38/200\n",
            "15/15 [==============================] - 0s 6ms/step - loss: 0.6109 - accuracy: 0.7255 - val_loss: 0.5934 - val_accuracy: 0.7458\n",
            "Epoch 39/200\n",
            "15/15 [==============================] - 0s 5ms/step - loss: 0.6062 - accuracy: 0.7277 - val_loss: 0.5902 - val_accuracy: 0.7458\n",
            "Epoch 40/200\n",
            "15/15 [==============================] - 0s 4ms/step - loss: 0.6044 - accuracy: 0.7404 - val_loss: 0.5913 - val_accuracy: 0.7458\n",
            "Epoch 41/200\n",
            "15/15 [==============================] - 0s 5ms/step - loss: 0.6011 - accuracy: 0.7245 - val_loss: 0.5934 - val_accuracy: 0.7288\n",
            "Epoch 42/200\n",
            "15/15 [==============================] - 0s 5ms/step - loss: 0.6014 - accuracy: 0.7277 - val_loss: 0.5872 - val_accuracy: 0.7373\n",
            "Epoch 43/200\n",
            "15/15 [==============================] - 0s 4ms/step - loss: 0.5985 - accuracy: 0.7415 - val_loss: 0.5814 - val_accuracy: 0.7458\n",
            "Epoch 44/200\n",
            "15/15 [==============================] - 0s 5ms/step - loss: 0.5956 - accuracy: 0.7298 - val_loss: 0.5798 - val_accuracy: 0.7373\n",
            "Epoch 45/200\n",
            "15/15 [==============================] - 0s 5ms/step - loss: 0.5951 - accuracy: 0.7245 - val_loss: 0.5840 - val_accuracy: 0.7288\n",
            "Epoch 46/200\n",
            "15/15 [==============================] - 0s 6ms/step - loss: 0.5943 - accuracy: 0.7309 - val_loss: 0.5807 - val_accuracy: 0.7373\n",
            "Epoch 47/200\n",
            "15/15 [==============================] - 0s 5ms/step - loss: 0.5948 - accuracy: 0.7309 - val_loss: 0.5728 - val_accuracy: 0.7373\n",
            "Epoch 48/200\n",
            "15/15 [==============================] - 0s 5ms/step - loss: 0.5906 - accuracy: 0.7457 - val_loss: 0.5700 - val_accuracy: 0.7373\n",
            "Epoch 49/200\n",
            "15/15 [==============================] - 0s 5ms/step - loss: 0.5895 - accuracy: 0.7149 - val_loss: 0.5800 - val_accuracy: 0.7203\n",
            "Epoch 50/200\n",
            "15/15 [==============================] - 0s 5ms/step - loss: 0.5932 - accuracy: 0.7309 - val_loss: 0.5685 - val_accuracy: 0.7373\n",
            "Epoch 51/200\n",
            "15/15 [==============================] - 0s 5ms/step - loss: 0.5842 - accuracy: 0.7340 - val_loss: 0.5658 - val_accuracy: 0.7373\n",
            "Epoch 52/200\n",
            "15/15 [==============================] - 0s 5ms/step - loss: 0.5913 - accuracy: 0.7223 - val_loss: 0.5680 - val_accuracy: 0.7373\n",
            "Epoch 53/200\n",
            "15/15 [==============================] - 0s 5ms/step - loss: 0.5881 - accuracy: 0.7277 - val_loss: 0.5660 - val_accuracy: 0.7373\n",
            "Epoch 54/200\n",
            "15/15 [==============================] - 0s 4ms/step - loss: 0.5823 - accuracy: 0.7457 - val_loss: 0.5629 - val_accuracy: 0.7373\n",
            "Epoch 55/200\n",
            "15/15 [==============================] - 0s 6ms/step - loss: 0.5828 - accuracy: 0.7319 - val_loss: 0.5692 - val_accuracy: 0.7373\n",
            "Epoch 56/200\n",
            "15/15 [==============================] - 0s 5ms/step - loss: 0.5811 - accuracy: 0.7309 - val_loss: 0.5640 - val_accuracy: 0.7288\n",
            "Epoch 57/200\n",
            "15/15 [==============================] - 0s 4ms/step - loss: 0.5793 - accuracy: 0.7351 - val_loss: 0.5588 - val_accuracy: 0.7373\n",
            "Epoch 58/200\n",
            "15/15 [==============================] - 0s 6ms/step - loss: 0.5771 - accuracy: 0.7479 - val_loss: 0.5537 - val_accuracy: 0.7373\n",
            "Epoch 59/200\n",
            "15/15 [==============================] - 0s 5ms/step - loss: 0.5766 - accuracy: 0.7394 - val_loss: 0.5490 - val_accuracy: 0.7373\n",
            "Epoch 60/200\n",
            "15/15 [==============================] - 0s 4ms/step - loss: 0.5757 - accuracy: 0.7489 - val_loss: 0.5594 - val_accuracy: 0.7373\n",
            "Epoch 61/200\n",
            "15/15 [==============================] - 0s 4ms/step - loss: 0.5749 - accuracy: 0.7340 - val_loss: 0.5612 - val_accuracy: 0.7373\n",
            "Epoch 62/200\n",
            "15/15 [==============================] - 0s 5ms/step - loss: 0.5718 - accuracy: 0.7383 - val_loss: 0.5487 - val_accuracy: 0.7288\n",
            "Epoch 63/200\n",
            "15/15 [==============================] - 0s 6ms/step - loss: 0.5730 - accuracy: 0.7383 - val_loss: 0.5555 - val_accuracy: 0.7458\n",
            "Epoch 64/200\n",
            "15/15 [==============================] - 0s 4ms/step - loss: 0.5696 - accuracy: 0.7415 - val_loss: 0.5460 - val_accuracy: 0.7288\n",
            "Epoch 65/200\n",
            "15/15 [==============================] - 0s 5ms/step - loss: 0.5673 - accuracy: 0.7521 - val_loss: 0.5486 - val_accuracy: 0.7373\n",
            "Epoch 66/200\n",
            "15/15 [==============================] - 0s 4ms/step - loss: 0.5721 - accuracy: 0.7404 - val_loss: 0.5515 - val_accuracy: 0.7458\n",
            "Epoch 67/200\n",
            "15/15 [==============================] - 0s 4ms/step - loss: 0.5712 - accuracy: 0.7287 - val_loss: 0.5493 - val_accuracy: 0.7373\n",
            "Epoch 68/200\n",
            "15/15 [==============================] - 0s 5ms/step - loss: 0.5663 - accuracy: 0.7309 - val_loss: 0.5444 - val_accuracy: 0.7373\n",
            "Epoch 69/200\n",
            "15/15 [==============================] - 0s 5ms/step - loss: 0.5714 - accuracy: 0.7255 - val_loss: 0.5461 - val_accuracy: 0.7373\n",
            "Epoch 70/200\n",
            "15/15 [==============================] - 0s 4ms/step - loss: 0.5628 - accuracy: 0.7351 - val_loss: 0.5376 - val_accuracy: 0.7373\n",
            "Epoch 71/200\n",
            "15/15 [==============================] - 0s 5ms/step - loss: 0.5628 - accuracy: 0.7479 - val_loss: 0.5394 - val_accuracy: 0.7373\n",
            "Epoch 72/200\n",
            "15/15 [==============================] - 0s 5ms/step - loss: 0.5615 - accuracy: 0.7426 - val_loss: 0.5438 - val_accuracy: 0.7373\n",
            "Epoch 73/200\n",
            "15/15 [==============================] - 0s 5ms/step - loss: 0.5603 - accuracy: 0.7309 - val_loss: 0.5462 - val_accuracy: 0.7458\n",
            "Epoch 74/200\n",
            "15/15 [==============================] - 0s 4ms/step - loss: 0.5612 - accuracy: 0.7404 - val_loss: 0.5353 - val_accuracy: 0.7373\n",
            "Epoch 75/200\n",
            "15/15 [==============================] - 0s 6ms/step - loss: 0.5578 - accuracy: 0.7468 - val_loss: 0.5353 - val_accuracy: 0.7373\n",
            "Epoch 76/200\n",
            "15/15 [==============================] - 0s 5ms/step - loss: 0.5540 - accuracy: 0.7426 - val_loss: 0.5323 - val_accuracy: 0.7458\n",
            "Epoch 77/200\n",
            "15/15 [==============================] - 0s 5ms/step - loss: 0.5566 - accuracy: 0.7457 - val_loss: 0.5356 - val_accuracy: 0.7373\n",
            "Epoch 78/200\n",
            "15/15 [==============================] - 0s 5ms/step - loss: 0.5574 - accuracy: 0.7479 - val_loss: 0.5374 - val_accuracy: 0.7373\n",
            "Epoch 79/200\n",
            "15/15 [==============================] - 0s 6ms/step - loss: 0.5536 - accuracy: 0.7585 - val_loss: 0.5222 - val_accuracy: 0.7458\n",
            "Epoch 80/200\n",
            "15/15 [==============================] - 0s 4ms/step - loss: 0.5544 - accuracy: 0.7532 - val_loss: 0.5248 - val_accuracy: 0.7458\n",
            "Epoch 81/200\n",
            "15/15 [==============================] - 0s 4ms/step - loss: 0.5535 - accuracy: 0.7564 - val_loss: 0.5301 - val_accuracy: 0.7458\n",
            "Epoch 82/200\n",
            "15/15 [==============================] - 0s 4ms/step - loss: 0.5459 - accuracy: 0.7468 - val_loss: 0.5344 - val_accuracy: 0.7458\n",
            "Epoch 83/200\n",
            "15/15 [==============================] - 0s 4ms/step - loss: 0.5504 - accuracy: 0.7447 - val_loss: 0.5276 - val_accuracy: 0.7458\n",
            "Epoch 84/200\n",
            "15/15 [==============================] - 1s 54ms/step - loss: 0.5501 - accuracy: 0.7617 - val_loss: 0.5302 - val_accuracy: 0.7542\n",
            "Epoch 85/200\n",
            "15/15 [==============================] - 0s 5ms/step - loss: 0.5476 - accuracy: 0.7479 - val_loss: 0.5268 - val_accuracy: 0.7458\n",
            "Epoch 86/200\n",
            "15/15 [==============================] - 0s 5ms/step - loss: 0.5477 - accuracy: 0.7553 - val_loss: 0.5317 - val_accuracy: 0.7542\n",
            "Epoch 87/200\n",
            "15/15 [==============================] - 0s 4ms/step - loss: 0.5489 - accuracy: 0.7436 - val_loss: 0.5279 - val_accuracy: 0.7542\n",
            "Epoch 88/200\n",
            "15/15 [==============================] - 0s 4ms/step - loss: 0.5508 - accuracy: 0.7543 - val_loss: 0.5134 - val_accuracy: 0.7542\n",
            "Epoch 89/200\n",
            "15/15 [==============================] - 0s 5ms/step - loss: 0.5486 - accuracy: 0.7574 - val_loss: 0.5150 - val_accuracy: 0.7542\n",
            "Epoch 90/200\n",
            "15/15 [==============================] - 0s 5ms/step - loss: 0.5430 - accuracy: 0.7489 - val_loss: 0.5231 - val_accuracy: 0.7542\n",
            "Epoch 91/200\n",
            "15/15 [==============================] - 0s 6ms/step - loss: 0.5441 - accuracy: 0.7585 - val_loss: 0.5205 - val_accuracy: 0.7542\n",
            "Epoch 92/200\n",
            "15/15 [==============================] - 0s 5ms/step - loss: 0.5401 - accuracy: 0.7617 - val_loss: 0.5155 - val_accuracy: 0.7542\n",
            "Epoch 93/200\n",
            "15/15 [==============================] - 0s 5ms/step - loss: 0.5452 - accuracy: 0.7585 - val_loss: 0.5117 - val_accuracy: 0.7542\n",
            "Epoch 94/200\n",
            "15/15 [==============================] - 0s 5ms/step - loss: 0.5487 - accuracy: 0.7521 - val_loss: 0.5257 - val_accuracy: 0.7542\n",
            "Epoch 95/200\n",
            "15/15 [==============================] - 0s 4ms/step - loss: 0.5423 - accuracy: 0.7394 - val_loss: 0.5104 - val_accuracy: 0.7542\n",
            "Epoch 96/200\n",
            "15/15 [==============================] - 1s 55ms/step - loss: 0.5488 - accuracy: 0.7596 - val_loss: 0.5139 - val_accuracy: 0.7627\n",
            "Epoch 97/200\n",
            "15/15 [==============================] - 0s 5ms/step - loss: 0.5372 - accuracy: 0.7532 - val_loss: 0.5145 - val_accuracy: 0.7542\n",
            "Epoch 98/200\n",
            "15/15 [==============================] - 0s 5ms/step - loss: 0.5540 - accuracy: 0.7404 - val_loss: 0.5233 - val_accuracy: 0.7542\n",
            "Epoch 99/200\n",
            "15/15 [==============================] - 0s 4ms/step - loss: 0.5432 - accuracy: 0.7351 - val_loss: 0.5200 - val_accuracy: 0.7542\n",
            "Epoch 100/200\n",
            "15/15 [==============================] - 0s 7ms/step - loss: 0.5426 - accuracy: 0.7500 - val_loss: 0.5260 - val_accuracy: 0.7458\n",
            "Epoch 101/200\n",
            "15/15 [==============================] - 0s 5ms/step - loss: 0.5343 - accuracy: 0.7638 - val_loss: 0.5073 - val_accuracy: 0.7627\n",
            "Epoch 102/200\n",
            "15/15 [==============================] - 0s 4ms/step - loss: 0.5472 - accuracy: 0.7596 - val_loss: 0.5072 - val_accuracy: 0.7627\n",
            "Epoch 103/200\n",
            "15/15 [==============================] - 0s 5ms/step - loss: 0.5438 - accuracy: 0.7489 - val_loss: 0.5207 - val_accuracy: 0.7458\n",
            "Epoch 104/200\n",
            "15/15 [==============================] - 0s 5ms/step - loss: 0.5350 - accuracy: 0.7500 - val_loss: 0.5188 - val_accuracy: 0.7458\n",
            "Epoch 105/200\n",
            "15/15 [==============================] - 0s 5ms/step - loss: 0.5389 - accuracy: 0.7606 - val_loss: 0.5119 - val_accuracy: 0.7627\n",
            "Epoch 106/200\n",
            "15/15 [==============================] - 0s 5ms/step - loss: 0.5399 - accuracy: 0.7468 - val_loss: 0.5180 - val_accuracy: 0.7458\n",
            "Epoch 107/200\n",
            "15/15 [==============================] - 1s 52ms/step - loss: 0.5424 - accuracy: 0.7638 - val_loss: 0.5059 - val_accuracy: 0.7712\n",
            "Epoch 108/200\n",
            "15/15 [==============================] - 0s 4ms/step - loss: 0.5355 - accuracy: 0.7543 - val_loss: 0.5069 - val_accuracy: 0.7712\n",
            "Epoch 109/200\n",
            "15/15 [==============================] - 0s 5ms/step - loss: 0.5303 - accuracy: 0.7585 - val_loss: 0.4995 - val_accuracy: 0.7712\n",
            "Epoch 110/200\n",
            "15/15 [==============================] - 0s 5ms/step - loss: 0.5464 - accuracy: 0.7585 - val_loss: 0.5049 - val_accuracy: 0.7712\n",
            "Epoch 111/200\n",
            "15/15 [==============================] - 0s 5ms/step - loss: 0.5390 - accuracy: 0.7564 - val_loss: 0.5112 - val_accuracy: 0.7627\n",
            "Epoch 112/200\n",
            "15/15 [==============================] - 0s 4ms/step - loss: 0.5360 - accuracy: 0.7436 - val_loss: 0.5143 - val_accuracy: 0.7458\n",
            "Epoch 113/200\n",
            "15/15 [==============================] - 0s 6ms/step - loss: 0.5320 - accuracy: 0.7426 - val_loss: 0.5152 - val_accuracy: 0.7458\n",
            "Epoch 114/200\n",
            "15/15 [==============================] - 2s 146ms/step - loss: 0.5350 - accuracy: 0.7585 - val_loss: 0.4975 - val_accuracy: 0.7797\n",
            "Epoch 115/200\n",
            "15/15 [==============================] - 0s 4ms/step - loss: 0.5472 - accuracy: 0.7553 - val_loss: 0.5089 - val_accuracy: 0.7627\n",
            "Epoch 116/200\n",
            "15/15 [==============================] - 0s 5ms/step - loss: 0.5349 - accuracy: 0.7564 - val_loss: 0.5092 - val_accuracy: 0.7627\n",
            "Epoch 117/200\n",
            "15/15 [==============================] - 0s 4ms/step - loss: 0.5383 - accuracy: 0.7511 - val_loss: 0.5109 - val_accuracy: 0.7542\n",
            "Epoch 118/200\n",
            "15/15 [==============================] - 0s 4ms/step - loss: 0.5435 - accuracy: 0.7500 - val_loss: 0.4996 - val_accuracy: 0.7797\n",
            "Epoch 119/200\n",
            "15/15 [==============================] - 0s 4ms/step - loss: 0.5265 - accuracy: 0.7681 - val_loss: 0.4987 - val_accuracy: 0.7797\n",
            "Epoch 120/200\n",
            "15/15 [==============================] - 0s 4ms/step - loss: 0.5181 - accuracy: 0.7691 - val_loss: 0.5009 - val_accuracy: 0.7712\n",
            "Epoch 121/200\n",
            "15/15 [==============================] - 0s 5ms/step - loss: 0.5356 - accuracy: 0.7489 - val_loss: 0.5070 - val_accuracy: 0.7627\n",
            "Epoch 122/200\n",
            "15/15 [==============================] - 0s 5ms/step - loss: 0.5271 - accuracy: 0.7511 - val_loss: 0.5085 - val_accuracy: 0.7542\n",
            "Epoch 123/200\n",
            "15/15 [==============================] - 0s 6ms/step - loss: 0.5232 - accuracy: 0.7447 - val_loss: 0.4951 - val_accuracy: 0.7797\n",
            "Epoch 124/200\n",
            "15/15 [==============================] - 0s 5ms/step - loss: 0.5267 - accuracy: 0.7489 - val_loss: 0.4993 - val_accuracy: 0.7712\n",
            "Epoch 125/200\n",
            "15/15 [==============================] - 0s 4ms/step - loss: 0.5473 - accuracy: 0.7702 - val_loss: 0.4998 - val_accuracy: 0.7712\n",
            "Epoch 126/200\n",
            "15/15 [==============================] - 0s 5ms/step - loss: 0.5291 - accuracy: 0.7553 - val_loss: 0.5027 - val_accuracy: 0.7627\n",
            "Epoch 127/200\n",
            "15/15 [==============================] - 0s 5ms/step - loss: 0.5268 - accuracy: 0.7691 - val_loss: 0.5015 - val_accuracy: 0.7627\n",
            "Epoch 128/200\n",
            "15/15 [==============================] - 0s 5ms/step - loss: 0.5240 - accuracy: 0.7585 - val_loss: 0.5001 - val_accuracy: 0.7627\n",
            "Epoch 129/200\n",
            "15/15 [==============================] - 0s 5ms/step - loss: 0.5321 - accuracy: 0.7564 - val_loss: 0.4948 - val_accuracy: 0.7712\n",
            "Epoch 130/200\n",
            "15/15 [==============================] - 0s 6ms/step - loss: 0.5348 - accuracy: 0.7585 - val_loss: 0.5009 - val_accuracy: 0.7627\n",
            "Epoch 131/200\n",
            "15/15 [==============================] - 0s 5ms/step - loss: 0.5350 - accuracy: 0.7436 - val_loss: 0.5111 - val_accuracy: 0.7458\n",
            "Epoch 132/200\n",
            "15/15 [==============================] - 0s 5ms/step - loss: 0.5238 - accuracy: 0.7574 - val_loss: 0.4978 - val_accuracy: 0.7627\n",
            "Epoch 133/200\n",
            "15/15 [==============================] - 0s 5ms/step - loss: 0.5106 - accuracy: 0.7691 - val_loss: 0.4844 - val_accuracy: 0.7797\n",
            "Epoch 134/200\n",
            "15/15 [==============================] - 0s 5ms/step - loss: 0.5203 - accuracy: 0.7660 - val_loss: 0.4900 - val_accuracy: 0.7712\n",
            "Epoch 135/200\n",
            "15/15 [==============================] - 0s 4ms/step - loss: 0.5296 - accuracy: 0.7660 - val_loss: 0.4889 - val_accuracy: 0.7797\n",
            "Epoch 136/200\n",
            "15/15 [==============================] - 0s 4ms/step - loss: 0.5235 - accuracy: 0.7479 - val_loss: 0.4988 - val_accuracy: 0.7627\n",
            "Epoch 137/200\n",
            "15/15 [==============================] - 0s 4ms/step - loss: 0.5288 - accuracy: 0.7489 - val_loss: 0.4917 - val_accuracy: 0.7627\n",
            "Epoch 138/200\n",
            "15/15 [==============================] - 0s 5ms/step - loss: 0.5269 - accuracy: 0.7574 - val_loss: 0.4958 - val_accuracy: 0.7627\n",
            "Epoch 139/200\n",
            "15/15 [==============================] - 0s 4ms/step - loss: 0.5244 - accuracy: 0.7500 - val_loss: 0.4947 - val_accuracy: 0.7627\n",
            "Epoch 140/200\n",
            "15/15 [==============================] - 0s 5ms/step - loss: 0.5244 - accuracy: 0.7702 - val_loss: 0.4977 - val_accuracy: 0.7627\n",
            "Epoch 141/200\n",
            "15/15 [==============================] - 0s 5ms/step - loss: 0.5267 - accuracy: 0.7670 - val_loss: 0.4978 - val_accuracy: 0.7627\n",
            "Epoch 142/200\n",
            "15/15 [==============================] - 0s 4ms/step - loss: 0.5324 - accuracy: 0.7564 - val_loss: 0.5006 - val_accuracy: 0.7627\n",
            "Epoch 143/200\n",
            "15/15 [==============================] - 0s 5ms/step - loss: 0.5209 - accuracy: 0.7553 - val_loss: 0.4946 - val_accuracy: 0.7627\n",
            "Epoch 144/200\n",
            "15/15 [==============================] - 0s 4ms/step - loss: 0.5190 - accuracy: 0.7553 - val_loss: 0.4943 - val_accuracy: 0.7627\n",
            "Epoch 145/200\n",
            "15/15 [==============================] - 0s 6ms/step - loss: 0.5113 - accuracy: 0.7798 - val_loss: 0.4935 - val_accuracy: 0.7627\n",
            "Epoch 146/200\n",
            "15/15 [==============================] - 0s 5ms/step - loss: 0.5153 - accuracy: 0.7606 - val_loss: 0.4912 - val_accuracy: 0.7627\n",
            "Epoch 147/200\n",
            "15/15 [==============================] - 0s 5ms/step - loss: 0.5234 - accuracy: 0.7564 - val_loss: 0.4910 - val_accuracy: 0.7627\n",
            "Epoch 148/200\n",
            "15/15 [==============================] - 0s 7ms/step - loss: 0.5246 - accuracy: 0.7521 - val_loss: 0.4905 - val_accuracy: 0.7627\n",
            "Epoch 149/200\n",
            "15/15 [==============================] - 0s 5ms/step - loss: 0.5188 - accuracy: 0.7681 - val_loss: 0.4856 - val_accuracy: 0.7627\n",
            "Epoch 150/200\n",
            "15/15 [==============================] - 0s 5ms/step - loss: 0.5117 - accuracy: 0.7681 - val_loss: 0.4884 - val_accuracy: 0.7627\n",
            "Epoch 151/200\n",
            "15/15 [==============================] - 0s 5ms/step - loss: 0.5187 - accuracy: 0.7734 - val_loss: 0.4898 - val_accuracy: 0.7627\n",
            "Epoch 152/200\n",
            "15/15 [==============================] - 0s 5ms/step - loss: 0.5163 - accuracy: 0.7649 - val_loss: 0.4878 - val_accuracy: 0.7627\n",
            "Epoch 153/200\n",
            "15/15 [==============================] - 0s 4ms/step - loss: 0.5226 - accuracy: 0.7702 - val_loss: 0.4807 - val_accuracy: 0.7627\n",
            "Epoch 154/200\n",
            "15/15 [==============================] - 0s 5ms/step - loss: 0.5146 - accuracy: 0.7745 - val_loss: 0.4945 - val_accuracy: 0.7627\n",
            "Epoch 155/200\n",
            "15/15 [==============================] - 0s 5ms/step - loss: 0.5213 - accuracy: 0.7596 - val_loss: 0.4918 - val_accuracy: 0.7627\n",
            "Epoch 156/200\n",
            "15/15 [==============================] - 0s 4ms/step - loss: 0.5158 - accuracy: 0.7521 - val_loss: 0.4820 - val_accuracy: 0.7627\n",
            "Epoch 157/200\n",
            "15/15 [==============================] - 0s 5ms/step - loss: 0.5160 - accuracy: 0.7723 - val_loss: 0.4823 - val_accuracy: 0.7627\n",
            "Epoch 158/200\n",
            "15/15 [==============================] - 0s 5ms/step - loss: 0.5102 - accuracy: 0.7702 - val_loss: 0.4819 - val_accuracy: 0.7627\n",
            "Epoch 159/200\n",
            "15/15 [==============================] - 0s 4ms/step - loss: 0.5189 - accuracy: 0.7638 - val_loss: 0.4910 - val_accuracy: 0.7627\n",
            "Epoch 160/200\n",
            "15/15 [==============================] - 0s 5ms/step - loss: 0.5209 - accuracy: 0.7596 - val_loss: 0.4909 - val_accuracy: 0.7627\n",
            "Epoch 161/200\n",
            "15/15 [==============================] - 0s 5ms/step - loss: 0.5144 - accuracy: 0.7766 - val_loss: 0.4777 - val_accuracy: 0.7627\n",
            "Epoch 162/200\n",
            "15/15 [==============================] - 0s 5ms/step - loss: 0.5041 - accuracy: 0.7723 - val_loss: 0.4841 - val_accuracy: 0.7627\n",
            "Epoch 163/200\n",
            "15/15 [==============================] - 0s 5ms/step - loss: 0.5142 - accuracy: 0.7798 - val_loss: 0.4784 - val_accuracy: 0.7627\n",
            "Epoch 164/200\n",
            "15/15 [==============================] - 0s 5ms/step - loss: 0.5200 - accuracy: 0.7628 - val_loss: 0.4921 - val_accuracy: 0.7627\n",
            "Epoch 165/200\n",
            "15/15 [==============================] - 0s 4ms/step - loss: 0.5172 - accuracy: 0.7691 - val_loss: 0.4762 - val_accuracy: 0.7712\n",
            "Epoch 166/200\n",
            "15/15 [==============================] - 0s 6ms/step - loss: 0.5179 - accuracy: 0.7681 - val_loss: 0.4796 - val_accuracy: 0.7627\n",
            "Epoch 167/200\n",
            "15/15 [==============================] - 0s 4ms/step - loss: 0.5159 - accuracy: 0.7713 - val_loss: 0.4824 - val_accuracy: 0.7627\n",
            "Epoch 168/200\n",
            "15/15 [==============================] - 0s 4ms/step - loss: 0.5094 - accuracy: 0.7660 - val_loss: 0.4885 - val_accuracy: 0.7627\n",
            "Epoch 169/200\n",
            "15/15 [==============================] - 0s 5ms/step - loss: 0.5206 - accuracy: 0.7521 - val_loss: 0.4815 - val_accuracy: 0.7627\n",
            "Epoch 170/200\n",
            "15/15 [==============================] - 0s 5ms/step - loss: 0.5266 - accuracy: 0.7638 - val_loss: 0.4776 - val_accuracy: 0.7627\n",
            "Epoch 171/200\n",
            "15/15 [==============================] - 0s 5ms/step - loss: 0.5206 - accuracy: 0.7766 - val_loss: 0.4856 - val_accuracy: 0.7627\n",
            "Epoch 172/200\n",
            "15/15 [==============================] - 0s 5ms/step - loss: 0.5235 - accuracy: 0.7564 - val_loss: 0.4871 - val_accuracy: 0.7627\n",
            "Epoch 173/200\n",
            "15/15 [==============================] - 0s 5ms/step - loss: 0.5167 - accuracy: 0.7511 - val_loss: 0.4925 - val_accuracy: 0.7627\n",
            "Epoch 174/200\n",
            "15/15 [==============================] - 0s 5ms/step - loss: 0.5241 - accuracy: 0.7489 - val_loss: 0.4792 - val_accuracy: 0.7627\n",
            "Epoch 175/200\n",
            "15/15 [==============================] - 0s 5ms/step - loss: 0.5120 - accuracy: 0.7745 - val_loss: 0.4761 - val_accuracy: 0.7627\n",
            "Epoch 176/200\n",
            "15/15 [==============================] - 0s 4ms/step - loss: 0.5140 - accuracy: 0.7649 - val_loss: 0.4840 - val_accuracy: 0.7627\n",
            "Epoch 177/200\n",
            "15/15 [==============================] - 0s 6ms/step - loss: 0.5127 - accuracy: 0.7585 - val_loss: 0.4895 - val_accuracy: 0.7627\n",
            "Epoch 178/200\n",
            "15/15 [==============================] - 0s 5ms/step - loss: 0.5043 - accuracy: 0.7628 - val_loss: 0.4785 - val_accuracy: 0.7627\n",
            "Epoch 179/200\n",
            "15/15 [==============================] - 0s 5ms/step - loss: 0.5152 - accuracy: 0.7638 - val_loss: 0.4742 - val_accuracy: 0.7712\n",
            "Epoch 180/200\n",
            "15/15 [==============================] - 0s 5ms/step - loss: 0.5091 - accuracy: 0.7904 - val_loss: 0.4763 - val_accuracy: 0.7627\n",
            "Epoch 181/200\n",
            "15/15 [==============================] - 0s 7ms/step - loss: 0.5189 - accuracy: 0.7596 - val_loss: 0.4770 - val_accuracy: 0.7627\n",
            "Epoch 182/200\n",
            "15/15 [==============================] - 0s 5ms/step - loss: 0.5032 - accuracy: 0.7681 - val_loss: 0.4815 - val_accuracy: 0.7627\n",
            "Epoch 183/200\n",
            "15/15 [==============================] - 0s 5ms/step - loss: 0.5042 - accuracy: 0.7830 - val_loss: 0.4763 - val_accuracy: 0.7627\n",
            "Epoch 184/200\n",
            "15/15 [==============================] - 0s 4ms/step - loss: 0.5070 - accuracy: 0.7787 - val_loss: 0.4780 - val_accuracy: 0.7627\n",
            "Epoch 185/200\n",
            "15/15 [==============================] - 0s 5ms/step - loss: 0.5056 - accuracy: 0.7691 - val_loss: 0.4833 - val_accuracy: 0.7627\n",
            "Epoch 186/200\n",
            "15/15 [==============================] - 0s 4ms/step - loss: 0.5135 - accuracy: 0.7702 - val_loss: 0.4696 - val_accuracy: 0.7712\n",
            "Epoch 187/200\n",
            "15/15 [==============================] - 0s 5ms/step - loss: 0.5095 - accuracy: 0.7745 - val_loss: 0.4717 - val_accuracy: 0.7627\n",
            "Epoch 188/200\n",
            "15/15 [==============================] - 0s 5ms/step - loss: 0.5108 - accuracy: 0.7638 - val_loss: 0.4826 - val_accuracy: 0.7627\n",
            "Epoch 189/200\n",
            "15/15 [==============================] - 0s 5ms/step - loss: 0.5013 - accuracy: 0.7691 - val_loss: 0.4819 - val_accuracy: 0.7627\n",
            "Epoch 190/200\n",
            "15/15 [==============================] - 0s 5ms/step - loss: 0.5068 - accuracy: 0.7734 - val_loss: 0.4741 - val_accuracy: 0.7627\n",
            "Epoch 191/200\n",
            "15/15 [==============================] - 0s 5ms/step - loss: 0.5011 - accuracy: 0.7670 - val_loss: 0.4806 - val_accuracy: 0.7627\n",
            "Epoch 192/200\n",
            "15/15 [==============================] - 0s 5ms/step - loss: 0.5069 - accuracy: 0.7649 - val_loss: 0.4740 - val_accuracy: 0.7627\n",
            "Epoch 193/200\n",
            "15/15 [==============================] - 0s 5ms/step - loss: 0.5106 - accuracy: 0.7702 - val_loss: 0.4805 - val_accuracy: 0.7627\n",
            "Epoch 194/200\n",
            "15/15 [==============================] - 0s 4ms/step - loss: 0.5057 - accuracy: 0.7532 - val_loss: 0.4862 - val_accuracy: 0.7627\n",
            "Epoch 195/200\n",
            "15/15 [==============================] - 0s 5ms/step - loss: 0.5135 - accuracy: 0.7660 - val_loss: 0.4816 - val_accuracy: 0.7627\n",
            "Epoch 196/200\n",
            "15/15 [==============================] - 0s 5ms/step - loss: 0.4925 - accuracy: 0.7777 - val_loss: 0.4755 - val_accuracy: 0.7627\n",
            "Epoch 197/200\n",
            "15/15 [==============================] - 0s 6ms/step - loss: 0.5059 - accuracy: 0.7521 - val_loss: 0.4718 - val_accuracy: 0.7627\n",
            "Epoch 198/200\n",
            "15/15 [==============================] - 0s 4ms/step - loss: 0.5016 - accuracy: 0.7766 - val_loss: 0.4671 - val_accuracy: 0.7712\n",
            "Epoch 199/200\n",
            "15/15 [==============================] - 0s 6ms/step - loss: 0.4957 - accuracy: 0.7734 - val_loss: 0.4710 - val_accuracy: 0.7627\n",
            "Epoch 200/200\n",
            "15/15 [==============================] - 0s 5ms/step - loss: 0.5106 - accuracy: 0.7649 - val_loss: 0.4750 - val_accuracy: 0.7627\n"
          ]
        }
      ]
    },
    {
      "cell_type": "markdown",
      "source": [
        "### Training Evaluation"
      ],
      "metadata": {
        "id": "LlyG0ek8C_10"
      }
    },
    {
      "cell_type": "code",
      "source": [
        "# Obtain training and validation metrics\n",
        "train_acc = history2.history['accuracy']\n",
        "val_acc = history2.history['val_accuracy']\n",
        "train_loss = history2.history['loss']\n",
        "val_loss = history2.history['val_loss']\n",
        "epochs = range(1, len(train_acc) + 1)\n",
        "\n",
        "# Accuracy over epochs\n",
        "plt.plot(epochs, train_acc, color='blue', label='Training Accuracy')\n",
        "plt.plot(epochs, val_acc, color='red', label='Validation Accuracy')\n",
        "plt.title(\"Accuracy over epochs\", fontsize=14)\n",
        "plt.xlabel('Epochs')\n",
        "plt.legend(loc='lower right')\n",
        "plt.show()\n",
        "\n",
        "# Print best validation accuracy and epoch\n",
        "print(\"Best validation accuracy was %5.3f at epoch %2.f\" % (np.max(val_acc), np.argmax(val_acc) + 1))"
      ],
      "metadata": {
        "colab": {
          "base_uri": "https://localhost:8080/",
          "height": 313
        },
        "id": "rVtGt7COkIV-",
        "outputId": "fcc8be4d-6f71-4f01-e5d6-8b1ed4efc431"
      },
      "execution_count": 291,
      "outputs": [
        {
          "output_type": "display_data",
          "data": {
            "text/plain": [
              "<Figure size 432x288 with 1 Axes>"
            ],
            "image/png": "[encoded data removed]"
          },
          "metadata": {
            "needs_background": "light"
          }
        },
        {
          "output_type": "stream",
          "name": "stdout",
          "text": [
            "Best validation accuracy was 0.780 at epoch 114\n"
          ]
        }
      ]
    },
    {
      "cell_type": "markdown",
      "source": [
        "The best accuracy for the validation set was 0.780 at epoch 114. This validation accuracy is worse than the first validation accuracy of 0.873 which occurred at epoch 164. It appears that the training and validation accuracy have plateaud around 0.750."
      ],
      "metadata": {
        "id": "UBi9Lcr9DEK2"
      }
    },
    {
      "cell_type": "code",
      "source": [
        "# Loss over epochs\n",
        "plt.plot(epochs, train_loss, color='blue', label='Training Loss')\n",
        "plt.plot(epochs, val_loss, color='red', label='Validation Loss')\n",
        "plt.title(\"Loss over epochs\", fontsize=14)\n",
        "plt.xlabel('Epochs')\n",
        "plt.legend(loc='upper right')\n",
        "plt.show()"
      ],
      "metadata": {
        "colab": {
          "base_uri": "https://localhost:8080/",
          "height": 296
        },
        "id": "-ltdgp6ukLAR",
        "outputId": "bb1bd433-292b-4e3f-a453-1451b790cf89"
      },
      "execution_count": 292,
      "outputs": [
        {
          "output_type": "display_data",
          "data": {
            "text/plain": [
              "<Figure size 432x288 with 1 Axes>"
            ],
            "image/png": "[encoded data removed]"
          },
          "metadata": {
            "needs_background": "light"
          }
        }
      ]
    },
    {
      "cell_type": "markdown",
      "source": [
        "Slight underfitting is observed. Both losses are still decreasing (although validation is decreasing at a slower rate), indicating that there is underfitting and more training can be done to reach the optimum solution."
      ],
      "metadata": {
        "id": "QfgZTw3FEmgT"
      }
    },
    {
      "cell_type": "markdown",
      "source": [
        "## Third Model"
      ],
      "metadata": {
        "id": "ulrgHa4Mkh7x"
      }
    },
    {
      "cell_type": "markdown",
      "source": [
        "### Architecture"
      ],
      "metadata": {
        "id": "ytA9gjpkE-A6"
      }
    },
    {
      "cell_type": "code",
      "source": [
        "model3 = Sequential([\n",
        "                    tf.keras.Input(48),\n",
        "                    tf.keras.layers.Dropout(0.1),\n",
        "                    tf.keras.layers.Flatten(),\n",
        "                    tf.keras.layers.Dense(128, activation=tf.nn.relu),\n",
        "                    tf.keras.layers.Dense(64, activation=tf.nn.relu),\n",
        "                    tf.keras.layers.Dense(32, activation=tf.nn.relu),\n",
        "                    tf.keras.layers.Dense(1, activation=tf.nn.sigmoid)\n",
        "                    ]\n",
        "                   )\n",
        "model3.summary()"
      ],
      "metadata": {
        "colab": {
          "base_uri": "https://localhost:8080/"
        },
        "id": "SvXLqCn1kjwx",
        "outputId": "75f0307f-fe1d-4518-d39f-88057e82871c"
      },
      "execution_count": 338,
      "outputs": [
        {
          "output_type": "stream",
          "name": "stdout",
          "text": [
            "Model: \"sequential_43\"\n",
            "_________________________________________________________________\n",
            " Layer (type)                Output Shape              Param #   \n",
            "=================================================================\n",
            " dropout_31 (Dropout)        (None, 48)                0         \n",
            "                                                                 \n",
            " flatten_44 (Flatten)        (None, 48)                0         \n",
            "                                                                 \n",
            " dense_100 (Dense)           (None, 128)               6272      \n",
            "                                                                 \n",
            " dense_101 (Dense)           (None, 64)                8256      \n",
            "                                                                 \n",
            " dense_102 (Dense)           (None, 32)                2080      \n",
            "                                                                 \n",
            " dense_103 (Dense)           (None, 1)                 33        \n",
            "                                                                 \n",
            "=================================================================\n",
            "Total params: 16,641\n",
            "Trainable params: 16,641\n",
            "Non-trainable params: 0\n",
            "_________________________________________________________________\n"
          ]
        }
      ]
    },
    {
      "cell_type": "markdown",
      "source": [
        "Due to some slight potential for underfitting, a third and fourth dense layer were added, with 64 and 32 hidden units. This was done to increase complexity of the model to address the slight potential for underfitting. To slightly offset the added complexity of the model, the dropout rate was increased from 0.05 to 0.1."
      ],
      "metadata": {
        "id": "sE72AKjGE8Zs"
      }
    },
    {
      "cell_type": "code",
      "source": [
        "# Define path to store callback\n",
        "cp_path = \"model3.ckpt\"\n",
        "cp_dir = os.path.dirname(cp_path)\n",
        "\n",
        "# Callback that saves the models weights at the best validation accuracy\n",
        "cp_weights = tf.keras.callbacks.ModelCheckpoint(filepath=cp_path,\n",
        "                                       save_weights_only=False,\n",
        "                                       monitor='val_accuracy',\n",
        "                                       mode='max',\n",
        "                                       save_best_only=True)\n",
        "\n",
        "# Compile model\n",
        "model3.compile(optimizer = optimizers.Adam(0.0001), loss = 'binary_crossentropy', metrics = ['accuracy'])"
      ],
      "metadata": {
        "id": "XsEqSdLWkoKK"
      },
      "execution_count": 339,
      "outputs": []
    },
    {
      "cell_type": "markdown",
      "source": [
        "### Training and Validation"
      ],
      "metadata": {
        "id": "ezZNHq_LGiRG"
      }
    },
    {
      "cell_type": "code",
      "source": [
        "history3 = model3.fit(train_x, train_y, epochs = 200, batch_size=64, validation_data=(val_x, val_y), callbacks=[cp_weights], class_weight=class_weights, verbose=1)"
      ],
      "metadata": {
        "colab": {
          "base_uri": "https://localhost:8080/"
        },
        "id": "DxGZ3ZTXkxO9",
        "outputId": "548da068-1064-4f4b-e9b5-b9b8560c0a06"
      },
      "execution_count": 340,
      "outputs": [
        {
          "output_type": "stream",
          "name": "stdout",
          "text": [
            "Epoch 1/200\n",
            "15/15 [==============================] - 4s 249ms/step - loss: 0.6954 - accuracy: 0.7840 - val_loss: 0.6715 - val_accuracy: 0.7797\n",
            "Epoch 2/200\n",
            "15/15 [==============================] - 0s 5ms/step - loss: 0.6882 - accuracy: 0.7574 - val_loss: 0.6748 - val_accuracy: 0.7373\n",
            "Epoch 3/200\n",
            "15/15 [==============================] - 0s 5ms/step - loss: 0.6878 - accuracy: 0.7426 - val_loss: 0.6746 - val_accuracy: 0.7288\n",
            "Epoch 4/200\n",
            "15/15 [==============================] - 0s 6ms/step - loss: 0.6866 - accuracy: 0.6968 - val_loss: 0.6776 - val_accuracy: 0.7373\n",
            "Epoch 5/200\n",
            "15/15 [==============================] - 0s 6ms/step - loss: 0.6797 - accuracy: 0.6713 - val_loss: 0.6786 - val_accuracy: 0.6949\n",
            "Epoch 6/200\n",
            "15/15 [==============================] - 0s 5ms/step - loss: 0.6791 - accuracy: 0.6489 - val_loss: 0.6800 - val_accuracy: 0.6610\n",
            "Epoch 7/200\n",
            "15/15 [==============================] - 0s 6ms/step - loss: 0.6772 - accuracy: 0.6213 - val_loss: 0.6792 - val_accuracy: 0.6695\n",
            "Epoch 8/200\n",
            "15/15 [==============================] - 0s 7ms/step - loss: 0.6785 - accuracy: 0.6277 - val_loss: 0.6726 - val_accuracy: 0.6949\n",
            "Epoch 9/200\n",
            "15/15 [==============================] - 0s 7ms/step - loss: 0.6709 - accuracy: 0.6798 - val_loss: 0.6698 - val_accuracy: 0.6949\n",
            "Epoch 10/200\n",
            "15/15 [==============================] - 0s 6ms/step - loss: 0.6705 - accuracy: 0.6883 - val_loss: 0.6636 - val_accuracy: 0.7119\n",
            "Epoch 11/200\n",
            "15/15 [==============================] - 0s 6ms/step - loss: 0.6675 - accuracy: 0.6840 - val_loss: 0.6657 - val_accuracy: 0.7119\n",
            "Epoch 12/200\n",
            "15/15 [==============================] - 0s 6ms/step - loss: 0.6652 - accuracy: 0.6330 - val_loss: 0.6641 - val_accuracy: 0.7119\n",
            "Epoch 13/200\n",
            "15/15 [==============================] - 0s 8ms/step - loss: 0.6587 - accuracy: 0.6947 - val_loss: 0.6509 - val_accuracy: 0.7373\n",
            "Epoch 14/200\n",
            "15/15 [==============================] - 0s 6ms/step - loss: 0.6545 - accuracy: 0.7085 - val_loss: 0.6470 - val_accuracy: 0.7373\n",
            "Epoch 15/200\n",
            "15/15 [==============================] - 0s 7ms/step - loss: 0.6554 - accuracy: 0.6809 - val_loss: 0.6534 - val_accuracy: 0.6864\n",
            "Epoch 16/200\n",
            "15/15 [==============================] - 0s 6ms/step - loss: 0.6534 - accuracy: 0.6468 - val_loss: 0.6462 - val_accuracy: 0.7119\n",
            "Epoch 17/200\n",
            "15/15 [==============================] - 0s 6ms/step - loss: 0.6491 - accuracy: 0.6936 - val_loss: 0.6296 - val_accuracy: 0.7458\n",
            "Epoch 18/200\n",
            "15/15 [==============================] - 0s 6ms/step - loss: 0.6466 - accuracy: 0.6968 - val_loss: 0.6320 - val_accuracy: 0.7288\n",
            "Epoch 19/200\n",
            "15/15 [==============================] - 0s 6ms/step - loss: 0.6400 - accuracy: 0.6723 - val_loss: 0.6376 - val_accuracy: 0.7119\n",
            "Epoch 20/200\n",
            "15/15 [==============================] - 0s 7ms/step - loss: 0.6380 - accuracy: 0.6926 - val_loss: 0.6207 - val_accuracy: 0.7288\n",
            "Epoch 21/200\n",
            "15/15 [==============================] - 0s 6ms/step - loss: 0.6296 - accuracy: 0.7213 - val_loss: 0.6105 - val_accuracy: 0.7458\n",
            "Epoch 22/200\n",
            "15/15 [==============================] - 0s 7ms/step - loss: 0.6323 - accuracy: 0.7362 - val_loss: 0.5955 - val_accuracy: 0.7712\n",
            "Epoch 23/200\n",
            "15/15 [==============================] - 0s 5ms/step - loss: 0.6266 - accuracy: 0.7074 - val_loss: 0.6046 - val_accuracy: 0.7288\n",
            "Epoch 24/200\n",
            "15/15 [==============================] - 0s 6ms/step - loss: 0.6238 - accuracy: 0.7085 - val_loss: 0.5905 - val_accuracy: 0.7542\n",
            "Epoch 25/200\n",
            "15/15 [==============================] - 0s 5ms/step - loss: 0.6246 - accuracy: 0.6947 - val_loss: 0.5966 - val_accuracy: 0.7288\n",
            "Epoch 26/200\n",
            "15/15 [==============================] - 0s 5ms/step - loss: 0.6168 - accuracy: 0.7032 - val_loss: 0.5904 - val_accuracy: 0.7288\n",
            "Epoch 27/200\n",
            "15/15 [==============================] - 1s 77ms/step - loss: 0.6144 - accuracy: 0.7032 - val_loss: 0.5690 - val_accuracy: 0.8051\n",
            "Epoch 28/200\n",
            "15/15 [==============================] - 0s 7ms/step - loss: 0.6032 - accuracy: 0.7298 - val_loss: 0.5820 - val_accuracy: 0.7458\n",
            "Epoch 29/200\n",
            "15/15 [==============================] - 0s 6ms/step - loss: 0.6050 - accuracy: 0.7202 - val_loss: 0.5687 - val_accuracy: 0.7966\n",
            "Epoch 30/200\n",
            "15/15 [==============================] - 0s 6ms/step - loss: 0.6046 - accuracy: 0.7117 - val_loss: 0.5787 - val_accuracy: 0.7542\n",
            "Epoch 31/200\n",
            "15/15 [==============================] - 0s 5ms/step - loss: 0.5986 - accuracy: 0.7032 - val_loss: 0.5682 - val_accuracy: 0.7712\n",
            "Epoch 32/200\n",
            "15/15 [==============================] - 0s 5ms/step - loss: 0.6001 - accuracy: 0.7213 - val_loss: 0.5564 - val_accuracy: 0.7966\n",
            "Epoch 33/200\n",
            "15/15 [==============================] - 1s 77ms/step - loss: 0.5918 - accuracy: 0.7202 - val_loss: 0.5453 - val_accuracy: 0.8136\n",
            "Epoch 34/200\n",
            "15/15 [==============================] - 0s 6ms/step - loss: 0.5960 - accuracy: 0.7298 - val_loss: 0.5552 - val_accuracy: 0.7627\n",
            "Epoch 35/200\n",
            "15/15 [==============================] - 0s 6ms/step - loss: 0.5735 - accuracy: 0.7277 - val_loss: 0.5618 - val_accuracy: 0.7627\n",
            "Epoch 36/200\n",
            "15/15 [==============================] - 0s 6ms/step - loss: 0.5791 - accuracy: 0.7213 - val_loss: 0.5277 - val_accuracy: 0.8136\n",
            "Epoch 37/200\n",
            "15/15 [==============================] - 0s 5ms/step - loss: 0.5829 - accuracy: 0.7457 - val_loss: 0.5367 - val_accuracy: 0.7712\n",
            "Epoch 38/200\n",
            "15/15 [==============================] - 0s 5ms/step - loss: 0.5729 - accuracy: 0.7234 - val_loss: 0.5377 - val_accuracy: 0.7627\n",
            "Epoch 39/200\n",
            "15/15 [==============================] - 0s 7ms/step - loss: 0.5769 - accuracy: 0.7479 - val_loss: 0.5294 - val_accuracy: 0.7797\n",
            "Epoch 40/200\n",
            "15/15 [==============================] - 0s 6ms/step - loss: 0.5655 - accuracy: 0.7309 - val_loss: 0.5388 - val_accuracy: 0.7627\n",
            "Epoch 41/200\n",
            "15/15 [==============================] - 0s 6ms/step - loss: 0.5638 - accuracy: 0.7426 - val_loss: 0.5317 - val_accuracy: 0.7797\n",
            "Epoch 42/200\n",
            "15/15 [==============================] - 0s 6ms/step - loss: 0.5634 - accuracy: 0.7351 - val_loss: 0.5229 - val_accuracy: 0.7881\n",
            "Epoch 43/200\n",
            "15/15 [==============================] - 0s 5ms/step - loss: 0.5692 - accuracy: 0.7426 - val_loss: 0.5226 - val_accuracy: 0.7881\n",
            "Epoch 44/200\n",
            "15/15 [==============================] - 0s 5ms/step - loss: 0.5529 - accuracy: 0.7447 - val_loss: 0.5115 - val_accuracy: 0.7966\n",
            "Epoch 45/200\n",
            "15/15 [==============================] - 0s 5ms/step - loss: 0.5474 - accuracy: 0.7351 - val_loss: 0.5423 - val_accuracy: 0.7373\n",
            "Epoch 46/200\n",
            "15/15 [==============================] - 0s 6ms/step - loss: 0.5579 - accuracy: 0.7340 - val_loss: 0.5051 - val_accuracy: 0.7966\n",
            "Epoch 47/200\n",
            "15/15 [==============================] - 0s 5ms/step - loss: 0.5532 - accuracy: 0.7670 - val_loss: 0.5009 - val_accuracy: 0.7881\n",
            "Epoch 48/200\n",
            "15/15 [==============================] - 0s 5ms/step - loss: 0.5511 - accuracy: 0.7574 - val_loss: 0.5171 - val_accuracy: 0.7712\n",
            "Epoch 49/200\n",
            "15/15 [==============================] - 0s 5ms/step - loss: 0.5667 - accuracy: 0.6915 - val_loss: 0.5441 - val_accuracy: 0.7288\n",
            "Epoch 50/200\n",
            "15/15 [==============================] - 0s 6ms/step - loss: 0.5494 - accuracy: 0.7383 - val_loss: 0.4782 - val_accuracy: 0.7881\n",
            "Epoch 51/200\n",
            "15/15 [==============================] - 0s 6ms/step - loss: 0.5440 - accuracy: 0.7447 - val_loss: 0.5043 - val_accuracy: 0.7797\n",
            "Epoch 52/200\n",
            "15/15 [==============================] - 0s 6ms/step - loss: 0.5569 - accuracy: 0.7340 - val_loss: 0.5236 - val_accuracy: 0.7542\n",
            "Epoch 53/200\n",
            "15/15 [==============================] - 0s 6ms/step - loss: 0.5385 - accuracy: 0.7574 - val_loss: 0.5030 - val_accuracy: 0.7881\n",
            "Epoch 54/200\n",
            "15/15 [==============================] - 0s 7ms/step - loss: 0.5450 - accuracy: 0.7468 - val_loss: 0.4953 - val_accuracy: 0.7797\n",
            "Epoch 55/200\n",
            "15/15 [==============================] - 0s 7ms/step - loss: 0.5457 - accuracy: 0.7309 - val_loss: 0.5114 - val_accuracy: 0.7542\n",
            "Epoch 56/200\n",
            "15/15 [==============================] - 0s 9ms/step - loss: 0.5498 - accuracy: 0.7404 - val_loss: 0.4902 - val_accuracy: 0.7797\n",
            "Epoch 57/200\n",
            "15/15 [==============================] - 0s 7ms/step - loss: 0.5380 - accuracy: 0.7543 - val_loss: 0.4808 - val_accuracy: 0.7797\n",
            "Epoch 58/200\n",
            "15/15 [==============================] - 0s 6ms/step - loss: 0.5514 - accuracy: 0.7596 - val_loss: 0.4897 - val_accuracy: 0.7797\n",
            "Epoch 59/200\n",
            "15/15 [==============================] - 0s 7ms/step - loss: 0.5357 - accuracy: 0.7564 - val_loss: 0.4838 - val_accuracy: 0.7797\n",
            "Epoch 60/200\n",
            "15/15 [==============================] - 0s 7ms/step - loss: 0.5435 - accuracy: 0.7362 - val_loss: 0.5151 - val_accuracy: 0.7458\n",
            "Epoch 61/200\n",
            "15/15 [==============================] - 0s 6ms/step - loss: 0.5365 - accuracy: 0.7213 - val_loss: 0.5011 - val_accuracy: 0.7627\n",
            "Epoch 62/200\n",
            "15/15 [==============================] - 0s 6ms/step - loss: 0.5375 - accuracy: 0.7553 - val_loss: 0.4705 - val_accuracy: 0.7881\n",
            "Epoch 63/200\n",
            "15/15 [==============================] - 0s 5ms/step - loss: 0.5310 - accuracy: 0.7489 - val_loss: 0.4938 - val_accuracy: 0.7542\n",
            "Epoch 64/200\n",
            "15/15 [==============================] - 0s 8ms/step - loss: 0.5403 - accuracy: 0.7489 - val_loss: 0.4750 - val_accuracy: 0.7797\n",
            "Epoch 65/200\n",
            "15/15 [==============================] - 0s 8ms/step - loss: 0.5218 - accuracy: 0.7596 - val_loss: 0.4964 - val_accuracy: 0.7458\n",
            "Epoch 66/200\n",
            "15/15 [==============================] - 0s 8ms/step - loss: 0.5284 - accuracy: 0.7351 - val_loss: 0.4955 - val_accuracy: 0.7458\n",
            "Epoch 67/200\n",
            "15/15 [==============================] - 0s 10ms/step - loss: 0.5339 - accuracy: 0.7543 - val_loss: 0.4873 - val_accuracy: 0.7627\n",
            "Epoch 68/200\n",
            "15/15 [==============================] - 0s 7ms/step - loss: 0.5326 - accuracy: 0.7330 - val_loss: 0.4702 - val_accuracy: 0.7797\n",
            "Epoch 69/200\n",
            "15/15 [==============================] - 0s 8ms/step - loss: 0.5373 - accuracy: 0.7606 - val_loss: 0.4788 - val_accuracy: 0.7797\n",
            "Epoch 70/200\n",
            "15/15 [==============================] - 0s 6ms/step - loss: 0.5248 - accuracy: 0.7489 - val_loss: 0.4566 - val_accuracy: 0.7966\n",
            "Epoch 71/200\n",
            "15/15 [==============================] - 0s 6ms/step - loss: 0.5172 - accuracy: 0.7702 - val_loss: 0.4929 - val_accuracy: 0.7542\n",
            "Epoch 72/200\n",
            "15/15 [==============================] - 0s 8ms/step - loss: 0.5279 - accuracy: 0.7298 - val_loss: 0.4914 - val_accuracy: 0.7542\n",
            "Epoch 73/200\n",
            "15/15 [==============================] - 0s 5ms/step - loss: 0.5136 - accuracy: 0.7447 - val_loss: 0.4731 - val_accuracy: 0.7797\n",
            "Epoch 74/200\n",
            "15/15 [==============================] - 0s 6ms/step - loss: 0.5293 - accuracy: 0.7628 - val_loss: 0.4556 - val_accuracy: 0.7881\n",
            "Epoch 75/200\n",
            "15/15 [==============================] - 0s 8ms/step - loss: 0.5310 - accuracy: 0.7543 - val_loss: 0.4920 - val_accuracy: 0.7458\n",
            "Epoch 76/200\n",
            "15/15 [==============================] - 0s 6ms/step - loss: 0.5250 - accuracy: 0.7532 - val_loss: 0.4685 - val_accuracy: 0.7881\n",
            "Epoch 77/200\n",
            "15/15 [==============================] - 0s 5ms/step - loss: 0.5165 - accuracy: 0.7649 - val_loss: 0.4802 - val_accuracy: 0.7627\n",
            "Epoch 78/200\n",
            "15/15 [==============================] - 0s 7ms/step - loss: 0.5201 - accuracy: 0.7351 - val_loss: 0.4634 - val_accuracy: 0.7881\n",
            "Epoch 79/200\n",
            "15/15 [==============================] - 0s 6ms/step - loss: 0.5139 - accuracy: 0.7989 - val_loss: 0.4378 - val_accuracy: 0.8051\n",
            "Epoch 80/200\n",
            "15/15 [==============================] - 0s 6ms/step - loss: 0.5158 - accuracy: 0.7830 - val_loss: 0.4816 - val_accuracy: 0.7627\n",
            "Epoch 81/200\n",
            "15/15 [==============================] - 0s 6ms/step - loss: 0.5094 - accuracy: 0.7596 - val_loss: 0.4825 - val_accuracy: 0.7542\n",
            "Epoch 82/200\n",
            "15/15 [==============================] - 0s 7ms/step - loss: 0.4896 - accuracy: 0.7511 - val_loss: 0.4576 - val_accuracy: 0.7966\n",
            "Epoch 83/200\n",
            "15/15 [==============================] - 0s 6ms/step - loss: 0.5151 - accuracy: 0.7787 - val_loss: 0.4507 - val_accuracy: 0.7966\n",
            "Epoch 84/200\n",
            "15/15 [==============================] - 0s 5ms/step - loss: 0.5235 - accuracy: 0.7426 - val_loss: 0.4837 - val_accuracy: 0.7542\n",
            "Epoch 85/200\n",
            "15/15 [==============================] - 0s 7ms/step - loss: 0.5087 - accuracy: 0.7649 - val_loss: 0.4531 - val_accuracy: 0.8051\n",
            "Epoch 86/200\n",
            "15/15 [==============================] - 0s 5ms/step - loss: 0.4999 - accuracy: 0.7723 - val_loss: 0.4603 - val_accuracy: 0.7881\n",
            "Epoch 87/200\n",
            "15/15 [==============================] - 0s 6ms/step - loss: 0.5177 - accuracy: 0.7745 - val_loss: 0.4643 - val_accuracy: 0.7712\n",
            "Epoch 88/200\n",
            "15/15 [==============================] - 0s 8ms/step - loss: 0.5084 - accuracy: 0.7553 - val_loss: 0.4459 - val_accuracy: 0.8051\n",
            "Epoch 89/200\n",
            "15/15 [==============================] - 0s 6ms/step - loss: 0.5075 - accuracy: 0.7830 - val_loss: 0.4672 - val_accuracy: 0.7712\n",
            "Epoch 90/200\n",
            "15/15 [==============================] - 0s 5ms/step - loss: 0.5051 - accuracy: 0.7649 - val_loss: 0.4692 - val_accuracy: 0.7881\n",
            "Epoch 91/200\n",
            "15/15 [==============================] - 0s 6ms/step - loss: 0.5153 - accuracy: 0.7787 - val_loss: 0.4448 - val_accuracy: 0.7966\n",
            "Epoch 92/200\n",
            "15/15 [==============================] - 0s 6ms/step - loss: 0.5055 - accuracy: 0.7585 - val_loss: 0.4586 - val_accuracy: 0.7881\n",
            "Epoch 93/200\n",
            "15/15 [==============================] - 0s 5ms/step - loss: 0.5228 - accuracy: 0.7585 - val_loss: 0.4496 - val_accuracy: 0.7966\n",
            "Epoch 94/200\n",
            "15/15 [==============================] - 0s 6ms/step - loss: 0.5030 - accuracy: 0.7553 - val_loss: 0.4846 - val_accuracy: 0.7627\n",
            "Epoch 95/200\n",
            "15/15 [==============================] - 0s 6ms/step - loss: 0.5067 - accuracy: 0.7511 - val_loss: 0.4237 - val_accuracy: 0.7966\n",
            "Epoch 96/200\n",
            "15/15 [==============================] - 0s 5ms/step - loss: 0.5098 - accuracy: 0.7702 - val_loss: 0.4637 - val_accuracy: 0.7881\n",
            "Epoch 97/200\n",
            "15/15 [==============================] - 0s 6ms/step - loss: 0.4792 - accuracy: 0.7755 - val_loss: 0.4528 - val_accuracy: 0.7881\n",
            "Epoch 98/200\n",
            "15/15 [==============================] - 0s 5ms/step - loss: 0.5203 - accuracy: 0.7489 - val_loss: 0.4615 - val_accuracy: 0.7797\n",
            "Epoch 99/200\n",
            "15/15 [==============================] - 0s 7ms/step - loss: 0.4958 - accuracy: 0.7638 - val_loss: 0.4535 - val_accuracy: 0.7966\n",
            "Epoch 100/200\n",
            "15/15 [==============================] - 0s 6ms/step - loss: 0.5073 - accuracy: 0.7585 - val_loss: 0.4688 - val_accuracy: 0.7712\n",
            "Epoch 101/200\n",
            "15/15 [==============================] - 0s 7ms/step - loss: 0.4912 - accuracy: 0.7830 - val_loss: 0.4361 - val_accuracy: 0.8051\n",
            "Epoch 102/200\n",
            "15/15 [==============================] - 0s 5ms/step - loss: 0.5151 - accuracy: 0.7649 - val_loss: 0.4561 - val_accuracy: 0.7881\n",
            "Epoch 103/200\n",
            "15/15 [==============================] - 0s 5ms/step - loss: 0.5117 - accuracy: 0.7362 - val_loss: 0.4762 - val_accuracy: 0.7542\n",
            "Epoch 104/200\n",
            "15/15 [==============================] - 0s 6ms/step - loss: 0.4918 - accuracy: 0.7532 - val_loss: 0.4504 - val_accuracy: 0.7881\n",
            "Epoch 105/200\n",
            "15/15 [==============================] - 0s 6ms/step - loss: 0.5043 - accuracy: 0.7894 - val_loss: 0.4564 - val_accuracy: 0.7881\n",
            "Epoch 106/200\n",
            "15/15 [==============================] - 0s 5ms/step - loss: 0.5072 - accuracy: 0.7500 - val_loss: 0.4680 - val_accuracy: 0.7712\n",
            "Epoch 107/200\n",
            "15/15 [==============================] - 0s 6ms/step - loss: 0.5184 - accuracy: 0.7723 - val_loss: 0.4383 - val_accuracy: 0.8051\n",
            "Epoch 108/200\n",
            "15/15 [==============================] - 0s 5ms/step - loss: 0.5009 - accuracy: 0.7670 - val_loss: 0.4529 - val_accuracy: 0.7881\n",
            "Epoch 109/200\n",
            "15/15 [==============================] - 0s 5ms/step - loss: 0.4928 - accuracy: 0.7755 - val_loss: 0.4393 - val_accuracy: 0.8051\n",
            "Epoch 110/200\n",
            "15/15 [==============================] - 0s 7ms/step - loss: 0.5151 - accuracy: 0.7564 - val_loss: 0.4650 - val_accuracy: 0.7797\n",
            "Epoch 111/200\n",
            "15/15 [==============================] - 0s 6ms/step - loss: 0.4984 - accuracy: 0.7681 - val_loss: 0.4581 - val_accuracy: 0.7797\n",
            "Epoch 112/200\n",
            "15/15 [==============================] - 0s 6ms/step - loss: 0.5013 - accuracy: 0.7564 - val_loss: 0.4517 - val_accuracy: 0.7881\n",
            "Epoch 113/200\n",
            "15/15 [==============================] - 0s 5ms/step - loss: 0.4989 - accuracy: 0.7521 - val_loss: 0.4625 - val_accuracy: 0.7797\n",
            "Epoch 114/200\n",
            "15/15 [==============================] - 0s 5ms/step - loss: 0.5144 - accuracy: 0.7734 - val_loss: 0.4356 - val_accuracy: 0.8051\n",
            "Epoch 115/200\n",
            "15/15 [==============================] - 0s 7ms/step - loss: 0.4950 - accuracy: 0.7564 - val_loss: 0.4596 - val_accuracy: 0.7797\n",
            "Epoch 116/200\n",
            "15/15 [==============================] - 0s 5ms/step - loss: 0.4920 - accuracy: 0.7723 - val_loss: 0.4451 - val_accuracy: 0.7966\n",
            "Epoch 117/200\n",
            "15/15 [==============================] - 0s 7ms/step - loss: 0.5094 - accuracy: 0.7713 - val_loss: 0.4668 - val_accuracy: 0.7712\n",
            "Epoch 118/200\n",
            "15/15 [==============================] - 0s 6ms/step - loss: 0.5159 - accuracy: 0.7415 - val_loss: 0.4306 - val_accuracy: 0.7966\n",
            "Epoch 119/200\n",
            "15/15 [==============================] - 0s 5ms/step - loss: 0.4781 - accuracy: 0.7872 - val_loss: 0.4476 - val_accuracy: 0.7881\n",
            "Epoch 120/200\n",
            "15/15 [==============================] - 0s 7ms/step - loss: 0.4786 - accuracy: 0.7734 - val_loss: 0.4430 - val_accuracy: 0.7881\n",
            "Epoch 121/200\n",
            "15/15 [==============================] - 0s 5ms/step - loss: 0.5158 - accuracy: 0.7628 - val_loss: 0.4457 - val_accuracy: 0.7881\n",
            "Epoch 122/200\n",
            "15/15 [==============================] - 0s 5ms/step - loss: 0.4906 - accuracy: 0.7691 - val_loss: 0.4583 - val_accuracy: 0.7797\n",
            "Epoch 123/200\n",
            "15/15 [==============================] - 0s 6ms/step - loss: 0.4863 - accuracy: 0.7766 - val_loss: 0.4367 - val_accuracy: 0.7966\n",
            "Epoch 124/200\n",
            "15/15 [==============================] - 0s 6ms/step - loss: 0.4887 - accuracy: 0.7628 - val_loss: 0.4578 - val_accuracy: 0.7797\n",
            "Epoch 125/200\n",
            "15/15 [==============================] - 0s 5ms/step - loss: 0.5076 - accuracy: 0.7766 - val_loss: 0.4518 - val_accuracy: 0.7881\n",
            "Epoch 126/200\n",
            "15/15 [==============================] - 0s 6ms/step - loss: 0.4904 - accuracy: 0.7819 - val_loss: 0.4512 - val_accuracy: 0.7881\n",
            "Epoch 127/200\n",
            "15/15 [==============================] - 0s 6ms/step - loss: 0.4873 - accuracy: 0.7819 - val_loss: 0.4433 - val_accuracy: 0.7966\n",
            "Epoch 128/200\n",
            "15/15 [==============================] - 0s 5ms/step - loss: 0.4660 - accuracy: 0.7904 - val_loss: 0.4434 - val_accuracy: 0.7966\n",
            "Epoch 129/200\n",
            "15/15 [==============================] - 0s 7ms/step - loss: 0.4889 - accuracy: 0.7872 - val_loss: 0.4349 - val_accuracy: 0.8051\n",
            "Epoch 130/200\n",
            "15/15 [==============================] - 0s 5ms/step - loss: 0.5021 - accuracy: 0.7649 - val_loss: 0.4534 - val_accuracy: 0.7966\n",
            "Epoch 131/200\n",
            "15/15 [==============================] - 0s 7ms/step - loss: 0.5054 - accuracy: 0.7319 - val_loss: 0.4550 - val_accuracy: 0.7881\n",
            "Epoch 132/200\n",
            "15/15 [==============================] - 1s 76ms/step - loss: 0.4560 - accuracy: 0.8032 - val_loss: 0.4220 - val_accuracy: 0.8220\n",
            "Epoch 133/200\n",
            "15/15 [==============================] - 0s 6ms/step - loss: 0.4736 - accuracy: 0.7979 - val_loss: 0.4269 - val_accuracy: 0.8136\n",
            "Epoch 134/200\n",
            "15/15 [==============================] - 0s 5ms/step - loss: 0.4572 - accuracy: 0.7830 - val_loss: 0.4467 - val_accuracy: 0.7881\n",
            "Epoch 135/200\n",
            "15/15 [==============================] - 0s 5ms/step - loss: 0.4970 - accuracy: 0.7702 - val_loss: 0.4360 - val_accuracy: 0.7881\n",
            "Epoch 136/200\n",
            "15/15 [==============================] - 0s 6ms/step - loss: 0.4781 - accuracy: 0.7766 - val_loss: 0.4550 - val_accuracy: 0.7881\n",
            "Epoch 137/200\n",
            "15/15 [==============================] - 0s 6ms/step - loss: 0.4853 - accuracy: 0.7670 - val_loss: 0.4300 - val_accuracy: 0.8051\n",
            "Epoch 138/200\n",
            "15/15 [==============================] - 0s 5ms/step - loss: 0.4589 - accuracy: 0.7830 - val_loss: 0.4334 - val_accuracy: 0.8051\n",
            "Epoch 139/200\n",
            "15/15 [==============================] - 0s 5ms/step - loss: 0.4956 - accuracy: 0.7638 - val_loss: 0.4339 - val_accuracy: 0.7966\n",
            "Epoch 140/200\n",
            "15/15 [==============================] - 0s 5ms/step - loss: 0.4887 - accuracy: 0.7691 - val_loss: 0.4422 - val_accuracy: 0.7966\n",
            "Epoch 141/200\n",
            "15/15 [==============================] - 0s 5ms/step - loss: 0.4886 - accuracy: 0.7723 - val_loss: 0.4483 - val_accuracy: 0.7966\n",
            "Epoch 142/200\n",
            "15/15 [==============================] - 0s 6ms/step - loss: 0.4955 - accuracy: 0.7713 - val_loss: 0.4593 - val_accuracy: 0.7797\n",
            "Epoch 143/200\n",
            "15/15 [==============================] - 0s 7ms/step - loss: 0.4937 - accuracy: 0.7489 - val_loss: 0.4327 - val_accuracy: 0.8051\n",
            "Epoch 144/200\n",
            "15/15 [==============================] - 0s 5ms/step - loss: 0.4805 - accuracy: 0.7723 - val_loss: 0.4391 - val_accuracy: 0.8051\n",
            "Epoch 145/200\n",
            "15/15 [==============================] - 0s 7ms/step - loss: 0.4314 - accuracy: 0.8000 - val_loss: 0.4259 - val_accuracy: 0.8220\n",
            "Epoch 146/200\n",
            "15/15 [==============================] - 0s 5ms/step - loss: 0.4716 - accuracy: 0.7862 - val_loss: 0.4284 - val_accuracy: 0.8136\n",
            "Epoch 147/200\n",
            "15/15 [==============================] - 0s 5ms/step - loss: 0.4625 - accuracy: 0.7862 - val_loss: 0.4333 - val_accuracy: 0.8136\n",
            "Epoch 148/200\n",
            "15/15 [==============================] - 0s 5ms/step - loss: 0.4673 - accuracy: 0.7926 - val_loss: 0.4201 - val_accuracy: 0.8220\n",
            "Epoch 149/200\n",
            "15/15 [==============================] - 0s 5ms/step - loss: 0.4691 - accuracy: 0.7979 - val_loss: 0.4270 - val_accuracy: 0.8136\n",
            "Epoch 150/200\n",
            "15/15 [==============================] - 0s 6ms/step - loss: 0.4678 - accuracy: 0.7638 - val_loss: 0.4386 - val_accuracy: 0.8136\n",
            "Epoch 151/200\n",
            "15/15 [==============================] - 0s 6ms/step - loss: 0.4593 - accuracy: 0.8011 - val_loss: 0.4253 - val_accuracy: 0.8136\n",
            "Epoch 152/200\n",
            "15/15 [==============================] - 0s 5ms/step - loss: 0.4638 - accuracy: 0.8000 - val_loss: 0.4354 - val_accuracy: 0.8136\n",
            "Epoch 153/200\n",
            "15/15 [==============================] - 0s 6ms/step - loss: 0.4763 - accuracy: 0.7957 - val_loss: 0.4419 - val_accuracy: 0.8136\n",
            "Epoch 154/200\n",
            "15/15 [==============================] - 0s 7ms/step - loss: 0.4577 - accuracy: 0.7606 - val_loss: 0.4427 - val_accuracy: 0.8051\n",
            "Epoch 155/200\n",
            "15/15 [==============================] - 0s 6ms/step - loss: 0.4538 - accuracy: 0.8000 - val_loss: 0.4172 - val_accuracy: 0.8220\n",
            "Epoch 156/200\n",
            "15/15 [==============================] - 0s 5ms/step - loss: 0.4760 - accuracy: 0.7819 - val_loss: 0.4287 - val_accuracy: 0.8051\n",
            "Epoch 157/200\n",
            "15/15 [==============================] - 0s 5ms/step - loss: 0.4662 - accuracy: 0.7872 - val_loss: 0.4485 - val_accuracy: 0.8051\n",
            "Epoch 158/200\n",
            "15/15 [==============================] - 0s 5ms/step - loss: 0.4552 - accuracy: 0.7755 - val_loss: 0.4261 - val_accuracy: 0.8136\n",
            "Epoch 159/200\n",
            "15/15 [==============================] - 0s 6ms/step - loss: 0.4736 - accuracy: 0.7926 - val_loss: 0.4450 - val_accuracy: 0.7966\n",
            "Epoch 160/200\n",
            "15/15 [==============================] - 0s 6ms/step - loss: 0.4649 - accuracy: 0.7787 - val_loss: 0.4433 - val_accuracy: 0.7966\n",
            "Epoch 161/200\n",
            "15/15 [==============================] - 0s 5ms/step - loss: 0.4750 - accuracy: 0.7936 - val_loss: 0.4251 - val_accuracy: 0.8220\n",
            "Epoch 162/200\n",
            "15/15 [==============================] - 0s 6ms/step - loss: 0.4523 - accuracy: 0.7851 - val_loss: 0.4388 - val_accuracy: 0.8136\n",
            "Epoch 163/200\n",
            "15/15 [==============================] - 0s 6ms/step - loss: 0.4789 - accuracy: 0.7894 - val_loss: 0.4240 - val_accuracy: 0.8220\n",
            "Epoch 164/200\n",
            "15/15 [==============================] - 0s 7ms/step - loss: 0.4721 - accuracy: 0.7649 - val_loss: 0.4602 - val_accuracy: 0.7881\n",
            "Epoch 165/200\n",
            "15/15 [==============================] - 0s 6ms/step - loss: 0.4702 - accuracy: 0.7957 - val_loss: 0.4071 - val_accuracy: 0.8220\n",
            "Epoch 166/200\n",
            "15/15 [==============================] - 0s 6ms/step - loss: 0.4462 - accuracy: 0.8117 - val_loss: 0.4315 - val_accuracy: 0.8220\n",
            "Epoch 167/200\n",
            "15/15 [==============================] - 0s 6ms/step - loss: 0.4624 - accuracy: 0.7830 - val_loss: 0.4357 - val_accuracy: 0.8220\n",
            "Epoch 168/200\n",
            "15/15 [==============================] - 0s 6ms/step - loss: 0.4461 - accuracy: 0.7734 - val_loss: 0.4388 - val_accuracy: 0.8136\n",
            "Epoch 169/200\n",
            "15/15 [==============================] - 0s 5ms/step - loss: 0.4769 - accuracy: 0.7638 - val_loss: 0.4145 - val_accuracy: 0.8220\n",
            "Epoch 170/200\n",
            "15/15 [==============================] - 0s 5ms/step - loss: 0.4708 - accuracy: 0.7936 - val_loss: 0.4272 - val_accuracy: 0.8220\n",
            "Epoch 171/200\n",
            "15/15 [==============================] - 0s 5ms/step - loss: 0.4890 - accuracy: 0.7543 - val_loss: 0.4538 - val_accuracy: 0.7966\n",
            "Epoch 172/200\n",
            "15/15 [==============================] - 0s 5ms/step - loss: 0.4726 - accuracy: 0.7755 - val_loss: 0.4355 - val_accuracy: 0.8136\n",
            "Epoch 173/200\n",
            "15/15 [==============================] - 0s 6ms/step - loss: 0.4506 - accuracy: 0.7851 - val_loss: 0.4335 - val_accuracy: 0.8051\n",
            "Epoch 174/200\n",
            "15/15 [==============================] - 0s 6ms/step - loss: 0.4701 - accuracy: 0.7851 - val_loss: 0.4127 - val_accuracy: 0.8220\n",
            "Epoch 175/200\n",
            "15/15 [==============================] - 0s 7ms/step - loss: 0.4569 - accuracy: 0.8032 - val_loss: 0.4359 - val_accuracy: 0.8136\n",
            "Epoch 176/200\n",
            "15/15 [==============================] - 0s 7ms/step - loss: 0.4674 - accuracy: 0.7734 - val_loss: 0.4381 - val_accuracy: 0.8051\n",
            "Epoch 177/200\n",
            "15/15 [==============================] - 0s 5ms/step - loss: 0.4621 - accuracy: 0.7830 - val_loss: 0.4319 - val_accuracy: 0.8136\n",
            "Epoch 178/200\n",
            "15/15 [==============================] - 0s 5ms/step - loss: 0.4457 - accuracy: 0.8064 - val_loss: 0.4214 - val_accuracy: 0.8220\n",
            "Epoch 179/200\n",
            "15/15 [==============================] - 0s 5ms/step - loss: 0.4583 - accuracy: 0.7915 - val_loss: 0.4295 - val_accuracy: 0.8136\n",
            "Epoch 180/200\n",
            "15/15 [==============================] - 0s 6ms/step - loss: 0.4655 - accuracy: 0.7915 - val_loss: 0.4160 - val_accuracy: 0.8220\n",
            "Epoch 181/200\n",
            "15/15 [==============================] - 0s 6ms/step - loss: 0.4548 - accuracy: 0.7979 - val_loss: 0.4273 - val_accuracy: 0.8136\n",
            "Epoch 182/200\n",
            "15/15 [==============================] - 0s 6ms/step - loss: 0.4521 - accuracy: 0.7968 - val_loss: 0.4298 - val_accuracy: 0.8136\n",
            "Epoch 183/200\n",
            "15/15 [==============================] - 0s 7ms/step - loss: 0.4340 - accuracy: 0.8011 - val_loss: 0.4090 - val_accuracy: 0.8220\n",
            "Epoch 184/200\n",
            "15/15 [==============================] - 0s 6ms/step - loss: 0.4450 - accuracy: 0.8011 - val_loss: 0.4361 - val_accuracy: 0.8136\n",
            "Epoch 185/200\n",
            "15/15 [==============================] - 0s 8ms/step - loss: 0.4601 - accuracy: 0.7755 - val_loss: 0.4442 - val_accuracy: 0.8136\n",
            "Epoch 186/200\n",
            "15/15 [==============================] - 1s 76ms/step - loss: 0.4443 - accuracy: 0.8106 - val_loss: 0.4074 - val_accuracy: 0.8305\n",
            "Epoch 187/200\n",
            "15/15 [==============================] - 0s 6ms/step - loss: 0.4542 - accuracy: 0.8000 - val_loss: 0.4474 - val_accuracy: 0.7966\n",
            "Epoch 188/200\n",
            "15/15 [==============================] - 0s 6ms/step - loss: 0.4569 - accuracy: 0.7660 - val_loss: 0.4340 - val_accuracy: 0.8136\n",
            "Epoch 189/200\n",
            "15/15 [==============================] - 0s 6ms/step - loss: 0.4430 - accuracy: 0.8074 - val_loss: 0.4121 - val_accuracy: 0.8136\n",
            "Epoch 190/200\n",
            "15/15 [==============================] - 0s 5ms/step - loss: 0.4513 - accuracy: 0.7947 - val_loss: 0.4316 - val_accuracy: 0.8136\n",
            "Epoch 191/200\n",
            "15/15 [==============================] - 0s 6ms/step - loss: 0.4664 - accuracy: 0.7660 - val_loss: 0.4555 - val_accuracy: 0.7881\n",
            "Epoch 192/200\n",
            "15/15 [==============================] - 0s 5ms/step - loss: 0.4489 - accuracy: 0.8053 - val_loss: 0.4199 - val_accuracy: 0.8136\n",
            "Epoch 193/200\n",
            "15/15 [==============================] - 0s 6ms/step - loss: 0.4683 - accuracy: 0.7787 - val_loss: 0.4427 - val_accuracy: 0.8051\n",
            "Epoch 194/200\n",
            "15/15 [==============================] - 0s 6ms/step - loss: 0.4496 - accuracy: 0.7745 - val_loss: 0.4397 - val_accuracy: 0.8136\n",
            "Epoch 195/200\n",
            "15/15 [==============================] - 0s 5ms/step - loss: 0.4371 - accuracy: 0.8096 - val_loss: 0.4176 - val_accuracy: 0.8136\n",
            "Epoch 196/200\n",
            "15/15 [==============================] - 0s 7ms/step - loss: 0.4159 - accuracy: 0.8234 - val_loss: 0.4185 - val_accuracy: 0.8136\n",
            "Epoch 197/200\n",
            "15/15 [==============================] - 0s 6ms/step - loss: 0.4252 - accuracy: 0.7936 - val_loss: 0.4068 - val_accuracy: 0.8136\n",
            "Epoch 198/200\n",
            "15/15 [==============================] - 0s 6ms/step - loss: 0.4377 - accuracy: 0.8032 - val_loss: 0.4192 - val_accuracy: 0.8136\n",
            "Epoch 199/200\n",
            "15/15 [==============================] - 0s 6ms/step - loss: 0.4342 - accuracy: 0.8011 - val_loss: 0.4320 - val_accuracy: 0.7966\n",
            "Epoch 200/200\n",
            "15/15 [==============================] - 0s 6ms/step - loss: 0.4286 - accuracy: 0.8074 - val_loss: 0.4168 - val_accuracy: 0.8136\n"
          ]
        }
      ]
    },
    {
      "cell_type": "markdown",
      "source": [
        "### Training Evaluation"
      ],
      "metadata": {
        "id": "H7O83PX5IIa6"
      }
    },
    {
      "cell_type": "code",
      "source": [
        "# Obtain training and validation metrics\n",
        "train_acc = history3.history['accuracy']\n",
        "val_acc = history3.history['val_accuracy']\n",
        "train_loss = history3.history['loss']\n",
        "val_loss = history3.history['val_loss']\n",
        "epochs = range(1, len(train_acc) + 1)\n",
        "\n",
        "# Accuracy over epochs\n",
        "plt.plot(epochs, train_acc, color='blue', label='Training Accuracy')\n",
        "plt.plot(epochs, val_acc, color='red', label='Validation Accuracy')\n",
        "plt.title(\"Accuracy over epochs\", fontsize=14)\n",
        "plt.xlabel('Epochs')\n",
        "plt.legend(loc='lower right')\n",
        "plt.show()\n",
        "\n",
        "# Print best validation accuracy and epoch\n",
        "print(\"Best validation accuracy was %5.3f at epoch %2.f\" % (np.max(val_acc), np.argmax(val_acc)+1))"
      ],
      "metadata": {
        "colab": {
          "base_uri": "https://localhost:8080/",
          "height": 313
        },
        "id": "IDVxKj_Sm5Y6",
        "outputId": "ec330d74-2e39-4f90-94ba-a1e5b5264410"
      },
      "execution_count": 341,
      "outputs": [
        {
          "output_type": "display_data",
          "data": {
            "text/plain": [
              "<Figure size 432x288 with 1 Axes>"
            ],
            "image/png": "[encoded data removed]"
          },
          "metadata": {
            "needs_background": "light"
          }
        },
        {
          "output_type": "stream",
          "name": "stdout",
          "text": [
            "Best validation accuracy was 0.831 at epoch 186\n"
          ]
        }
      ]
    },
    {
      "cell_type": "markdown",
      "source": [
        "The best validation accuracy was 0.831 at epoch 186, which was less than the validation accuracy of the first model architecture (0.873 at epoch 164) but greater than the validation accuracy of the second model architecture (0.780 at epoch 114). The accuracies began high, most likely due to chance in the mini-batches, and then decreased within the first 5 epochs. Afterwards, the accuracies began to increase.The validation accuracy and training accuracy appear to be close together. More training time could potentially be done as the accuracies somewhat seem to have potential to continue increasing."
      ],
      "metadata": {
        "id": "zglltcGsIQSA"
      }
    },
    {
      "cell_type": "code",
      "source": [
        "# Loss over epochs\n",
        "plt.plot(epochs, train_loss, color='blue', label='Training Loss')\n",
        "plt.plot(epochs, val_loss, color='red', label='Validation Loss')\n",
        "plt.title(\"Loss over epochs\", fontsize=14)\n",
        "plt.xlabel('Epochs')\n",
        "plt.legend(loc='upper right')\n",
        "plt.show()"
      ],
      "metadata": {
        "colab": {
          "base_uri": "https://localhost:8080/",
          "height": 296
        },
        "id": "Q1-ekSfRm7Ev",
        "outputId": "c2be7297-c622-4f4d-c01b-9cd56721f43b"
      },
      "execution_count": 342,
      "outputs": [
        {
          "output_type": "display_data",
          "data": {
            "text/plain": [
              "<Figure size 432x288 with 1 Axes>"
            ],
            "image/png": "[encoded data removed]"
          },
          "metadata": {
            "needs_background": "light"
          }
        }
      ]
    },
    {
      "cell_type": "markdown",
      "source": [
        "The validation loss was consistently below the training loss. The loss in the validation seems to be around 0.40 by the end of the training, which matches that of the training loss. There could be potential for more training if there were more epochs."
      ],
      "metadata": {
        "id": "qJz8lQYdJWB3"
      }
    },
    {
      "cell_type": "markdown",
      "source": [
        "## Final Model Evaluation"
      ],
      "metadata": {
        "id": "DC3uuWak8FpK"
      }
    },
    {
      "cell_type": "markdown",
      "source": [
        "The best model architecture appeared to be the third model architecture. This model had the second greatest validation accuracy (0.831) as compared to the other model architectures (0.873 and 0.780, respectively). The first model architecture observed overfitting, as the validation accuracy begin to deviate from the training accuracy at around epoch 70, then the validation accuracy plateaud afterwards. The second architecture had the slight potential to train more as it was slightly underfitting, where the losses were still trending downwards. The third architecture similar accuracy and loss between the training and testing dataset, and had a lower validation loss than the second model. I believe that the third model is the best model as the first architecture had much overfitting, and the second model architecture had slight underfitting, whereas the third model improved accuracy from the second model while also retaining close accuracy and loss between the training and validation set."
      ],
      "metadata": {
        "id": "15_JdlFaJuYp"
      }
    },
    {
      "cell_type": "markdown",
      "source": [
        "### Obtain Best Model"
      ],
      "metadata": {
        "id": "ohOcTY5JJwkn"
      }
    },
    {
      "cell_type": "code",
      "source": [
        "# Get weights of models from epoch with best val accuracy\n",
        "model.load_weights(\"model1.ckpt\")\n",
        "model2.load_weights(\"model2.ckpt\")\n",
        "model3.load_weights(\"model3.ckpt\")\n",
        "\n",
        "# Save models to local drive in case Google Colab crashes\n",
        "!mkdir -p saved_model\n",
        "model3.save('saved_model/model3')\n",
        "model2.save('saved_model/model1')\n",
        "model.save('saved_model/model2')"
      ],
      "metadata": {
        "id": "p86cqiz18HBE"
      },
      "execution_count": 344,
      "outputs": []
    },
    {
      "cell_type": "markdown",
      "source": [
        "### Accuracy"
      ],
      "metadata": {
        "id": "ecXt4vkgLipY"
      }
    },
    {
      "cell_type": "code",
      "source": [
        "# Get accuracy on testing set\n",
        "loss, accuracy = model3.evaluate(test_x, test_y)\n",
        "print('Accuracy on test dataset: %5.3f' % (accuracy))"
      ],
      "metadata": {
        "colab": {
          "base_uri": "https://localhost:8080/"
        },
        "id": "HIjuW7Y88Z1z",
        "outputId": "c784a496-428e-4e9e-a29f-83478ed197cb"
      },
      "execution_count": 345,
      "outputs": [
        {
          "output_type": "stream",
          "name": "stdout",
          "text": [
            "4/4 [==============================] - 0s 9ms/step - loss: 0.4281 - accuracy: 0.8136\n",
            "Accuracy on test dataset: 0.814\n"
          ]
        }
      ]
    },
    {
      "cell_type": "markdown",
      "source": [
        "### Confusion Matrix"
      ],
      "metadata": {
        "id": "UFG4zSqTLmyL"
      }
    },
    {
      "cell_type": "code",
      "source": [
        "# Get predictions\n",
        "test_pred = model3.predict(test_x)"
      ],
      "metadata": {
        "colab": {
          "base_uri": "https://localhost:8080/"
        },
        "id": "7rNCGz_e8i-F",
        "outputId": "fa92a2e7-abe8-4091-8be8-cf9024eb3f5e"
      },
      "execution_count": 346,
      "outputs": [
        {
          "output_type": "stream",
          "name": "stdout",
          "text": [
            "4/4 [==============================] - 0s 3ms/step\n"
          ]
        }
      ]
    },
    {
      "cell_type": "code",
      "source": [
        "# Check predictions\n",
        "test_pred[0:5]"
      ],
      "metadata": {
        "colab": {
          "base_uri": "https://localhost:8080/"
        },
        "id": "9x-BoFIa8nLK",
        "outputId": "762c7832-9ce9-405a-e8df-b60be818a536"
      },
      "execution_count": 348,
      "outputs": [
        {
          "output_type": "execute_result",
          "data": {
            "text/plain": [
              "array([[0.1500526 ],\n",
              "       [0.18358165],\n",
              "       [0.03791126],\n",
              "       [0.14376739],\n",
              "       [0.8128861 ]], dtype=float32)"
            ]
          },
          "metadata": {},
          "execution_count": 348
        }
      ]
    },
    {
      "cell_type": "code",
      "source": [
        "# Get confusion matrix\n",
        "conf_matrix = tf.math.confusion_matrix(labels=test_y, predictions=np.rint(test_pred))\n",
        "conf_matrix"
      ],
      "metadata": {
        "colab": {
          "base_uri": "https://localhost:8080/"
        },
        "id": "GXgvYhT-8oxd",
        "outputId": "b2ee489f-3ece-4db9-a461-bcb735214948"
      },
      "execution_count": 372,
      "outputs": [
        {
          "output_type": "execute_result",
          "data": {
            "text/plain": [
              "<tf.Tensor: shape=(2, 2), dtype=int32, numpy=\n",
              "array([[86, 15],\n",
              "       [ 7, 10]], dtype=int32)>"
            ]
          },
          "metadata": {},
          "execution_count": 372
        }
      ]
    },
    {
      "cell_type": "markdown",
      "source": [
        "### ROC"
      ],
      "metadata": {
        "id": "wVahAKIEMax6"
      }
    },
    {
      "cell_type": "code",
      "source": [
        "# Get ROC curve variables\n",
        "fpr, tpr, thresh = roc_curve(test_y, test_pred)\n",
        "model_auc = auc(fpr, tpr)"
      ],
      "metadata": {
        "id": "-myxrLfz8_hc"
      },
      "execution_count": 353,
      "outputs": []
    },
    {
      "cell_type": "code",
      "source": [
        "# Plot ROC curve\n",
        "plt.plot([0, 1], [0, 1], 'k--')\n",
        "plt.plot(fpr, tpr, label='Final Model (area = {:.3f})'.format(model_auc))\n",
        "plt.xlabel('False positive rate')\n",
        "plt.ylabel('True positive rate')\n",
        "plt.legend(loc='lower right')\n",
        "plt.title('ROC Curve')\n",
        "plt.show()"
      ],
      "metadata": {
        "colab": {
          "base_uri": "https://localhost:8080/",
          "height": 295
        },
        "id": "YlbjL4fr9ESD",
        "outputId": "6d15a3c7-eb58-4c10-a719-50f1c1e08cb0"
      },
      "execution_count": 354,
      "outputs": [
        {
          "output_type": "display_data",
          "data": {
            "text/plain": [
              "<Figure size 432x288 with 1 Axes>"
            ],
            "image/png": "[encoded data removed]"
          },
          "metadata": {
            "needs_background": "light"
          }
        }
      ]
    },
    {
      "cell_type": "markdown",
      "source": [
        "### Precision-Recall Curve"
      ],
      "metadata": {
        "id": "JzYcym5ZMcLP"
      }
    },
    {
      "cell_type": "code",
      "source": [
        "# Get precision-recall variables\n",
        "precision, recall, thresholds = precision_recall_curve(test_y, test_pred)\n",
        "model_auprc = auc(recall, precision)"
      ],
      "metadata": {
        "id": "FYfmJmJ19Nhq"
      },
      "execution_count": 358,
      "outputs": []
    },
    {
      "cell_type": "code",
      "source": [
        "# Plot precision-recall curve\n",
        "plt.plot(recall, precision, label='Final Model (area = {:.3f})'.format(model_auprc))\n",
        "plt.xlabel('Recall')\n",
        "plt.ylabel('Precision')\n",
        "plt.legend(loc='upper right')\n",
        "plt.title('Precision-Recall Curve')\n",
        "plt.show()"
      ],
      "metadata": {
        "colab": {
          "base_uri": "https://localhost:8080/",
          "height": 295
        },
        "id": "jM2397MQ9R-S",
        "outputId": "08011010-4dbc-4f4c-81b2-db771182ab83"
      },
      "execution_count": 362,
      "outputs": [
        {
          "output_type": "display_data",
          "data": {
            "text/plain": [
              "<Figure size 432x288 with 1 Axes>"
            ],
            "image/png": "[encoded data removed]"
          },
          "metadata": {
            "needs_background": "light"
          }
        }
      ]
    },
    {
      "cell_type": "markdown",
      "source": [
        "### F1-Score"
      ],
      "metadata": {
        "id": "SGXO6NdNMfg3"
      }
    },
    {
      "cell_type": "code",
      "source": [
        "# Get F1 score\n",
        "f1 = f1_score(test_y, np.rint(test_pred))\n",
        "print(\"The F1-score was %5.3f\" % (f1))"
      ],
      "metadata": {
        "colab": {
          "base_uri": "https://localhost:8080/"
        },
        "id": "dRW3FC32-EmK",
        "outputId": "865011f0-9409-4695-c56a-a3d6dadd7357"
      },
      "execution_count": 365,
      "outputs": [
        {
          "output_type": "stream",
          "name": "stdout",
          "text": [
            "The F1-score was 0.476\n"
          ]
        }
      ]
    }
  ]
}